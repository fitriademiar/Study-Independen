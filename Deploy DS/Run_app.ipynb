{
  "nbformat": 4,
  "nbformat_minor": 0,
  "metadata": {
    "colab": {
      "private_outputs": true,
      "provenance": []
    },
    "kernelspec": {
      "name": "python3",
      "display_name": "Python 3"
    },
    "language_info": {
      "name": "python"
    }
  },
  "cells": [
    {
      "cell_type": "code",
      "execution_count": null,
      "metadata": {
        "id": "qt8eRSXxcwA8"
      },
      "outputs": [],
      "source": [
        "#Pastikan versi sckit-learn ==1.2.2\n",
        "#Jika tidak sesuai, install scikit learn yang sesuai\n",
        "!pip show scikit-learn"
      ]
    },
    {
      "cell_type": "code",
      "source": [
        "#Melakukan instalasi Packages yang dibutuhkan\n",
        "!pip install flask --quiet\n",
        "!pip install flask-ngrok --quiet\n",
        "print(\"Completed!\")"
      ],
      "metadata": {
        "id": "353Fu9eadHbR"
      },
      "execution_count": null,
      "outputs": []
    },
    {
      "cell_type": "code",
      "source": [
        "#Download \"ngrok\"\n",
        "!wget https://bin.equinox.io/c/4VmDzA7iaHb/ngrok-stable-linux-amd64.tgz\n",
        "!tar -xvf /content/ngrok-stable-linux-amd64.tgz"
      ],
      "metadata": {
        "id": "rMqu0j9idbR-"
      },
      "execution_count": null,
      "outputs": []
    },
    {
      "cell_type": "code",
      "source": [
        "#Setting Token\n",
        "!./ngrok authtoken 2gHB4L0Hjy27k9VAEz495orMnBs_25iCRZxGCTE4Wm15LQbv8"
      ],
      "metadata": {
        "id": "XPkZ1I_4ewA6"
      },
      "execution_count": null,
      "outputs": []
    },
    {
      "cell_type": "code",
      "source": [
        "#Clone Repository dari Github\n",
        "!git clone https://github.com/fitriademiar/DeploymetDS"
      ],
      "metadata": {
        "id": "2PXVTi5yhC0e"
      },
      "execution_count": null,
      "outputs": []
    },
    {
      "cell_type": "code",
      "source": [
        "cd /content/DeploymetDS/Deploy_DS/app"
      ],
      "metadata": {
        "id": "45XQ5Br3jBwr"
      },
      "execution_count": null,
      "outputs": []
    },
    {
      "cell_type": "code",
      "source": [
        "!python3 app.py"
      ],
      "metadata": {
        "id": "WC2smbNGmL0R"
      },
      "execution_count": null,
      "outputs": []
    },
    {
      "cell_type": "code",
      "source": [],
      "metadata": {
        "id": "rGZ3Y8LF64gB"
      },
      "execution_count": null,
      "outputs": []
    }
  ]
}