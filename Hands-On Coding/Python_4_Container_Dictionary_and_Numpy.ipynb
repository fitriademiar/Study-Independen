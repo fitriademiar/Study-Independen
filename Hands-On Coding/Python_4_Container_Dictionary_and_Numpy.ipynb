{
  "nbformat": 4,
  "nbformat_minor": 0,
  "metadata": {
    "colab": {
      "provenance": [],
      "include_colab_link": true
    },
    "kernelspec": {
      "name": "python3",
      "display_name": "Python 3"
    },
    "language_info": {
      "name": "python"
    }
  },
  "cells": [
    {
      "cell_type": "markdown",
      "metadata": {
        "id": "view-in-github",
        "colab_type": "text"
      },
      "source": [
        "<a href=\"https://colab.research.google.com/github/fitriademiar/Study-Independen/blob/main/Python_4_Container_Dictionary_and_Numpy.ipynb\" target=\"_parent\"><img src=\"https://colab.research.google.com/assets/colab-badge.svg\" alt=\"Open In Colab\"/></a>"
      ]
    },
    {
      "cell_type": "markdown",
      "source": [
        "# Python-2 Container\n",
        "\n",
        "Container merupakan tipe data yang sangat berguna dalam AI karena mampu menampung banyak *primitive data types* di dalamnya. Container juga dikenal dengan sebutan *non-primitive data types*. Terdapat lima jenis container Python yang akan kita bahas, antara lain:\n",
        "\n",
        "- `list`\n",
        "- `tuple`\n",
        "- `set`\n",
        "- `dictionary`\n",
        "- `array`"
      ],
      "metadata": {
        "id": "tydtQwZczmAq"
      }
    },
    {
      "cell_type": "markdown",
      "source": [
        "# Dictionary\n",
        "\n",
        "Dictionary adalah kumpulan dari pasangan key dan value yang tak terurut. Dictionary termasuk tipe data mutable."
      ],
      "metadata": {
        "id": "peDX9nsWzyjv"
      }
    },
    {
      "cell_type": "markdown",
      "source": [
        "## Membuat Dictionary\n",
        "\n",
        "Tuple dibuat dengan memberikan identifier dan data pada tuple. Data tuple tersusun atas pasangan key dan value yang diapit oleh simbol kurung kurawal atau curly brackets `{}`.\n",
        "\n",
        "Tiap key harus unik dan dihubungkan dengan sebuah value (*item*) menggunakan simbol titik dua atau colon (`:`).\n",
        "\n",
        "Pasangan key dan value dalam dictionary dipisahkan dengan pasangan key dan value lainnya menggunakan simbol koma `(,)`"
      ],
      "metadata": {
        "id": "V09fVO9r05cq"
      }
    },
    {
      "cell_type": "code",
      "execution_count": null,
      "metadata": {
        "colab": {
          "base_uri": "https://localhost:8080/"
        },
        "id": "YV3hJiDezVZF",
        "outputId": "3ac67111-3e4c-4c29-ff50-1d00639065b3"
      },
      "outputs": [
        {
          "output_type": "stream",
          "name": "stdout",
          "text": [
            "{'nama': 'Imut', 'jenis': 'kucing', 'warna': 'jingga', 'umur': 1.5, 'jenis_kelamin': 0, 'vaksin': False}\n"
          ]
        }
      ],
      "source": [
        "myPet = {'nama' : 'Imut', 'jenis':'kucing', 'warna':'jingga', 'umur':1.5, 'jenis_kelamin':0, 'vaksin': False }\n",
        "print(myPet)"
      ]
    },
    {
      "cell_type": "markdown",
      "source": [
        "Pembuatan dictionary dapat dilakukan seperti ini untuk mempermudah penulisan dan pembacaan."
      ],
      "metadata": {
        "id": "fGPD31Q6167Z"
      }
    },
    {
      "cell_type": "code",
      "source": [
        "myPet = {'nama' : 'Imut',\n",
        "         'jenis':'kucing',\n",
        "         'warna':'jingga',\n",
        "         'umur':1.5,\n",
        "         'jenis_kelamin':0,\n",
        "         'vaksin': False }\n",
        "print(myPet)"
      ],
      "metadata": {
        "colab": {
          "base_uri": "https://localhost:8080/"
        },
        "id": "elqVMpRl1Y1v",
        "outputId": "67eaa343-a72f-4e51-e3f7-57cd970055c0"
      },
      "execution_count": null,
      "outputs": [
        {
          "output_type": "stream",
          "name": "stdout",
          "text": [
            "{'nama': 'Imut', 'jenis': 'kucing', 'warna': 'jingga', 'umur': 1.5, 'jenis_kelamin': 0, 'vaksin': False}\n"
          ]
        }
      ]
    },
    {
      "cell_type": "markdown",
      "source": [
        "Dictionary bisa menampung data homogen di dalamnya."
      ],
      "metadata": {
        "id": "KLsot_7o8uU8"
      }
    },
    {
      "cell_type": "code",
      "source": [
        "kelas = {'kelas' : 'Bravolexta',\n",
        "         'student' : 40,\n",
        "         'nama':['Anindya', 'David', 'Rengga', 'Nurul', 'Yusup'],\n",
        "         'nilai' : [90.5,55.1,60,71.5,85.6],\n",
        "         'lulus':(True, False, False, True, True)}\n",
        "\n",
        "print(kelas)"
      ],
      "metadata": {
        "colab": {
          "base_uri": "https://localhost:8080/"
        },
        "id": "-M1xe2hj8y8v",
        "outputId": "9ceffa1e-e7af-4073-9d0b-e5feb0bf67b3"
      },
      "execution_count": null,
      "outputs": [
        {
          "output_type": "stream",
          "name": "stdout",
          "text": [
            "{'kelas': 'Bravolexta', 'student': 40, 'nama': ['Anindya', 'David', 'Rengga', 'Nurul', 'Yusup'], 'nilai': [90.5, 55.1, 60, 71.5, 85.6], 'lulus': (True, False, False, True, True)}\n"
          ]
        }
      ]
    },
    {
      "cell_type": "markdown",
      "source": [],
      "metadata": {
        "id": "_Xn1yLII9YC9"
      }
    },
    {
      "cell_type": "markdown",
      "source": [
        "\n",
        "Dictonary dapat dibuat dari dua list berbeda menggunakan function dict() dan zip()"
      ],
      "metadata": {
        "id": "UZM0ZncN3H2E"
      }
    },
    {
      "cell_type": "code",
      "source": [
        "buah = ['apel', 'mangga', 'jeruk', 'pisang', 'manggis']\n",
        "jumlah = [10,5,15,6,21]\n",
        "\n",
        "gudang = dict(zip(buah, jumlah))\n",
        "\n",
        "print(gudang)\n",
        "type(gudang)"
      ],
      "metadata": {
        "colab": {
          "base_uri": "https://localhost:8080/"
        },
        "id": "hNj6Wg-K2uYI",
        "outputId": "4fc28282-9dc7-46e3-aed3-c7f726e85170"
      },
      "execution_count": null,
      "outputs": [
        {
          "output_type": "stream",
          "name": "stdout",
          "text": [
            "{'apel': 10, 'mangga': 5, 'jeruk': 15, 'pisang': 6, 'manggis': 21}\n"
          ]
        },
        {
          "output_type": "execute_result",
          "data": {
            "text/plain": [
              "dict"
            ]
          },
          "metadata": {},
          "execution_count": 22
        }
      ]
    },
    {
      "cell_type": "markdown",
      "source": [
        "Untuk memeriksa data dalam dictionary, kita bisa menggunakan function `keys()`, `values()`, dan `items()`.\n",
        "\n",
        "- `keys()` digunakan untuk memeriksa semua key dalam dictionary\n",
        "- `values()` digunakan untuk memeriksa semua value (item) dalam dictionary\n",
        "- `items()` digunakan untuk memeriksa semua key dan value dalam dictionary\n"
      ],
      "metadata": {
        "id": "tqFELE3G4D4e"
      }
    },
    {
      "cell_type": "code",
      "source": [
        "gudang.keys()"
      ],
      "metadata": {
        "colab": {
          "base_uri": "https://localhost:8080/"
        },
        "id": "3El-2R_t39OE",
        "outputId": "8398136b-0dac-492a-b02b-2800e0d301ec"
      },
      "execution_count": null,
      "outputs": [
        {
          "output_type": "execute_result",
          "data": {
            "text/plain": [
              "dict_keys(['apel', 'mangga', 'jeruk', 'pisang', 'manggis'])"
            ]
          },
          "metadata": {},
          "execution_count": 23
        }
      ]
    },
    {
      "cell_type": "code",
      "source": [
        "gudang.values()"
      ],
      "metadata": {
        "colab": {
          "base_uri": "https://localhost:8080/"
        },
        "id": "0pYTJ2-K4HIR",
        "outputId": "2a5862c6-0346-4444-9485-9620a63af766"
      },
      "execution_count": null,
      "outputs": [
        {
          "output_type": "execute_result",
          "data": {
            "text/plain": [
              "dict_values([10, 5, 15, 6, 21])"
            ]
          },
          "metadata": {},
          "execution_count": 24
        }
      ]
    },
    {
      "cell_type": "code",
      "source": [
        "gudang.items()"
      ],
      "metadata": {
        "colab": {
          "base_uri": "https://localhost:8080/"
        },
        "id": "baBuhtpJ4I-Y",
        "outputId": "0108d837-e186-4c82-fbda-f7f9b8b82c5d"
      },
      "execution_count": null,
      "outputs": [
        {
          "output_type": "execute_result",
          "data": {
            "text/plain": [
              "dict_items([('apel', 10), ('mangga', 5), ('jeruk', 15), ('pisang', 6), ('manggis', 21)])"
            ]
          },
          "metadata": {},
          "execution_count": 25
        }
      ]
    },
    {
      "cell_type": "markdown",
      "source": [
        "##Accesing Dictionary Values\n",
        "\n",
        "Operator `in` dan `not in` dapat digunakan untuk memeriksa apakah key atau value tertentu ada di dalam dictionary atau tidak."
      ],
      "metadata": {
        "id": "ESBH0jTG4Rkv"
      }
    },
    {
      "cell_type": "code",
      "source": [
        "'menteng' in gudang.keys()\n"
      ],
      "metadata": {
        "colab": {
          "base_uri": "https://localhost:8080/"
        },
        "id": "repvXXxB4c9I",
        "outputId": "c6799a29-05ee-4fc8-ec35-33c356d28b62"
      },
      "execution_count": null,
      "outputs": [
        {
          "output_type": "execute_result",
          "data": {
            "text/plain": [
              "False"
            ]
          },
          "metadata": {},
          "execution_count": 26
        }
      ]
    },
    {
      "cell_type": "code",
      "source": [
        "'manggis' not in gudang.keys()\n"
      ],
      "metadata": {
        "colab": {
          "base_uri": "https://localhost:8080/"
        },
        "id": "BRBAZRb_4q9w",
        "outputId": "0e406d3b-f0e9-4954-8e7d-bc5154932929"
      },
      "execution_count": null,
      "outputs": [
        {
          "output_type": "execute_result",
          "data": {
            "text/plain": [
              "False"
            ]
          },
          "metadata": {},
          "execution_count": 27
        }
      ]
    },
    {
      "cell_type": "code",
      "source": [
        "10 in gudang.values()\n"
      ],
      "metadata": {
        "colab": {
          "base_uri": "https://localhost:8080/"
        },
        "id": "ypUcm_6E4ypL",
        "outputId": "64bab6f0-8b9c-48a3-c1d9-b5b63224bbcf"
      },
      "execution_count": null,
      "outputs": [
        {
          "output_type": "execute_result",
          "data": {
            "text/plain": [
              "True"
            ]
          },
          "metadata": {},
          "execution_count": 28
        }
      ]
    },
    {
      "cell_type": "code",
      "source": [
        "100 not in gudang.values()"
      ],
      "metadata": {
        "colab": {
          "base_uri": "https://localhost:8080/"
        },
        "id": "ACjUpD-v40Uf",
        "outputId": "697d9075-540e-404f-e6f5-b52e13f757dc"
      },
      "execution_count": null,
      "outputs": [
        {
          "output_type": "execute_result",
          "data": {
            "text/plain": [
              "True"
            ]
          },
          "metadata": {},
          "execution_count": 29
        }
      ]
    },
    {
      "cell_type": "markdown",
      "source": [
        "Sama halnya seperti list, akses value (item) dictionary dapat dilakukan melalui index. Hanya saja, dictionary memiliki index berbentuk key.\n",
        "\n",
        "Jadi untuk mengaksesnya value dictionary, kita hanya perlu menyebutkan key value tersebut dalam brackets `[]`."
      ],
      "metadata": {
        "id": "v1R7livr43Yd"
      }
    },
    {
      "cell_type": "code",
      "source": [
        "print(gudang)\n",
        "\n",
        "print('Jumlah apel\\t=', gudang['apel'])\n",
        "print('Jumlah mangga\\t=', gudang['mangga'])\n",
        "print('Jumlah jeruk\\t=', gudang['jeruk'])\n",
        "print('Jumlah pisang\\t=', gudang['pisang'])\n",
        "print('Jumlah manggis\\t=', gudang['manggis'])"
      ],
      "metadata": {
        "colab": {
          "base_uri": "https://localhost:8080/"
        },
        "id": "mZUo4EuV41D4",
        "outputId": "87e0025c-9c0d-4a02-8021-d8f096374c0a"
      },
      "execution_count": null,
      "outputs": [
        {
          "output_type": "stream",
          "name": "stdout",
          "text": [
            "{'apel': 10, 'mangga': 5, 'jeruk': 15, 'pisang': 6, 'manggis': 21}\n",
            "Jumlah apel\t= 10\n",
            "Jumlah mangga\t= 5\n",
            "Jumlah jeruk\t= 15\n",
            "Jumlah pisang\t= 6\n",
            "Jumlah manggis\t= 21\n"
          ]
        }
      ]
    },
    {
      "cell_type": "markdown",
      "source": [
        "Key dictionary juga bisa kita manfaatkan untuk mengubah (mengupdate) value yang diwakili oleh key tersebut."
      ],
      "metadata": {
        "id": "4bylquzM5pZj"
      }
    },
    {
      "cell_type": "code",
      "source": [
        "print (gudang)\n",
        "\n",
        "#Restock\n",
        "gudang['apel'] = 100\n",
        "gudang['mangga'] = 150\n",
        "gudang['jeruk'] = 105\n",
        "gudang['pisang'] = 50\n",
        "gudang['manggis'] = 71\n",
        "\n",
        "print(gudang)\n",
        "\n"
      ],
      "metadata": {
        "colab": {
          "base_uri": "https://localhost:8080/"
        },
        "id": "oaQnBeF35lu5",
        "outputId": "0aaa272a-8f10-46c3-b9d0-f3cf532e6dd3"
      },
      "execution_count": null,
      "outputs": [
        {
          "output_type": "stream",
          "name": "stdout",
          "text": [
            "{'apel': 10, 'mangga': 5, 'jeruk': 15, 'pisang': 6, 'manggis': 21}\n",
            "{'apel': 100, 'mangga': 150, 'jeruk': 105, 'pisang': 50, 'manggis': 71}\n"
          ]
        }
      ]
    },
    {
      "cell_type": "markdown",
      "source": [
        "Cara lain untuk mengakses value dictionary adalah dengan menggunkan function `get()`. function ini membutuhkan key dictionary yang ingin diakses value-nya."
      ],
      "metadata": {
        "id": "dBnkn_CR6WMr"
      }
    },
    {
      "cell_type": "code",
      "source": [
        "print(gudang)\n",
        "\n",
        "print('Jumlah apel\\t=', gudang.get('apel'))\n",
        "print('Jumlah mangga\\t=', gudang.get('mangga'))\n",
        "print('Jumlah jeruk\\t=', gudang.get('jeruk'))\n",
        "print('Jumlah pisang\\t=', gudang.get('pisang'))\n",
        "print('Jumlah manggis\\t=', gudang.get('manggis'))"
      ],
      "metadata": {
        "colab": {
          "base_uri": "https://localhost:8080/"
        },
        "id": "KiPyCQZB6BgU",
        "outputId": "7ea0341f-1f83-49e9-999f-c0dfa3dc0f08"
      },
      "execution_count": null,
      "outputs": [
        {
          "output_type": "stream",
          "name": "stdout",
          "text": [
            "{'apel': 100, 'mangga': 150, 'jeruk': 105, 'pisang': 50, 'manggis': 71}\n",
            "Jumlah apel\t= 100\n",
            "Jumlah mangga\t= 150\n",
            "Jumlah jeruk\t= 105\n",
            "Jumlah pisang\t= 50\n",
            "Jumlah manggis\t= 71\n"
          ]
        }
      ]
    },
    {
      "cell_type": "markdown",
      "source": [
        "Kita dapat menambahkan keterangan pada function `get()` jika key tidak ditemukan dalam dictionary.\n",
        "\n"
      ],
      "metadata": {
        "id": "JRoblWhU7M0c"
      }
    },
    {
      "cell_type": "code",
      "source": [
        "print('Jumlah Jamblang\\t=', gudang.get('jamblang','Stok jamblang kosong!'))"
      ],
      "metadata": {
        "colab": {
          "base_uri": "https://localhost:8080/"
        },
        "id": "Za5Q0S6E7BvJ",
        "outputId": "1149925a-8f8a-4cdd-81f1-6e3b22a51699"
      },
      "execution_count": null,
      "outputs": [
        {
          "output_type": "stream",
          "name": "stdout",
          "text": [
            "Jumlah Jamblang\t= Stok jamblang kosong!\n"
          ]
        }
      ]
    },
    {
      "cell_type": "markdown",
      "source": [
        "Cobalah lakukan slicing pada dictionary kemudian analisis outputnya!\n",
        "Dictionary termasuk unordered container"
      ],
      "metadata": {
        "id": "N8Y86Lm67wGH"
      }
    },
    {
      "cell_type": "code",
      "source": [
        "gudang['apel':'pisang']"
      ],
      "metadata": {
        "colab": {
          "base_uri": "https://localhost:8080/",
          "height": 141
        },
        "id": "Lg9Vhlv97q4g",
        "outputId": "fefff641-654c-44d2-fa8f-7b851f5417ea"
      },
      "execution_count": null,
      "outputs": [
        {
          "output_type": "error",
          "ename": "TypeError",
          "evalue": "unhashable type: 'slice'",
          "traceback": [
            "\u001b[0;31m---------------------------------------------------------------------------\u001b[0m",
            "\u001b[0;31mTypeError\u001b[0m                                 Traceback (most recent call last)",
            "\u001b[0;32m<ipython-input-36-4ec3f9587837>\u001b[0m in \u001b[0;36m<cell line: 1>\u001b[0;34m()\u001b[0m\n\u001b[0;32m----> 1\u001b[0;31m \u001b[0mgudang\u001b[0m\u001b[0;34m[\u001b[0m\u001b[0;34m'apel'\u001b[0m\u001b[0;34m:\u001b[0m\u001b[0;34m'pisang'\u001b[0m\u001b[0;34m]\u001b[0m\u001b[0;34m\u001b[0m\u001b[0;34m\u001b[0m\u001b[0m\n\u001b[0m",
            "\u001b[0;31mTypeError\u001b[0m: unhashable type: 'slice'"
          ]
        }
      ]
    },
    {
      "cell_type": "code",
      "source": [
        "gudang['jeruk':]"
      ],
      "metadata": {
        "colab": {
          "base_uri": "https://localhost:8080/",
          "height": 141
        },
        "id": "lq0Ybxuh703T",
        "outputId": "d5862550-a34f-4e8a-8ec6-dad5b600e145"
      },
      "execution_count": null,
      "outputs": [
        {
          "output_type": "error",
          "ename": "TypeError",
          "evalue": "unhashable type: 'slice'",
          "traceback": [
            "\u001b[0;31m---------------------------------------------------------------------------\u001b[0m",
            "\u001b[0;31mTypeError\u001b[0m                                 Traceback (most recent call last)",
            "\u001b[0;32m<ipython-input-37-f4e695e5292a>\u001b[0m in \u001b[0;36m<cell line: 1>\u001b[0;34m()\u001b[0m\n\u001b[0;32m----> 1\u001b[0;31m \u001b[0mgudang\u001b[0m\u001b[0;34m[\u001b[0m\u001b[0;34m'jeruk'\u001b[0m\u001b[0;34m:\u001b[0m\u001b[0;34m]\u001b[0m\u001b[0;34m\u001b[0m\u001b[0;34m\u001b[0m\u001b[0m\n\u001b[0m",
            "\u001b[0;31mTypeError\u001b[0m: unhashable type: 'slice'"
          ]
        }
      ]
    },
    {
      "cell_type": "code",
      "source": [
        "gudang[:'manggis']"
      ],
      "metadata": {
        "colab": {
          "base_uri": "https://localhost:8080/",
          "height": 141
        },
        "id": "f6agzxWf748W",
        "outputId": "eff02725-21bd-457a-b875-bafe8519aedf"
      },
      "execution_count": null,
      "outputs": [
        {
          "output_type": "error",
          "ename": "TypeError",
          "evalue": "unhashable type: 'slice'",
          "traceback": [
            "\u001b[0;31m---------------------------------------------------------------------------\u001b[0m",
            "\u001b[0;31mTypeError\u001b[0m                                 Traceback (most recent call last)",
            "\u001b[0;32m<ipython-input-38-f3ab11e2b99a>\u001b[0m in \u001b[0;36m<cell line: 1>\u001b[0;34m()\u001b[0m\n\u001b[0;32m----> 1\u001b[0;31m \u001b[0mgudang\u001b[0m\u001b[0;34m[\u001b[0m\u001b[0;34m:\u001b[0m\u001b[0;34m'manggis'\u001b[0m\u001b[0;34m]\u001b[0m\u001b[0;34m\u001b[0m\u001b[0;34m\u001b[0m\u001b[0m\n\u001b[0m",
            "\u001b[0;31mTypeError\u001b[0m: unhashable type: 'slice'"
          ]
        }
      ]
    },
    {
      "cell_type": "markdown",
      "source": [
        "Slicing tidak dapat dilakukan pada dictionary."
      ],
      "metadata": {
        "id": "onZFBE3O8UCa"
      }
    },
    {
      "cell_type": "markdown",
      "source": [
        "##Manipulasi Dictionary\n",
        "\n",
        "Data dalam dictionary dapat kita tambahkan dengan memberikan pasangan key dan value yang baru ke dalam dictionary."
      ],
      "metadata": {
        "id": "RIBdYuerJvVS"
      }
    },
    {
      "cell_type": "code",
      "source": [
        "nasabah = {'Andini' : 5000,\n",
        "           'Ganes' : 4500,\n",
        "           'Chandra' : 5250,\n",
        "           'Dita' : 6000}\n",
        "print(nasabah)\n",
        "\n",
        "nasabah['Indy'] = 7000\n",
        "nasabah['Devi'] = 3000\n",
        "nasabah['Rifky'] = 2500\n",
        "print(nasabah)"
      ],
      "metadata": {
        "colab": {
          "base_uri": "https://localhost:8080/"
        },
        "id": "SOpYKKHW7-2l",
        "outputId": "ececc12e-648e-4cf1-bba5-d5a99fa9aca8"
      },
      "execution_count": null,
      "outputs": [
        {
          "output_type": "stream",
          "name": "stdout",
          "text": [
            "{'Andini': 5000, 'Ganes': 4500, 'Chandra': 5250, 'Dita': 6000}\n",
            "{'Andini': 5000, 'Ganes': 4500, 'Chandra': 5250, 'Dita': 6000, 'Indy': 7000, 'Devi': 3000, 'Rifky': 2500}\n"
          ]
        }
      ]
    },
    {
      "cell_type": "markdown",
      "source": [
        "Terdapat 3 metode yang bisa kita pakai untuk menghapus data tertentu dari dalam dictionary, yakni menggunakan:\n",
        "*   del\n",
        "*   pop()\n",
        "*   clear()\n",
        "\n",
        "Cobalah ketiga metode tersebut untuk melihat otput dan perbedaanya!"
      ],
      "metadata": {
        "id": "MZRuLV2uKyOF"
      }
    },
    {
      "cell_type": "code",
      "source": [
        "print(nasabah, '\\n')\n",
        "\n",
        "del nasabah['Ganes']\n",
        "del nasabah['Rifky']\n",
        "print(nasabah, '\\n')\n",
        "\n",
        "pesan = 'Nasabah tidak ditemukan'\n",
        "nasabah.pop('Chandra', pesan)\n",
        "nasabah.pop('Zul', pesan)\n",
        "print(nasabah, '\\n')\n",
        "\n",
        "nasabah.clear()\n",
        "print(nasabah)"
      ],
      "metadata": {
        "colab": {
          "base_uri": "https://localhost:8080/"
        },
        "id": "-n9hYJnjKt5Y",
        "outputId": "03e20032-62c7-4d15-9883-c976d861bb03"
      },
      "execution_count": null,
      "outputs": [
        {
          "output_type": "stream",
          "name": "stdout",
          "text": [
            "{'Andini': 5000, 'Ganes': 4500, 'Chandra': 5250, 'Dita': 6000, 'Indy': 7000, 'Devi': 3000, 'Rifky': 2500} \n",
            "\n",
            "{'Andini': 5000, 'Chandra': 5250, 'Dita': 6000, 'Indy': 7000, 'Devi': 3000} \n",
            "\n",
            "{'Andini': 5000, 'Dita': 6000, 'Indy': 7000, 'Devi': 3000} \n",
            "\n",
            "{}\n"
          ]
        }
      ]
    },
    {
      "cell_type": "markdown",
      "source": [
        "#Array (ndarray)\n",
        "\n",
        "Berbeda dari empat container yang sudah kita bahas sebelumnya, array merupakan container bukan bawaan Python. Array merupakan container yang disediakan oleh library/package *NumPy*. Array sangat berguna ketika kita mengembangkan model Machine Learning (ML) klasik.\n",
        "\n",
        "Kita perlu meng-import library NumPy terlebih dahulu untuk bisa membuat dan menggunakan array.\n"
      ],
      "metadata": {
        "id": "eUAjAvUOKeo0"
      }
    },
    {
      "cell_type": "code",
      "source": [
        "#import numpy array\n",
        "import numpy as np"
      ],
      "metadata": {
        "id": "NPLkaVy4Lxuu"
      },
      "execution_count": null,
      "outputs": []
    },
    {
      "cell_type": "markdown",
      "source": [
        "##Membuat Array\n",
        "\n",
        "Array dapat dibuat secara langsung melalui numpy :"
      ],
      "metadata": {
        "id": "05tel9q6KzN8"
      }
    },
    {
      "cell_type": "code",
      "source": [
        "number = np.array([12,3,5,6,0,-1,2])\n",
        "print(number)\n",
        "type(number)"
      ],
      "metadata": {
        "colab": {
          "base_uri": "https://localhost:8080/"
        },
        "id": "O6mna4hUKn17",
        "outputId": "3b48cfff-5252-4d45-851e-f11272af6254"
      },
      "execution_count": null,
      "outputs": [
        {
          "output_type": "stream",
          "name": "stdout",
          "text": [
            "[12  3  5  6  0 -1  2]\n"
          ]
        },
        {
          "output_type": "execute_result",
          "data": {
            "text/plain": [
              "numpy.ndarray"
            ]
          },
          "metadata": {},
          "execution_count": 4
        }
      ]
    },
    {
      "cell_type": "markdown",
      "source": [
        "Atau, dibuat dengan mengkonversi list menjadi numpy:"
      ],
      "metadata": {
        "id": "fJqIZ2xJLOV7"
      }
    },
    {
      "cell_type": "code",
      "source": [
        "huruf = ['Z', 'R', 'A', 'Q', 'W']\n",
        "huruf = np.array(huruf)\n",
        "print(huruf)\n",
        "type(huruf)"
      ],
      "metadata": {
        "colab": {
          "base_uri": "https://localhost:8080/"
        },
        "id": "S8bmdwouLF4I",
        "outputId": "88550e60-9285-496d-aa37-7e459f1bd48b"
      },
      "execution_count": null,
      "outputs": [
        {
          "output_type": "stream",
          "name": "stdout",
          "text": [
            "['Z' 'R' 'A' 'Q' 'W']\n"
          ]
        },
        {
          "output_type": "execute_result",
          "data": {
            "text/plain": [
              "numpy.ndarray"
            ]
          },
          "metadata": {},
          "execution_count": 5
        }
      ]
    },
    {
      "cell_type": "markdown",
      "source": [
        "Tambahkan parameter `dtype` pada array yang dibuat supaya array hanya bisa menampung elemen yang homogen."
      ],
      "metadata": {
        "id": "WOx9NajYLsSB"
      }
    },
    {
      "cell_type": "code",
      "source": [
        "number = np.array([12,3,5,6,0,-1,2], dtype=int)\n",
        "print(number)\n",
        "type(number)"
      ],
      "metadata": {
        "colab": {
          "base_uri": "https://localhost:8080/"
        },
        "id": "gtHyZLw-LkF1",
        "outputId": "f7cb649d-951c-4865-ec20-5f4ff7bcb72b"
      },
      "execution_count": null,
      "outputs": [
        {
          "output_type": "stream",
          "name": "stdout",
          "text": [
            "[12  3  5  6  0 -1  2]\n"
          ]
        },
        {
          "output_type": "execute_result",
          "data": {
            "text/plain": [
              "numpy.ndarray"
            ]
          },
          "metadata": {},
          "execution_count": 7
        }
      ]
    },
    {
      "cell_type": "markdown",
      "source": [
        "Macam-macam dtype:"
      ],
      "metadata": {
        "id": "5Xi0RuNiSV-6"
      }
    },
    {
      "cell_type": "markdown",
      "source": [
        "###Int"
      ],
      "metadata": {
        "id": "Ky9PHftcSh-q"
      }
    },
    {
      "cell_type": "code",
      "source": [
        "number = np.array([12,3,5,6,0,-1,2], dtype=int)\n",
        "print(number)\n",
        "type(number)"
      ],
      "metadata": {
        "colab": {
          "base_uri": "https://localhost:8080/"
        },
        "id": "2I04GxBtMLKo",
        "outputId": "80381d87-d25e-4315-89a2-713c28af6747"
      },
      "execution_count": null,
      "outputs": [
        {
          "output_type": "stream",
          "name": "stdout",
          "text": [
            "[12  3  5  6  0 -1  2]\n"
          ]
        },
        {
          "output_type": "execute_result",
          "data": {
            "text/plain": [
              "numpy.ndarray"
            ]
          },
          "metadata": {},
          "execution_count": 8
        }
      ]
    },
    {
      "cell_type": "markdown",
      "source": [
        "###Float"
      ],
      "metadata": {
        "id": "3I-UgVnWSsnV"
      }
    },
    {
      "cell_type": "code",
      "source": [
        "number = np.array([12.1,3,5.1,6.8,0,-1,2], dtype=float)\n",
        "print(number)\n",
        "type(number)"
      ],
      "metadata": {
        "colab": {
          "base_uri": "https://localhost:8080/"
        },
        "id": "KsUKuUKFSru5",
        "outputId": "9256edea-63bd-49e2-a5dd-8532df908f6b"
      },
      "execution_count": null,
      "outputs": [
        {
          "output_type": "stream",
          "name": "stdout",
          "text": [
            "[12.1  3.   5.1  6.8  0.  -1.   2. ]\n"
          ]
        },
        {
          "output_type": "execute_result",
          "data": {
            "text/plain": [
              "numpy.ndarray"
            ]
          },
          "metadata": {},
          "execution_count": 9
        }
      ]
    },
    {
      "cell_type": "markdown",
      "source": [
        "###String"
      ],
      "metadata": {
        "id": "tYrYdnGLUK7E"
      }
    },
    {
      "cell_type": "code",
      "source": [
        "huruf = np.array(['A', 'B', 'C', 'D'], dtype=str)\n",
        "print(huruf)\n",
        "type(huruf)"
      ],
      "metadata": {
        "colab": {
          "base_uri": "https://localhost:8080/"
        },
        "id": "_vYAr77oTeWJ",
        "outputId": "2ebf0759-ef21-4ac8-f5c3-c6baa86e65cb"
      },
      "execution_count": null,
      "outputs": [
        {
          "output_type": "stream",
          "name": "stdout",
          "text": [
            "['A' 'B' 'C' 'D']\n"
          ]
        },
        {
          "output_type": "execute_result",
          "data": {
            "text/plain": [
              "numpy.ndarray"
            ]
          },
          "metadata": {},
          "execution_count": 11
        }
      ]
    },
    {
      "cell_type": "markdown",
      "source": [
        "###Float"
      ],
      "metadata": {
        "id": "Mk6Fp-LFUMwv"
      }
    },
    {
      "cell_type": "code",
      "source": [
        "keputusan = np.array([True, False, True, False, False], dtype=bool)\n",
        "print(keputusan)\n",
        "type(keputusan)"
      ],
      "metadata": {
        "colab": {
          "base_uri": "https://localhost:8080/"
        },
        "id": "mD4y7FugTy1V",
        "outputId": "a6a28cf7-6aea-4738-c759-79531671d4b3"
      },
      "execution_count": null,
      "outputs": [
        {
          "output_type": "stream",
          "name": "stdout",
          "text": [
            "[ True False  True False False]\n"
          ]
        },
        {
          "output_type": "execute_result",
          "data": {
            "text/plain": [
              "numpy.ndarray"
            ]
          },
          "metadata": {},
          "execution_count": 13
        }
      ]
    },
    {
      "cell_type": "markdown",
      "source": [
        "Array 2D dapat dikatakan sebagai sebuah array yang menampung array lain di dalamnya. Pembuatan array 2D mirip dengan pembuatan list 2D."
      ],
      "metadata": {
        "id": "z6P0i60CUWks"
      }
    },
    {
      "cell_type": "code",
      "source": [
        "M = np.array([[1,2,3],\n",
        "             [4,5,6],\n",
        "             [7,8,9]], dtype=int)\n",
        "print(M)\n",
        "type(M)"
      ],
      "metadata": {
        "colab": {
          "base_uri": "https://localhost:8080/"
        },
        "id": "n0q3VyYNUJ-m",
        "outputId": "88a3f374-b82f-489a-d13e-1d17ddc41e4e"
      },
      "execution_count": null,
      "outputs": [
        {
          "output_type": "stream",
          "name": "stdout",
          "text": [
            "[[1 2 3]\n",
            " [4 5 6]\n",
            " [7 8 9]]\n"
          ]
        },
        {
          "output_type": "execute_result",
          "data": {
            "text/plain": [
              "numpy.ndarray"
            ]
          },
          "metadata": {},
          "execution_count": 15
        }
      ]
    },
    {
      "cell_type": "markdown",
      "source": [
        "Melihat informasi array menggunakan `size`, `ndim`, dan `shape`.\n",
        "\n",
        "*   `size` untuk melihat jumlah elemen array\n",
        "*   `ndim` untuk melihat dimensi array\n",
        "*   `shape` untuk ordo array"
      ],
      "metadata": {
        "id": "OmLRkizzU4TZ"
      }
    },
    {
      "cell_type": "code",
      "source": [
        "print('Size\\t\\t:', number.size)\n",
        "print('Dimension\\t:', number.ndim)\n",
        "print('Shape\\t\\t:', number.shape,'\\n')\n",
        "\n",
        "print('Size\\t\\t:', M.size)\n",
        "print('Dimension\\t:', M.ndim)\n",
        "print('Shape\\t\\t:', M.shape,'\\n')"
      ],
      "metadata": {
        "colab": {
          "base_uri": "https://localhost:8080/"
        },
        "id": "fLZpVAwGUuVL",
        "outputId": "05b42ac7-6ed3-4d8a-8135-2110977489f1"
      },
      "execution_count": null,
      "outputs": [
        {
          "output_type": "stream",
          "name": "stdout",
          "text": [
            "Size\t\t: 7\n",
            "Dimension\t: 1\n",
            "Shape\t\t: (7,) \n",
            "\n",
            "Size\t\t: 9\n",
            "Dimension\t: 2\n",
            "Shape\t\t: (3, 3) \n",
            "\n"
          ]
        }
      ]
    },
    {
      "cell_type": "markdown",
      "source": [
        "Membuat array menggunakan function numpy lainnya:\n",
        "\n",
        "\n",
        "*   `zeros()` untuk membuat array dengan elemen bernilai 0\n",
        "\n",
        "\n"
      ],
      "metadata": {
        "id": "s3ks42EYXfPh"
      }
    },
    {
      "cell_type": "code",
      "source": [
        "nol_kecil = np.zeros(5) #ordo 5x1\n",
        "nol_besar = np.zeros((3,3), dtype=int)#ordo 3x3\n",
        "\n",
        "print(nol_kecil,'\\n')\n",
        "print(nol_besar,'\\n')\n",
        "\n"
      ],
      "metadata": {
        "colab": {
          "base_uri": "https://localhost:8080/"
        },
        "id": "-WG5_fHwV3gO",
        "outputId": "b346f822-a61f-43ed-a611-d78bd510071c"
      },
      "execution_count": null,
      "outputs": [
        {
          "output_type": "stream",
          "name": "stdout",
          "text": [
            "[0. 0. 0. 0. 0.] \n",
            "\n",
            "[[0 0 0]\n",
            " [0 0 0]\n",
            " [0 0 0]] \n",
            "\n"
          ]
        }
      ]
    },
    {
      "cell_type": "markdown",
      "source": [
        "\n",
        "*   `ones()` untuk membuat array dengan elemen bernilai 1\n"
      ],
      "metadata": {
        "id": "NguFuqrLeyDo"
      }
    },
    {
      "cell_type": "code",
      "source": [
        "vecor_1 = np.ones(10) #ordo 10x1\n",
        "matriks_1 = np.ones((4,4), dtype=int) #ordo 4x4\n",
        "\n",
        "print(vecor_1, '\\n')\n",
        "print(matriks_1, '\\n')"
      ],
      "metadata": {
        "colab": {
          "base_uri": "https://localhost:8080/"
        },
        "id": "q1_PMro-es6k",
        "outputId": "84d839f1-e7fc-4944-8616-fced6c8955d4"
      },
      "execution_count": null,
      "outputs": [
        {
          "output_type": "stream",
          "name": "stdout",
          "text": [
            "[1. 1. 1. 1. 1. 1. 1. 1. 1. 1.] \n",
            "\n",
            "[[1 1 1 1]\n",
            " [1 1 1 1]\n",
            " [1 1 1 1]\n",
            " [1 1 1 1]] \n",
            "\n"
          ]
        }
      ]
    },
    {
      "cell_type": "markdown",
      "source": [
        "*   `arange()` untuk membuat array 1D (vector) dengan elemen dalam range tertentu\n",
        "\n",
        " `arange()` dapat dikombinasikan dengan `reshape` untuk mengubah vector menjadi matriks (array 2D).\n",
        "\n",
        "\n",
        "\n"
      ],
      "metadata": {
        "id": "Tu_5px-mfuBx"
      }
    },
    {
      "cell_type": "code",
      "source": [
        "vector_range = np.arange(9)\n",
        "matriks_range = vector_range.reshape(3,3) #ubah vector menjadi matriks ordo 3x3\n",
        "\n",
        "print(vector_range, '\\n')\n",
        "print(matriks_range, '\\n')"
      ],
      "metadata": {
        "colab": {
          "base_uri": "https://localhost:8080/"
        },
        "id": "MIDhsHS_fq9S",
        "outputId": "344ca99c-5232-4f5f-b903-e2c37b0d527f"
      },
      "execution_count": null,
      "outputs": [
        {
          "output_type": "stream",
          "name": "stdout",
          "text": [
            "[0 1 2 3 4 5 6 7 8] \n",
            "\n",
            "[[0 1 2]\n",
            " [3 4 5]\n",
            " [6 7 8]] \n",
            "\n"
          ]
        }
      ]
    },
    {
      "cell_type": "markdown",
      "source": [
        "##Array Indexing and Slicing"
      ],
      "metadata": {
        "id": "AKGyeSnUhbaR"
      }
    },
    {
      "cell_type": "markdown",
      "source": [
        "Kita dapat mengakses elemen dalam array melalui indexing dan slicing. Indexing berfungsi untuk mengakses satu elemen dalam array. Sedangkan slicing berfungsi untuk mengakses beberapa elemen dalam array sekaligus. Indexing dan slicing array mirip dengan indexing dan slicing list."
      ],
      "metadata": {
        "id": "52j9OJ3ihj_K"
      }
    },
    {
      "cell_type": "code",
      "source": [
        "lang = np.array(['id','en', 'jp', 'cn', 'ru', 'kr', 'th'])\n",
        "\n",
        "print(lang, '\\n')\n",
        "print(lang[0], '\\n')\n",
        "\n",
        "print(lang[1:4], '\\n')\n",
        "print(lang[-3:-2],'\\n')\n",
        "\n",
        "print(lang[3:],'\\n')\n",
        "print(lang[:6],'\\n')\n",
        "\n",
        "print(lang[-5:],'\\n')\n",
        "print(lang[:-3],'\\n')"
      ],
      "metadata": {
        "colab": {
          "base_uri": "https://localhost:8080/"
        },
        "id": "vFDhEvc7hMiB",
        "outputId": "be619a1c-cce3-4039-c145-0b266fd50ad0"
      },
      "execution_count": null,
      "outputs": [
        {
          "output_type": "stream",
          "name": "stdout",
          "text": [
            "['id' 'en' 'jp' 'cn' 'ru' 'kr' 'th'] \n",
            "\n",
            "id \n",
            "\n",
            "['en' 'jp' 'cn'] \n",
            "\n",
            "['ru'] \n",
            "\n",
            "['cn' 'ru' 'kr' 'th'] \n",
            "\n",
            "['id' 'en' 'jp' 'cn' 'ru' 'kr'] \n",
            "\n",
            "['jp' 'cn' 'ru' 'kr' 'th'] \n",
            "\n",
            "['id' 'en' 'jp' 'cn'] \n",
            "\n"
          ]
        }
      ]
    },
    {
      "cell_type": "markdown",
      "source": [
        "Indexing dan slicing array dapat kita manfaatkan untuk mengupdate elemen array tertentu."
      ],
      "metadata": {
        "id": "4VHZ7cv5kUXg"
      }
    },
    {
      "cell_type": "code",
      "source": [
        "lang = np.array(['id', 'en', 'jp', 'cn', 'ru', 'kr','th'])\n",
        "print(lang, '\\n')\n",
        "\n",
        "lang[4] = 'CA'\n",
        "lang[5] = 'AR'\n",
        "lang[-1] = 'HI'\n",
        "lang[:4] = 'no'\n",
        "\n",
        "print(lang,'\\n')"
      ],
      "metadata": {
        "colab": {
          "base_uri": "https://localhost:8080/"
        },
        "id": "Ljkn2eQqkP_g",
        "outputId": "1cee82a7-72a6-4060-ca3c-f3f79b6ca789"
      },
      "execution_count": null,
      "outputs": [
        {
          "output_type": "stream",
          "name": "stdout",
          "text": [
            "['id' 'en' 'jp' 'cn' 'ru' 'kr' 'th'] \n",
            "\n",
            "['no' 'no' 'no' 'no' 'CA' 'AR' 'HI'] \n",
            "\n"
          ]
        }
      ]
    },
    {
      "cell_type": "markdown",
      "source": [
        "Array 2D terdiri dari baris dan kolom. Indexing array 2D dapat dilakukan dengan menyebut baris dan kolom tempat elemen berada (posisi elemen). Baris dan kolom array 2D dimulai dari `0`."
      ],
      "metadata": {
        "id": "g5itBa3mnNZE"
      }
    },
    {
      "cell_type": "code",
      "source": [
        "A = np.array([[81,24,36],\n",
        "              [43,67,12],\n",
        "              [75,90,58]])\n",
        "print(A,'\\n')\n",
        "\n",
        "print(A[1,2]) #baris 1 kolom 2\n",
        "print(A[2,0]) #baris 2 kolom 0\n",
        "print(A[0,1]) #baris 0 kolom 1"
      ],
      "metadata": {
        "colab": {
          "base_uri": "https://localhost:8080/"
        },
        "id": "4GYXUNpEm6Mn",
        "outputId": "7d7abec0-5cdf-4dad-b215-590aa0d9924f"
      },
      "execution_count": null,
      "outputs": [
        {
          "output_type": "stream",
          "name": "stdout",
          "text": [
            "[[81 24 36]\n",
            " [43 67 12]\n",
            " [75 90 58]] \n",
            "\n",
            "12\n",
            "75\n",
            "24\n"
          ]
        }
      ]
    },
    {
      "cell_type": "markdown",
      "source": [
        "Slicing array 2D membutuhkan posisi baris dan kolom elemen-elemen yang hendak diambil.\n",
        "\n",
        "> `[posisi_baris, posisi_kolom]`\n",
        "\n",
        ">`[baris_awal:baris_akhir, kolom_awal:kolom_akhir]`\n",
        "\n",
        "Kita dapat membayangkan index berada diantara elemen array untuk memudahkan kita dalam men-slicing array 2D."
      ],
      "metadata": {
        "id": "WXqzXPLqoPy_"
      }
    },
    {
      "cell_type": "code",
      "source": [
        "B = np.array([[81,24,36],\n",
        "              [43,67,12],\n",
        "              [75,90,58]])\n",
        "print(B,'\\n')\n",
        "\n",
        "print(B[0:3, 0:2],'\\n') #baris 0 sd 3, kolom 0 sd 2\n",
        "print(B[1:2, 1:2],'\\n') #baris 1 sd 2, kolom 1 sd 2\n",
        "print(B[0:2, :],'\\n') #baris 0 sd 2, semua kolom\n",
        "print(B[:, 2:3],'\\n') #semua baris, kolom 2 sd 3\n",
        "print(B[1:, 1:],'\\n') #baris 1 sd seterusnya, kolom 1 sd seterusnya\n",
        "print(B[:2, :2],'\\n') #semua baris sebelum baris 2, semua kolom sebelum kolom 2\n"
      ],
      "metadata": {
        "colab": {
          "base_uri": "https://localhost:8080/"
        },
        "id": "X6McU1ZXnqbn",
        "outputId": "7d0832f9-7a4e-454b-d2ba-ba72c0d546f1"
      },
      "execution_count": null,
      "outputs": [
        {
          "output_type": "stream",
          "name": "stdout",
          "text": [
            "[[81 24 36]\n",
            " [43 67 12]\n",
            " [75 90 58]] \n",
            "\n",
            "[[81 24]\n",
            " [43 67]\n",
            " [75 90]] \n",
            "\n",
            "[[67]] \n",
            "\n",
            "[[81 24 36]\n",
            " [43 67 12]] \n",
            "\n",
            "[[36]\n",
            " [12]\n",
            " [58]] \n",
            "\n",
            "[[67 12]\n",
            " [90 58]] \n",
            "\n",
            "[[81 24]\n",
            " [43 67]] \n",
            "\n"
          ]
        }
      ]
    },
    {
      "cell_type": "markdown",
      "source": [
        "Coba update elemen array 2D menggunakan idexing dan slicing array!"
      ],
      "metadata": {
        "id": "IYRVggpXqh1K"
      }
    },
    {
      "cell_type": "code",
      "source": [
        "print(B, '\\n')\n",
        "\n",
        "B[1,2] =0\n",
        "B[2,2] = 0\n",
        "B[0,2] = 0\n",
        "B[:,1] = 1\n",
        "\n",
        "print(B)"
      ],
      "metadata": {
        "colab": {
          "base_uri": "https://localhost:8080/"
        },
        "id": "knm2eS-BphFe",
        "outputId": "b44ac3f8-c1cc-481d-cf29-7eefa1062efa"
      },
      "execution_count": null,
      "outputs": [
        {
          "output_type": "stream",
          "name": "stdout",
          "text": [
            "[[81 24 36]\n",
            " [43 67 12]\n",
            " [75 90 58]] \n",
            "\n",
            "[[81  1  0]\n",
            " [43  1  0]\n",
            " [75  1  0]]\n"
          ]
        }
      ]
    },
    {
      "cell_type": "markdown",
      "source": [
        "##Operasi Matriks (Array 2D)"
      ],
      "metadata": {
        "id": "BGTK8k_mq5rZ"
      }
    },
    {
      "cell_type": "markdown",
      "source": [
        "Berikut ini adalah beberapa operasi matriks yang akan kita lakukan:\n",
        "- penambahan\n",
        "- pengurangan\n",
        "- dot product\n",
        "- perkalian\n",
        "- mencari inverse matriks\n",
        "- mencari determinan matriks\n",
        "- mencari transpose matriks"
      ],
      "metadata": {
        "id": "E-i97oolq27b"
      }
    },
    {
      "cell_type": "code",
      "source": [
        "x = np.array ([[1,2,3],[4,5,6],[7,8,9]])\n",
        "y = np.array ([[2,2,2], [2,2,2], [2,2,2]])\n",
        "skalar = 3"
      ],
      "metadata": {
        "id": "HiRbpXHRq_rX"
      },
      "execution_count": null,
      "outputs": []
    },
    {
      "cell_type": "code",
      "source": [
        "#penambahan dan pengurangan\n",
        "A = x + skalar\n",
        "Z = x + y\n",
        "\n",
        "print(A, '\\n\\n', Z,'\\n\\n\\n\\n')\n",
        "\n",
        "#Pengurangan\n",
        "\n",
        "B = x-skalar\n",
        "C = x-y\n",
        "print(A, '\\n\\n', Z)"
      ],
      "metadata": {
        "colab": {
          "base_uri": "https://localhost:8080/"
        },
        "id": "S8eVG92LrYWL",
        "outputId": "1d97937f-75d6-4029-90bc-584b6b0afae4"
      },
      "execution_count": null,
      "outputs": [
        {
          "output_type": "stream",
          "name": "stdout",
          "text": [
            "[[ 4  5  6]\n",
            " [ 7  8  9]\n",
            " [10 11 12]] \n",
            "\n",
            " [[ 3  4  5]\n",
            " [ 6  7  8]\n",
            " [ 9 10 11]] \n",
            "\n",
            "\n",
            "\n",
            "\n",
            "[[ 4  5  6]\n",
            " [ 7  8  9]\n",
            " [10 11 12]] \n",
            "\n",
            " [[ 3  4  5]\n",
            " [ 6  7  8]\n",
            " [ 9 10 11]]\n"
          ]
        }
      ]
    },
    {
      "cell_type": "code",
      "source": [
        "#dot product\n",
        "A = x * skalar\n",
        "B = x * y\n",
        "\n",
        "print(A, '\\n\\n', B, '\\n\\n\\n\\n')\n",
        "\n",
        "#perkalian\n",
        "C = np.matmul(x,y)\n",
        "print(C)"
      ],
      "metadata": {
        "colab": {
          "base_uri": "https://localhost:8080/"
        },
        "id": "51QS9GuKrlpy",
        "outputId": "69fb0d2e-7a14-4325-ee37-98816921514a"
      },
      "execution_count": null,
      "outputs": [
        {
          "output_type": "stream",
          "name": "stdout",
          "text": [
            "[[ 3  6  9]\n",
            " [12 15 18]\n",
            " [21 24 27]] \n",
            "\n",
            " [[ 2  4  6]\n",
            " [ 8 10 12]\n",
            " [14 16 18]] \n",
            "\n",
            "\n",
            "\n",
            "\n",
            "[[12 12 12]\n",
            " [30 30 30]\n",
            " [48 48 48]]\n"
          ]
        }
      ]
    },
    {
      "cell_type": "code",
      "source": [
        "#Determinan\n",
        "Z = x * x\n",
        "\n",
        "det_Z = np.linalg.det(Z)\n",
        "print(det_Z)\n",
        "\n",
        "#Invers\n",
        "Z = x*x\n",
        "\n",
        "inv_z = np.linalg.inv(Z)\n",
        "print(inv_z)"
      ],
      "metadata": {
        "colab": {
          "base_uri": "https://localhost:8080/"
        },
        "id": "gSPejDYssnSF",
        "outputId": "d06a85bb-f5a1-4cfc-c70a-a54458e16450"
      },
      "execution_count": null,
      "outputs": [
        {
          "output_type": "stream",
          "name": "stdout",
          "text": [
            "-216.00000000000006\n",
            "[[ 1.29166667 -1.16666667  0.375     ]\n",
            " [-2.16666667  1.66666667 -0.5       ]\n",
            " [ 0.93055556 -0.61111111  0.18055556]]\n"
          ]
        }
      ]
    },
    {
      "cell_type": "code",
      "source": [
        "#Transpose\n",
        "print(x,'\\n')\n",
        "\n",
        "x_t = x.transpose()\n",
        "print(x_t)"
      ],
      "metadata": {
        "colab": {
          "base_uri": "https://localhost:8080/"
        },
        "id": "ITVJUrMitcEU",
        "outputId": "b7ea9008-8a87-489d-d797-a0aeee73a2b0"
      },
      "execution_count": null,
      "outputs": [
        {
          "output_type": "stream",
          "name": "stdout",
          "text": [
            "[[1 2 3]\n",
            " [4 5 6]\n",
            " [7 8 9]] \n",
            "\n",
            "[[1 4 7]\n",
            " [2 5 8]\n",
            " [3 6 9]]\n"
          ]
        }
      ]
    },
    {
      "cell_type": "code",
      "source": [
        "#konversi\n",
        "print(x,'\\n')\n",
        "\n",
        "flat_x = x.flatten()\n",
        "print(flat_x)"
      ],
      "metadata": {
        "colab": {
          "base_uri": "https://localhost:8080/"
        },
        "id": "JXvHh4HWtz_J",
        "outputId": "b1a33e19-c59d-4a36-a65e-a925aa2f384c"
      },
      "execution_count": null,
      "outputs": [
        {
          "output_type": "stream",
          "name": "stdout",
          "text": [
            "[[1 2 3]\n",
            " [4 5 6]\n",
            " [7 8 9]] \n",
            "\n",
            "[1 2 3 4 5 6 7 8 9]\n"
          ]
        }
      ]
    },
    {
      "cell_type": "markdown",
      "source": [
        "# Latihan"
      ],
      "metadata": {
        "id": "u9HtNIDxmhkC"
      }
    },
    {
      "cell_type": "markdown",
      "source": [
        "2. Buat sebuah array dengan elemen seperti gambar di bawah!\n",
        "Kemudian lakukan slicing pada array tersebut sesuai dengan arahan kotak merah!\n",
        "\n",
        "![slicing1.png](data:image/png;base64,iVBORw0KGgoAAAANSUhEUgAAAHUAAACDCAMAAACEEaSKAAAAAXNSR0IArs4c6QAAAARnQU1BAACxjwv8YQUAAAA2UExURQAAAAAAAAAAAAAAAAAAAAAAAAAAAAAAAAAAAAAAAAAAAAAAAAAAAAAAAAAAAAAAAAAAAP8AAAnuXJ8AAAAQdFJOUwAQIDBAUGBwgI+fr7/P3+8jGoKKAAAACXBIWXMAABcRAAAXEQHKJvM/AAAEK0lEQVRoQ+2bja6kIAyFB39RUZj3f9k9VUQnQaU142x2Ocney0y2+aBAgcJ9Zf2XUv43V0pqCJWDK3wxXarSo3XOTR3fFlIdjLl1LsnIDr0B1zX+S4aqiQz9h2T1sNFU1ZLaWy5fJgvOneU/JgvUbilVsB6WYqLgXKtr8pL/Ilm9s2unwFfWF9PUOIOh0AiotQ6d2cGcNyxq+iGh7kRdLJhAN6kYGZMvcnSTin71A4ule9Qag4k7c0i3qGrExPVllm5RtXNGMJbuUWvrRhH0DhXxcBIF/ztUNclGEklMVcbZOc5IJKWq4QZUTEUAFqysq4TU1rnWFyWSUTF8JYEwSERFTAoTtZ4E3SuiamcrX3wZJ6AiqLH3iAViUuuFSMymqpb2W2OoeJpoKd+JZ60nQi6axvQGo6kf4rmq7vZKt1XeYpUwFmdlZWVlZWX9ZZId6m5KTcaXeFKjDemjRPVjkHW9/5InfsqIMi+bRIcASso9TqWEhoA6VkGSLWLnqOJ8qi/JVFlbPE6Ff1v1OFU7ox5vK/xbvZ6mwr8Y9k9TtZuAE1KLumkqph2psvOBV0S18zR3zjCPvuTfOYQKqDWoQ7/crDBTMdrfGQio67VVSS1mJQjg36WanjrxbkgWKeYdhzLOL4wzVbWyFYtSOIwcW4v/bhdRCf9EKxYFNkY2vPGr8jjSpRn9FqXSXzAWOUkymjbBSz+gwljUNXxq04YceAljQUZvMeRRx+2+SmMkihwloa7tozSbLE9M+UteWpsi0syiS2NZr/ZzVrDjtFbPJoZu1q2spaVexPNx3fZmHIdOstRlZWWd6f0L/YzqG/2cMvXbytRv6x+jqqI43kkcUof5vLGJtRnx7xHdcLDPO6TS+WYnzraWXjHartV06TxFX6WkUhmHKzWgkXMlcR51NpbSO6TiJNf4VGDVxW0PhB00pVFICn6Ona6OqGrvU8M6mMFLwTMHed4jarF7NFmzHgJ8nKhgGnvzeUR9lZtPDevZJmWUQyU/Pmw6pG6CJec0SFmBMGEoMREZEglUboIOIyj0K0ZWzPiain7i5SQwTdd0D6V+YoHimrp7IpsmytovaSO1Per91CUVJ19u+oXChOt1203OxkPiJVWzIoRXeIBzMM+vqGgqO5dHjh2qsqjRq9tLp72uqBiE7GwrYH6qUZtj4f+CikDKvmgDKjgWFRDMHDSVmy/6iIiUS2FHCThrXT6SRYnPAKKIGBnG51RUlTtt5uaFmlJmLpKHOaXSC1VuUz+pH+7edErFOsXPUtHiFoY9feD2K0Ib/zEurTlhDGNVj82BMyoqKsn2k4t9ZekvOWLT/YyKvRY3QsyiPRoNXFVhrxgNxCdUNFV480WTx9GlujPx2X5CLfueGyGC6s4YM+ijUXFC/aIy9dvK1G8rU7+tmfoD/YL6fv8BzuphihivaoIAAAAASUVORK5CYII=)\n",
        "\n"
      ],
      "metadata": {
        "id": "ddYrIOfiO6vy"
      }
    },
    {
      "cell_type": "code",
      "source": [
        "I = np.array([[1,2],[4,5],[7,8]])\n",
        "print(I, '\\n')\n",
        "print(I[2,:])"
      ],
      "metadata": {
        "id": "xJiA3QNpK5qw",
        "colab": {
          "base_uri": "https://localhost:8080/"
        },
        "outputId": "011e4fa2-c1bd-48ca-aabe-a321bece2140"
      },
      "execution_count": null,
      "outputs": [
        {
          "output_type": "stream",
          "name": "stdout",
          "text": [
            "[[1 2]\n",
            " [4 5]\n",
            " [7 8]] \n",
            "\n",
            "[7 8]\n"
          ]
        }
      ]
    },
    {
      "cell_type": "markdown",
      "source": [
        "3. Buat sebuah array dengan elemen seperti gambar di bawah!\n",
        "Kemudian lakukan slicing pada array tersebut sesuai dengan arahan kotak merah!\n",
        "\n",
        "![slicing2.png](data:image/png;base64,iVBORw0KGgoAAAANSUhEUgAAAJMAAABhCAMAAADlYWM1AAAAAXNSR0IArs4c6QAAAARnQU1BAACxjwv8YQUAAAA2UExURQAAAAAAAAAAAAAAAAAAAAAAAAAAAAAAAAAAAAAAAAAAAAAAAAAAAAAAAAAAAAAAAAAAAP8AAAnuXJ8AAAAQdFJOUwAQIDBAUGBwgI+fr7/P3+8jGoKKAAAACXBIWXMAABcRAAAXEQHKJvM/AAAE4klEQVRoQ+1a27KbMBDDQAIECPT/f7YSGA6XFRgnnWk76KED9Ggtr+1de50kHL8+g7fyXXjbsfBWvouPzN6awnBrCsOtKQy3pjDcmsLwv2lyVe2fdjg16x5VU/nnLSQ5L5u2rcvUvxp4dv3bP+5woimruh5w/nUDQc6avu9a/NO//Jct8hb/2fqXHQ41OSjqmjJLL2nKQSrIeIl2aTZWk6v7vsn8iwWTnEJSPj6Cvx92h2FrqkhNDg4u/LMNkwzvlP4xRcu7OVX2LSRDVIQmhwkxGRewyNTh3ZQkb6NX6TCucZrAkqvVwyI/oWmeftpGlCbO1KO5RFjkEmvOP25eVojShPmpVvIMi4zGfmSsnLZCjKZsOS0UhJ96/5gkD7zYzo7RBNPguLwoyof/tIdFXsmgn76niaHFlUNss4LMCIvs8PfzoNNp39MENa83YltRYj33jf+6gUlGb7wOh4aNADUgQhOn0xTDEQT75/C0hUlmgOqrPMvLd8f++M8bRGjKadc/M/LZK9omZ1RCNBm6I7J/hCbO1HluF3gxR0CQk6JusFOBlzGO34uZq9XDgTQHT2maAY+J9PSpJi4lMxmfaWJnxL4uco7PIZOaovyEUKBSZoSmlQyuJDNwnmhyCCgqF0RoWs0ELsJLc9wD7cqdRYymZUbHsx00jzUhsbzFpnlYkWLHoM3S73689BAcaiqONjvYCelNrDSLARtNclcuEp7W5Hgyae01V1QNjy1AV78sy9osc3pdFi+eQvynLRS5esMN49nFQNUu4T8uceD+tGR3upYB2YYi5ziBKUUBONBEpOpoN0CS4/UQJ5qO8RFZ49YUhltTGG5NYbg1heHWFIZbUxhuTWH4VzW5xi6rxGpyeVFj1yvvPqTZsprRqkO/JA/3LY3daFqxTsMduyomSLNTwWbANT/xzNK1DVutd7vgdDo+DHcupqgwTaKkaZOf031LTodsXYWDfjeac2zC8uSBptYPHSBO/SY5gyOm0yoa3Z7OoWkqd/K0Zh3TDjSdlsdt8rIOVu094Zpm6iFrI9bgfV8T3DQfblnGUpWVUdOlc3Cspl2VSKwPQNX//oimeZKwVbE+AFXR/7omEH+YHDsRGIFG1Ke+rwnzeq4svUSrA+bKzRbHmlyqewmYZJarvJBHd1AV09eoB5ra11AmUskOsMms2bfPNM2rrm90n+DPq2UtXsUPdxOytqXJvPoZIBolCkw74UOpKSlyUlKGve4aGZmsq4qSTNkdJKBWDavWNIFrR0x3m8yS7NAcb7l3+W4EEpCUFKApYZa3+SZ5Ue5lljUrxoeSQjQxtF2o+0LHnMRINRyFJffWkz9EE4Nx+KJdhe5VUJ/h6vmXGiYCNDFphWtaJwy87DM/JpxOOECgn2wbFnl1o0VNu3iAv5i/FVf2BdmPXZ20lKbZq9a+AJNpXJZAal66KE0Lw3C1uK6xyJxCyxy8CwYw98xGPCDPf11Ca5rWPzf1Ir2YZLQ56WCA2g4OzS1wTZOPIBnCk0oRNhmEcaU7/ihrG4YgeQkrGitNQ2/qssKJSF6cCDKlgFq+YGOf0srxmmXCpf34o2QW5k/XdHRT5IzHShzxKnN7dAqpaYBTHhpxRHYn3AMcazrBR2SNW1MYbk1huDWF4dYUhr9T00fwVr4LbzsW3sopkuQ3IQ9jYg22wMcAAAAASUVORK5CYII=)"
      ],
      "metadata": {
        "id": "-PB-iMlPPue7"
      }
    },
    {
      "cell_type": "code",
      "source": [
        "H = np.array([[1,6,9],[2,5,8]])\n",
        "print(H,'\\n')\n",
        "print(H[0:2,1:2])"
      ],
      "metadata": {
        "id": "FzjPbJ9KPzkg",
        "colab": {
          "base_uri": "https://localhost:8080/"
        },
        "outputId": "5a04b5fa-1882-457e-f976-1d030383b816"
      },
      "execution_count": null,
      "outputs": [
        {
          "output_type": "stream",
          "name": "stdout",
          "text": [
            "[[1 6 9]\n",
            " [2 5 8]] \n",
            "\n",
            "[[6]\n",
            " [5]]\n"
          ]
        }
      ]
    },
    {
      "cell_type": "markdown",
      "source": [
        "4. Buat sebuah array dengan elemen seperti gambar di bawah!\n",
        "Kemudian lakukan slicing pada array tersebut sesuai dengan arahan kotak merah!\n",
        "\n",
        "![slicing3.png](data:image/png;base64,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)"
      ],
      "metadata": {
        "id": "8dQDNuBIP0jp"
      }
    },
    {
      "cell_type": "code",
      "source": [
        "g = np.array([[4,3,8],[7,2,5],[6,1,9]])\n",
        "print(g,'\\n')\n",
        "print(g[1:3, 1:2],'\\n')\n",
        "print(g[0:1, 1:3])"
      ],
      "metadata": {
        "id": "iBuYUtQmP2jv",
        "colab": {
          "base_uri": "https://localhost:8080/"
        },
        "outputId": "35d6b3c5-7880-407f-e19b-ef3efc0060b2"
      },
      "execution_count": null,
      "outputs": [
        {
          "output_type": "stream",
          "name": "stdout",
          "text": [
            "[[4 3 8]\n",
            " [7 2 5]\n",
            " [6 1 9]] \n",
            "\n",
            "[[2]\n",
            " [1]] \n",
            "\n",
            "[[3 8]]\n"
          ]
        }
      ]
    },
    {
      "cell_type": "markdown",
      "source": [
        "5. Buat sebuah array dengan elemen seperti gambar di bawah!\n",
        "Kemudian lakukan slicing pada array tersebut sesuai dengan arahan kotak merah!\n",
        "\n",
        "![slicing4.png](data:image/png;base64,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)"
      ],
      "metadata": {
        "id": "DPyz254AP535"
      }
    },
    {
      "cell_type": "code",
      "source": [
        "k = np.array([[23,35,93,87],\n",
        "             [92,44,11,83],\n",
        "              [40,12,46,28],\n",
        "              [73,67,65,32]])\n",
        "\n",
        "print(k,'\\n')\n",
        "print(k[1,1:],'\\n')\n",
        "print(k[2:4, 1:3],'\\n')\n",
        "print(k[1:,1:], '\\n')\n",
        "print(k[1:3,0:2],'\\n')\n",
        "print(k[:2,:3],'\\n')\n",
        "print(k[1:,1])"
      ],
      "metadata": {
        "id": "IiT9zPxgP8R4",
        "colab": {
          "base_uri": "https://localhost:8080/"
        },
        "outputId": "5a10180b-09bc-48b2-9e34-4131fdbd36e7"
      },
      "execution_count": null,
      "outputs": [
        {
          "output_type": "stream",
          "name": "stdout",
          "text": [
            "[[23 35 93 87]\n",
            " [92 44 11 83]\n",
            " [40 12 46 28]\n",
            " [73 67 65 32]] \n",
            "\n",
            "[44 11 83] \n",
            "\n",
            "[[12 46]\n",
            " [67 65]] \n",
            "\n",
            "[[44 11 83]\n",
            " [12 46 28]\n",
            " [67 65 32]] \n",
            "\n",
            "[[92 44]\n",
            " [40 12]] \n",
            "\n",
            "[[23 35 93]\n",
            " [92 44 11]] \n",
            "\n",
            "[44 12 67]\n"
          ]
        }
      ]
    }
  ]
}
