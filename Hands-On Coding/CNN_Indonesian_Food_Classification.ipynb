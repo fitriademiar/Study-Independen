{
  "cells": [
    {
      "cell_type": "markdown",
      "metadata": {
        "id": "view-in-github",
        "colab_type": "text"
      },
      "source": [
        "<a href=\"https://colab.research.google.com/github/fitriademiar/Study-Independen/blob/main/CNN_Indonesian_Food_Classification.ipynb\" target=\"_parent\"><img src=\"https://colab.research.google.com/assets/colab-badge.svg\" alt=\"Open In Colab\"/></a>"
      ]
    },
    {
      "cell_type": "markdown",
      "metadata": {
        "id": "PkKFHyVSgAOs"
      },
      "source": [
        "# Image Classification menggunakan CNN"
      ]
    },
    {
      "cell_type": "markdown",
      "source": [
        "##Import Dataset"
      ],
      "metadata": {
        "id": "lfnJWxDqzNHt"
      }
    },
    {
      "cell_type": "code",
      "execution_count": null,
      "metadata": {
        "id": "epxt6Pv_2MDi",
        "colab": {
          "base_uri": "https://localhost:8080/"
        },
        "outputId": "1ba0ef54-45a5-4002-9e58-51932dc81f72"
      },
      "outputs": [
        {
          "output_type": "stream",
          "name": "stdout",
          "text": [
            "Mounted at /content/drive\n"
          ]
        }
      ],
      "source": [
        "from google.colab import drive\n",
        "drive.mount('/content/drive')"
      ]
    },
    {
      "cell_type": "markdown",
      "metadata": {
        "id": "Zn__ebYDjIKg"
      },
      "source": [
        "<img src=\"https://asset.kompas.com/crops/MVYZa0srvFsVsEPCA3X_qpffmBc=/44x8:1000x645/483x300/data/photo/2019/12/18/5df9e59f4c8b0.jpg\">"
      ]
    },
    {
      "cell_type": "markdown",
      "metadata": {
        "id": "Vnd6BvjXgZw8"
      },
      "source": [
        "Dataset yang akan kita gunakan adalah dataset makanan Indonesia yang diambil sebagian dari Kaggle. Dataset dapat didownload [disini](https://drive.google.com/file/d/12aMkT21BxaTkf_FlPYS7fxzDZjunMv-O/view). Setelah dataset diunduh, simpan file zip nya di drive. Kemudian panggil perintah berikut untuk melakukan ekstraksi dataset."
      ]
    },
    {
      "cell_type": "code",
      "execution_count": null,
      "metadata": {
        "id": "pYrIWkqOz_HG"
      },
      "outputs": [],
      "source": [
        "import zipfile\n",
        "with zipfile.ZipFile(\"/content/drive/MyDrive/dataset_food.zip\",'r') as zip_ref:\n",
        "  zip_ref.extractall('./')\n"
      ]
    },
    {
      "cell_type": "markdown",
      "metadata": {
        "id": "AZ4TmnXDhMFy"
      },
      "source": [
        "##Load Dataset\n",
        "\n",
        "Di dalam dataset tersebut, terdapat 3 partisi data yang berbeda. Yaitu data training, validation dan juga testing. Berikut adalah perintah untuk melakukan proses loading gambar-gambar di dataset yang sudah kita ekstrak sebelumnya."
      ]
    },
    {
      "cell_type": "code",
      "execution_count": null,
      "metadata": {
        "id": "4xmbHF2cD-5y",
        "colab": {
          "base_uri": "https://localhost:8080/"
        },
        "outputId": "06ea0850-65fb-4946-b067-990515b251ba"
      },
      "outputs": [
        {
          "output_type": "stream",
          "name": "stdout",
          "text": [
            "Found 3949 images belonging to 5 classes.\n",
            "Found 902 images belonging to 5 classes.\n",
            "Found 3949 images belonging to 5 classes.\n"
          ]
        }
      ],
      "source": [
        "from tensorflow.keras.preprocessing.image import ImageDataGenerator\n",
        "#Semua gambar (pixelnya) di rescale menjadi rentang 0-1\n",
        "train_datagen = ImageDataGenerator(rescale=1/255)\n",
        "validation_datagen = ImageDataGenerator(rescale=1/255)\n",
        "test_datagen = ImageDataGenerator(rescale=1/255)\n",
        "\n",
        "#Proses load data train\n",
        "train_generator = train_datagen.flow_from_directory(\n",
        "    '/content/dataset_food/train', #Source dari data train\n",
        "    classes = ['bakso', 'gado', 'gudeg', 'rendang', 'sate'],\n",
        "    target_size = (200,200), #Semua gambar akan dirize menjadi 200x200\n",
        "    batch_size=16)\n",
        "\n",
        "#Proses load data validation\n",
        "validation_generator = validation_datagen.flow_from_directory(\n",
        "    '/content/dataset_food/valid', #Source dari data validation\n",
        "    classes = ['bakso', 'gado', 'gudeg', 'rendang', 'sate'],\n",
        "    target_size = (200,200), #Semua gambar akan dirize menjadi 200x200\n",
        "    batch_size=16,\n",
        "    shuffle=False)\n",
        "\n",
        "#Proses load data test\n",
        "test_generator = test_datagen.flow_from_directory(\n",
        "    '/content/dataset_food/train', #Source dari data test\n",
        "     classes = ['bakso', 'gado', 'gudeg', 'rendang', 'sate'],\n",
        "    target_size = (200,200), #Semua gambar akan dirize menjadi 200x200\n",
        "    batch_size=16,\n",
        "    shuffle=False)\n",
        "\n"
      ]
    },
    {
      "cell_type": "markdown",
      "source": [
        "##Modeling"
      ],
      "metadata": {
        "id": "EGB3df2Fzc76"
      }
    },
    {
      "cell_type": "markdown",
      "source": [
        "###import library"
      ],
      "metadata": {
        "id": "05eQVcGrzev0"
      }
    },
    {
      "cell_type": "code",
      "execution_count": null,
      "metadata": {
        "id": "pKVL5EfMEZWn"
      },
      "outputs": [],
      "source": [
        "import numpy as np\n",
        "import tensorflow as tf\n",
        "from tensorflow.keras.preprocessing.image import ImageDataGenerator\n",
        "from tensorflow.keras.optimizers import Adam, RMSprop, SGD\n",
        "from tensorflow.keras.layers import Dense, MaxPooling2D, Dropout, Conv2D, Flatten\n",
        "from tensorflow.keras.models import Sequential\n",
        "from tensorflow.keras.metrics import Precision, Accuracy\n",
        "from tensorflow.keras.callbacks import EarlyStopping"
      ]
    },
    {
      "cell_type": "markdown",
      "source": [
        "###Model arsitektur CNN"
      ],
      "metadata": {
        "id": "7zhTEtfpzk4L"
      }
    },
    {
      "cell_type": "code",
      "execution_count": null,
      "metadata": {
        "id": "wWK-BRuPEwE1"
      },
      "outputs": [],
      "source": [
        "model = Sequential()\n",
        "model.add(Conv2D(16, (3,3), activation='relu', input_shape=(200,200,3)))\n",
        "model.add(MaxPooling2D(2,2))\n",
        "model.add(Conv2D(32,(3,3), activation='relu'))\n",
        "model.add(MaxPooling2D(2,2))\n",
        "model.add(Conv2D(64,(3,3), activation='relu'))\n",
        "model.add(MaxPooling2D(2,2))\n",
        "model.add(Flatten())\n",
        "model.add(Dense(64, activation='relu'))\n",
        "model.add(Dense(256, activation='relu'))\n",
        "model.add(Dropout(0.3))\n",
        "model.add(Dense(5, activation='softmax'))"
      ]
    },
    {
      "cell_type": "code",
      "execution_count": null,
      "metadata": {
        "id": "gGv7FounEx5W",
        "colab": {
          "base_uri": "https://localhost:8080/"
        },
        "outputId": "997eb27a-56f7-4a22-8b0a-ca82ebddce3b"
      },
      "outputs": [
        {
          "output_type": "stream",
          "name": "stdout",
          "text": [
            "Model: \"sequential\"\n",
            "_________________________________________________________________\n",
            " Layer (type)                Output Shape              Param #   \n",
            "=================================================================\n",
            " conv2d (Conv2D)             (None, 198, 198, 16)      448       \n",
            "                                                                 \n",
            " max_pooling2d (MaxPooling2  (None, 99, 99, 16)        0         \n",
            " D)                                                              \n",
            "                                                                 \n",
            " conv2d_1 (Conv2D)           (None, 97, 97, 32)        4640      \n",
            "                                                                 \n",
            " max_pooling2d_1 (MaxPoolin  (None, 48, 48, 32)        0         \n",
            " g2D)                                                            \n",
            "                                                                 \n",
            " conv2d_2 (Conv2D)           (None, 46, 46, 64)        18496     \n",
            "                                                                 \n",
            " max_pooling2d_2 (MaxPoolin  (None, 23, 23, 64)        0         \n",
            " g2D)                                                            \n",
            "                                                                 \n",
            " flatten (Flatten)           (None, 33856)             0         \n",
            "                                                                 \n",
            " dense (Dense)               (None, 64)                2166848   \n",
            "                                                                 \n",
            " dense_1 (Dense)             (None, 256)               16640     \n",
            "                                                                 \n",
            " dropout (Dropout)           (None, 256)               0         \n",
            "                                                                 \n",
            " dense_2 (Dense)             (None, 5)                 1285      \n",
            "                                                                 \n",
            "=================================================================\n",
            "Total params: 2208357 (8.42 MB)\n",
            "Trainable params: 2208357 (8.42 MB)\n",
            "Non-trainable params: 0 (0.00 Byte)\n",
            "_________________________________________________________________\n"
          ]
        }
      ],
      "source": [
        "model.summary()\n"
      ]
    },
    {
      "cell_type": "markdown",
      "source": [
        "###Compile terhadap model"
      ],
      "metadata": {
        "id": "8SMz1pb0zusW"
      }
    },
    {
      "cell_type": "code",
      "execution_count": null,
      "metadata": {
        "id": "X4Yupd_4Fnri"
      },
      "outputs": [],
      "source": [
        "from tensorflow.keras.metrics import Recall, Precision\n",
        "\n",
        "model.compile(\n",
        "    optimizer=Adam(learning_rate=0.001),\n",
        "    loss='categorical_crossentropy',\n",
        "    metrics = [Recall(), Precision(), \"accuracy\"]\n",
        ")"
      ]
    },
    {
      "cell_type": "markdown",
      "source": [
        "###Memberhentikan proses training, jika nilai loss dalam 3 iterasi selanjutnya sudah tidak menurun"
      ],
      "metadata": {
        "id": "zPr00oNW0BIh"
      }
    },
    {
      "cell_type": "code",
      "execution_count": null,
      "metadata": {
        "id": "8NrGCNuYE_uR"
      },
      "outputs": [],
      "source": [
        "model_callback = EarlyStopping(\n",
        "    monitor = 'loss',\n",
        "    verbose = 1,\n",
        "    mode ='min',\n",
        "    patience = 3\n",
        ")\n"
      ]
    },
    {
      "cell_type": "markdown",
      "source": [
        "###Training"
      ],
      "metadata": {
        "id": "GaZm89kC0M4z"
      }
    },
    {
      "cell_type": "code",
      "execution_count": null,
      "metadata": {
        "id": "oZ6qnaybFCNP",
        "colab": {
          "base_uri": "https://localhost:8080/"
        },
        "outputId": "e25b863e-0e05-44a4-facf-dea237a39dc1"
      },
      "outputs": [
        {
          "output_type": "stream",
          "name": "stdout",
          "text": [
            "Epoch 1/30\n",
            "50/50 [==============================] - 55s 1s/step - loss: 1.5205 - recall: 0.0150 - precision: 0.3871 - accuracy: 0.3050 - val_loss: 1.2563 - val_recall: 0.0710 - val_precision: 0.8000 - val_accuracy: 0.5044\n",
            "Epoch 2/30\n",
            "50/50 [==============================] - 39s 782ms/step - loss: 1.3702 - recall: 0.1400 - precision: 0.5385 - accuracy: 0.4250 - val_loss: 1.2616 - val_recall: 0.1552 - val_precision: 0.7650 - val_accuracy: 0.4878\n",
            "Epoch 3/30\n",
            "50/50 [==============================] - 41s 824ms/step - loss: 1.2762 - recall: 0.1932 - precision: 0.6087 - accuracy: 0.4705 - val_loss: 1.1554 - val_recall: 0.2605 - val_precision: 0.7187 - val_accuracy: 0.5377\n",
            "Epoch 4/30\n",
            "50/50 [==============================] - 41s 823ms/step - loss: 1.2161 - recall: 0.2673 - precision: 0.6377 - accuracy: 0.5119 - val_loss: 1.0825 - val_recall: 0.3282 - val_precision: 0.7081 - val_accuracy: 0.5776\n",
            "Epoch 5/30\n",
            "50/50 [==============================] - 41s 833ms/step - loss: 1.0898 - recall: 0.3525 - precision: 0.6763 - accuracy: 0.5663 - val_loss: 1.0312 - val_recall: 0.4279 - val_precision: 0.6856 - val_accuracy: 0.5898\n",
            "Epoch 6/30\n",
            "50/50 [==============================] - 41s 823ms/step - loss: 0.9774 - recall: 0.4437 - precision: 0.6974 - accuracy: 0.6100 - val_loss: 0.9294 - val_recall: 0.5211 - val_precision: 0.7593 - val_accuracy: 0.6596\n",
            "Epoch 7/30\n",
            "50/50 [==============================] - 42s 844ms/step - loss: 0.9589 - recall: 0.4988 - precision: 0.7389 - accuracy: 0.6612 - val_loss: 0.9129 - val_recall: 0.5155 - val_precision: 0.7686 - val_accuracy: 0.6619\n",
            "Epoch 8/30\n",
            "50/50 [==============================] - 41s 817ms/step - loss: 0.8709 - recall: 0.5875 - precision: 0.7556 - accuracy: 0.6775 - val_loss: 0.9203 - val_recall: 0.4800 - val_precision: 0.8524 - val_accuracy: 0.6851\n",
            "Epoch 9/30\n",
            "50/50 [==============================] - 50s 1s/step - loss: 0.8374 - recall: 0.5725 - precision: 0.7789 - accuracy: 0.6988 - val_loss: 0.8337 - val_recall: 0.6463 - val_precision: 0.7523 - val_accuracy: 0.6984\n",
            "Epoch 10/30\n",
            "50/50 [==============================] - 52s 1s/step - loss: 0.7414 - recall: 0.6512 - precision: 0.7900 - accuracy: 0.7340 - val_loss: 0.7916 - val_recall: 0.5953 - val_precision: 0.8015 - val_accuracy: 0.7106\n",
            "Epoch 11/30\n",
            "50/50 [==============================] - 42s 833ms/step - loss: 0.7383 - recall: 0.6513 - precision: 0.7918 - accuracy: 0.7350 - val_loss: 0.8717 - val_recall: 0.5654 - val_precision: 0.7612 - val_accuracy: 0.6829\n",
            "Epoch 12/30\n",
            "50/50 [==============================] - 43s 866ms/step - loss: 0.6979 - recall: 0.6888 - precision: 0.8273 - accuracy: 0.7588 - val_loss: 0.8600 - val_recall: 0.5798 - val_precision: 0.7536 - val_accuracy: 0.6796\n",
            "Epoch 13/30\n",
            "50/50 [==============================] - 51s 1s/step - loss: 0.6034 - recall: 0.7265 - precision: 0.8260 - accuracy: 0.7955 - val_loss: 0.8328 - val_recall: 0.6552 - val_precision: 0.7490 - val_accuracy: 0.7073\n",
            "Epoch 14/30\n",
            "50/50 [==============================] - 51s 1s/step - loss: 0.4878 - recall: 0.7812 - precision: 0.8515 - accuracy: 0.8175 - val_loss: 0.8963 - val_recall: 0.6397 - val_precision: 0.7177 - val_accuracy: 0.6829\n",
            "Epoch 15/30\n",
            "50/50 [==============================] - 42s 849ms/step - loss: 0.4870 - recall: 0.7905 - precision: 0.8502 - accuracy: 0.8243 - val_loss: 0.8128 - val_recall: 0.6619 - val_precision: 0.7557 - val_accuracy: 0.7118\n",
            "Epoch 16/30\n",
            "50/50 [==============================] - 50s 1s/step - loss: 0.4552 - recall: 0.8118 - precision: 0.8803 - accuracy: 0.8407 - val_loss: 0.8276 - val_recall: 0.6840 - val_precision: 0.7617 - val_accuracy: 0.7251\n",
            "Epoch 17/30\n",
            "50/50 [==============================] - 43s 857ms/step - loss: 0.3685 - recall: 0.8595 - precision: 0.8943 - accuracy: 0.8770 - val_loss: 0.8524 - val_recall: 0.6652 - val_precision: 0.7509 - val_accuracy: 0.7095\n",
            "Epoch 18/30\n",
            "50/50 [==============================] - 43s 870ms/step - loss: 0.4243 - recall: 0.8462 - precision: 0.8873 - accuracy: 0.8687 - val_loss: 0.8392 - val_recall: 0.6552 - val_precision: 0.7500 - val_accuracy: 0.7040\n",
            "Epoch 19/30\n",
            "50/50 [==============================] - 55s 1s/step - loss: 0.4010 - recall: 0.8413 - precision: 0.8938 - accuracy: 0.8712 - val_loss: 0.8439 - val_recall: 0.6630 - val_precision: 0.7503 - val_accuracy: 0.7062\n",
            "Epoch 20/30\n",
            "50/50 [==============================] - 51s 1s/step - loss: 0.3525 - recall: 0.8625 - precision: 0.9139 - accuracy: 0.8838 - val_loss: 0.8956 - val_recall: 0.6674 - val_precision: 0.7107 - val_accuracy: 0.6896\n",
            "Epoch 21/30\n",
            "50/50 [==============================] - 54s 1s/step - loss: 0.2749 - recall: 0.8988 - precision: 0.9277 - accuracy: 0.9125 - val_loss: 1.0410 - val_recall: 0.6785 - val_precision: 0.7217 - val_accuracy: 0.6973\n",
            "Epoch 22/30\n",
            "50/50 [==============================] - 51s 1s/step - loss: 0.2330 - recall: 0.9137 - precision: 0.9324 - accuracy: 0.9225 - val_loss: 1.0716 - val_recall: 0.6353 - val_precision: 0.6694 - val_accuracy: 0.6508\n",
            "Epoch 23/30\n",
            "50/50 [==============================] - 50s 1s/step - loss: 0.3024 - recall: 0.8788 - precision: 0.9106 - accuracy: 0.8913 - val_loss: 0.9068 - val_recall: 0.6774 - val_precision: 0.7248 - val_accuracy: 0.7040\n",
            "Epoch 24/30\n",
            "50/50 [==============================] - 43s 871ms/step - loss: 0.2691 - recall: 0.8996 - precision: 0.9240 - accuracy: 0.9159 - val_loss: 0.9327 - val_recall: 0.6807 - val_precision: 0.7266 - val_accuracy: 0.7084\n",
            "Epoch 25/30\n",
            "50/50 [==============================] - 51s 1s/step - loss: 0.1902 - recall: 0.9337 - precision: 0.9577 - accuracy: 0.9400 - val_loss: 1.0523 - val_recall: 0.6718 - val_precision: 0.7155 - val_accuracy: 0.6940\n",
            "Epoch 26/30\n",
            "50/50 [==============================] - 51s 1s/step - loss: 0.1788 - recall: 0.9350 - precision: 0.9529 - accuracy: 0.9425 - val_loss: 1.0414 - val_recall: 0.6541 - val_precision: 0.7024 - val_accuracy: 0.6818\n",
            "Epoch 27/30\n",
            "50/50 [==============================] - 43s 857ms/step - loss: 0.1650 - recall: 0.9500 - precision: 0.9645 - accuracy: 0.9600 - val_loss: 1.1328 - val_recall: 0.6918 - val_precision: 0.7123 - val_accuracy: 0.7051\n",
            "Epoch 28/30\n",
            "50/50 [==============================] - 51s 1s/step - loss: 0.1502 - recall: 0.9425 - precision: 0.9556 - accuracy: 0.9500 - val_loss: 1.0840 - val_recall: 0.6807 - val_precision: 0.7165 - val_accuracy: 0.6973\n",
            "Epoch 29/30\n",
            "50/50 [==============================] - 57s 1s/step - loss: 0.1267 - recall: 0.9475 - precision: 0.9656 - accuracy: 0.9550 - val_loss: 1.2949 - val_recall: 0.6907 - val_precision: 0.7104 - val_accuracy: 0.7007\n",
            "Epoch 30/30\n",
            "50/50 [==============================] - 41s 825ms/step - loss: 0.2130 - recall: 0.9175 - precision: 0.9374 - accuracy: 0.9275 - val_loss: 1.1897 - val_recall: 0.6652 - val_precision: 0.7026 - val_accuracy: 0.6763\n"
          ]
        }
      ],
      "source": [
        "history = model.fit(\n",
        "    train_generator,\n",
        "    validation_data = validation_generator,\n",
        "    epochs = 30,\n",
        "    steps_per_epoch = 50,\n",
        "    callbacks = [model_callback],\n",
        "    verbose = 1\n",
        ")"
      ]
    },
    {
      "cell_type": "markdown",
      "source": [
        "###Prediksi Data test"
      ],
      "metadata": {
        "id": "aC_Zzl4T0THu"
      }
    },
    {
      "cell_type": "code",
      "execution_count": null,
      "metadata": {
        "id": "fHkUiJs432Pq",
        "colab": {
          "base_uri": "https://localhost:8080/"
        },
        "outputId": "342919fe-dd25-41a9-d1b5-4589c2e097f4"
      },
      "outputs": [
        {
          "output_type": "stream",
          "name": "stdout",
          "text": [
            "247/247 [==============================] - 53s 212ms/step - loss: 0.1199 - recall: 0.9575 - precision: 0.9742 - accuracy: 0.9673\n"
          ]
        },
        {
          "output_type": "execute_result",
          "data": {
            "text/plain": [
              "[0.11988725513219833,\n",
              " 0.9574576020240784,\n",
              " 0.9742334485054016,\n",
              " 0.9673334956169128]"
            ]
          },
          "metadata": {},
          "execution_count": 10
        }
      ],
      "source": [
        "model.evaluate(test_generator)"
      ]
    },
    {
      "cell_type": "markdown",
      "source": [
        "###Visualisasi nilai loss dari setiap iterasi training yang terjadi"
      ],
      "metadata": {
        "id": "TLyGADu30ZuN"
      }
    },
    {
      "cell_type": "code",
      "execution_count": null,
      "metadata": {
        "id": "-zVeljZp3-O4",
        "colab": {
          "base_uri": "https://localhost:8080/",
          "height": 333
        },
        "outputId": "8bb1bf3c-d1f7-41cd-ad7d-88c75f53c856"
      },
      "outputs": [
        {
          "output_type": "display_data",
          "data": {
            "text/plain": [
              "<Figure size 800x300 with 1 Axes>"
            ],
            "image/png": "[encoded data removed]"
          },
          "metadata": {}
        }
      ],
      "source": [
        "import matplotlib.pyplot as plt\n",
        "\n",
        "plt.figure(figsize=(8,3))\n",
        "plt.plot(history.epoch, history.history['loss'])\n",
        "plt.plot(history.epoch, history.history['val_loss'])\n",
        "plt.legend(['train loss', 'val loss'])\n",
        "plt.title('Loss Diagram')\n",
        "plt.xlabel('Epoch(s)')\n",
        "plt.ylabel('Loss')\n",
        "plt.show()\n"
      ]
    },
    {
      "cell_type": "markdown",
      "source": [
        "###Simpan model"
      ],
      "metadata": {
        "id": "SG8ewz_q0jCl"
      }
    },
    {
      "cell_type": "code",
      "execution_count": null,
      "metadata": {
        "id": "A6LnYRmX3G47",
        "colab": {
          "base_uri": "https://localhost:8080/"
        },
        "outputId": "bff33976-213c-494e-ee2d-a691ea54964b"
      },
      "outputs": [
        {
          "output_type": "stream",
          "name": "stderr",
          "text": [
            "/usr/local/lib/python3.10/dist-packages/keras/src/engine/training.py:3103: UserWarning: You are saving your model as an HDF5 file via `model.save()`. This file format is considered legacy. We recommend using instead the native Keras format, e.g. `model.save('my_model.keras')`.\n",
            "  saving_api.save_model(\n"
          ]
        }
      ],
      "source": [
        "model.save('model_acc_89.h5')\n"
      ]
    },
    {
      "cell_type": "markdown",
      "metadata": {
        "id": "zZFmf-50oC3f"
      },
      "source": [
        "Lakukan predict ke gambar baru"
      ]
    },
    {
      "cell_type": "markdown",
      "source": [
        "##Prediksi Gambar Baru"
      ],
      "metadata": {
        "id": "2nF4Fwwp0ofg"
      }
    },
    {
      "cell_type": "code",
      "execution_count": null,
      "metadata": {
        "colab": {
          "base_uri": "https://localhost:8080/",
          "height": 109
        },
        "id": "Yyc4E55AoEPQ",
        "outputId": "1c8dad2c-3e7d-4d88-83d4-d82aa02266db"
      },
      "outputs": [
        {
          "output_type": "display_data",
          "data": {
            "text/plain": [
              "<IPython.core.display.HTML object>"
            ],
            "text/html": [
              "\n",
              "     <input type=\"file\" id=\"files-091f13df-0cc7-4662-b0fa-28a1c3ae50e0\" name=\"files[]\" multiple disabled\n",
              "        style=\"border:none\" />\n",
              "     <output id=\"result-091f13df-0cc7-4662-b0fa-28a1c3ae50e0\">\n",
              "      Upload widget is only available when the cell has been executed in the\n",
              "      current browser session. Please rerun this cell to enable.\n",
              "      </output>\n",
              "      <script>// Copyright 2017 Google LLC\n",
              "//\n",
              "// Licensed under the Apache License, Version 2.0 (the \"License\");\n",
              "// you may not use this file except in compliance with the License.\n",
              "// You may obtain a copy of the License at\n",
              "//\n",
              "//      http://www.apache.org/licenses/LICENSE-2.0\n",
              "//\n",
              "// Unless required by applicable law or agreed to in writing, software\n",
              "// distributed under the License is distributed on an \"AS IS\" BASIS,\n",
              "// WITHOUT WARRANTIES OR CONDITIONS OF ANY KIND, either express or implied.\n",
              "// See the License for the specific language governing permissions and\n",
              "// limitations under the License.\n",
              "\n",
              "/**\n",
              " * @fileoverview Helpers for google.colab Python module.\n",
              " */\n",
              "(function(scope) {\n",
              "function span(text, styleAttributes = {}) {\n",
              "  const element = document.createElement('span');\n",
              "  element.textContent = text;\n",
              "  for (const key of Object.keys(styleAttributes)) {\n",
              "    element.style[key] = styleAttributes[key];\n",
              "  }\n",
              "  return element;\n",
              "}\n",
              "\n",
              "// Max number of bytes which will be uploaded at a time.\n",
              "const MAX_PAYLOAD_SIZE = 100 * 1024;\n",
              "\n",
              "function _uploadFiles(inputId, outputId) {\n",
              "  const steps = uploadFilesStep(inputId, outputId);\n",
              "  const outputElement = document.getElementById(outputId);\n",
              "  // Cache steps on the outputElement to make it available for the next call\n",
              "  // to uploadFilesContinue from Python.\n",
              "  outputElement.steps = steps;\n",
              "\n",
              "  return _uploadFilesContinue(outputId);\n",
              "}\n",
              "\n",
              "// This is roughly an async generator (not supported in the browser yet),\n",
              "// where there are multiple asynchronous steps and the Python side is going\n",
              "// to poll for completion of each step.\n",
              "// This uses a Promise to block the python side on completion of each step,\n",
              "// then passes the result of the previous step as the input to the next step.\n",
              "function _uploadFilesContinue(outputId) {\n",
              "  const outputElement = document.getElementById(outputId);\n",
              "  const steps = outputElement.steps;\n",
              "\n",
              "  const next = steps.next(outputElement.lastPromiseValue);\n",
              "  return Promise.resolve(next.value.promise).then((value) => {\n",
              "    // Cache the last promise value to make it available to the next\n",
              "    // step of the generator.\n",
              "    outputElement.lastPromiseValue = value;\n",
              "    return next.value.response;\n",
              "  });\n",
              "}\n",
              "\n",
              "/**\n",
              " * Generator function which is called between each async step of the upload\n",
              " * process.\n",
              " * @param {string} inputId Element ID of the input file picker element.\n",
              " * @param {string} outputId Element ID of the output display.\n",
              " * @return {!Iterable<!Object>} Iterable of next steps.\n",
              " */\n",
              "function* uploadFilesStep(inputId, outputId) {\n",
              "  const inputElement = document.getElementById(inputId);\n",
              "  inputElement.disabled = false;\n",
              "\n",
              "  const outputElement = document.getElementById(outputId);\n",
              "  outputElement.innerHTML = '';\n",
              "\n",
              "  const pickedPromise = new Promise((resolve) => {\n",
              "    inputElement.addEventListener('change', (e) => {\n",
              "      resolve(e.target.files);\n",
              "    });\n",
              "  });\n",
              "\n",
              "  const cancel = document.createElement('button');\n",
              "  inputElement.parentElement.appendChild(cancel);\n",
              "  cancel.textContent = 'Cancel upload';\n",
              "  const cancelPromise = new Promise((resolve) => {\n",
              "    cancel.onclick = () => {\n",
              "      resolve(null);\n",
              "    };\n",
              "  });\n",
              "\n",
              "  // Wait for the user to pick the files.\n",
              "  const files = yield {\n",
              "    promise: Promise.race([pickedPromise, cancelPromise]),\n",
              "    response: {\n",
              "      action: 'starting',\n",
              "    }\n",
              "  };\n",
              "\n",
              "  cancel.remove();\n",
              "\n",
              "  // Disable the input element since further picks are not allowed.\n",
              "  inputElement.disabled = true;\n",
              "\n",
              "  if (!files) {\n",
              "    return {\n",
              "      response: {\n",
              "        action: 'complete',\n",
              "      }\n",
              "    };\n",
              "  }\n",
              "\n",
              "  for (const file of files) {\n",
              "    const li = document.createElement('li');\n",
              "    li.append(span(file.name, {fontWeight: 'bold'}));\n",
              "    li.append(span(\n",
              "        `(${file.type || 'n/a'}) - ${file.size} bytes, ` +\n",
              "        `last modified: ${\n",
              "            file.lastModifiedDate ? file.lastModifiedDate.toLocaleDateString() :\n",
              "                                    'n/a'} - `));\n",
              "    const percent = span('0% done');\n",
              "    li.appendChild(percent);\n",
              "\n",
              "    outputElement.appendChild(li);\n",
              "\n",
              "    const fileDataPromise = new Promise((resolve) => {\n",
              "      const reader = new FileReader();\n",
              "      reader.onload = (e) => {\n",
              "        resolve(e.target.result);\n",
              "      };\n",
              "      reader.readAsArrayBuffer(file);\n",
              "    });\n",
              "    // Wait for the data to be ready.\n",
              "    let fileData = yield {\n",
              "      promise: fileDataPromise,\n",
              "      response: {\n",
              "        action: 'continue',\n",
              "      }\n",
              "    };\n",
              "\n",
              "    // Use a chunked sending to avoid message size limits. See b/62115660.\n",
              "    let position = 0;\n",
              "    do {\n",
              "      const length = Math.min(fileData.byteLength - position, MAX_PAYLOAD_SIZE);\n",
              "      const chunk = new Uint8Array(fileData, position, length);\n",
              "      position += length;\n",
              "\n",
              "      const base64 = btoa(String.fromCharCode.apply(null, chunk));\n",
              "      yield {\n",
              "        response: {\n",
              "          action: 'append',\n",
              "          file: file.name,\n",
              "          data: base64,\n",
              "        },\n",
              "      };\n",
              "\n",
              "      let percentDone = fileData.byteLength === 0 ?\n",
              "          100 :\n",
              "          Math.round((position / fileData.byteLength) * 100);\n",
              "      percent.textContent = `${percentDone}% done`;\n",
              "\n",
              "    } while (position < fileData.byteLength);\n",
              "  }\n",
              "\n",
              "  // All done.\n",
              "  yield {\n",
              "    response: {\n",
              "      action: 'complete',\n",
              "    }\n",
              "  };\n",
              "}\n",
              "\n",
              "scope.google = scope.google || {};\n",
              "scope.google.colab = scope.google.colab || {};\n",
              "scope.google.colab._files = {\n",
              "  _uploadFiles,\n",
              "  _uploadFilesContinue,\n",
              "};\n",
              "})(self);\n",
              "</script> "
            ]
          },
          "metadata": {}
        },
        {
          "output_type": "stream",
          "name": "stdout",
          "text": [
            "Saving gambar.jpg to gambar.jpg\n",
            "1/1 [==============================] - 0s 169ms/step\n",
            "rendang\n"
          ]
        }
      ],
      "source": [
        "%matplotlib inline\n",
        "import matplotlib.pyplot as plt\n",
        "import numpy as np\n",
        "from google.colab import files\n",
        "from keras.preprocessing import image\n",
        "\n",
        "uploaded = files.upload()\n",
        "\n",
        "for fn in uploaded.keys():\n",
        "\n",
        "  # predicting images\n",
        "  path = '/content/' + fn\n",
        "  img = image.load_img(path, target_size=(200, 200));\n",
        "  img_array = image.img_to_array(img)\n",
        "  img_array = np.expand_dims(img_array, axis=0)\n",
        "\n",
        "  classes = model.predict(img_array/255);\n",
        "\n",
        "  for i, class_ in enumerate(classes[0]):\n",
        "      if class_ == classes[0].max():\n",
        "          if i == 0:\n",
        "              print(\"bakso\")\n",
        "          elif i == 1:\n",
        "              print(\"gado\")\n",
        "          elif i == 2:\n",
        "              print(\"gudeg\")\n",
        "          elif i == 3:\n",
        "              print(\"rendang\")\n",
        "          else:\n",
        "              print(\"sate\")"
      ]
    },
    {
      "cell_type": "code",
      "execution_count": null,
      "metadata": {
        "id": "wZyMobIvNw-X"
      },
      "outputs": [],
      "source": []
    }
  ],
  "metadata": {
    "colab": {
      "provenance": [],
      "include_colab_link": true
    },
    "gpuClass": "standard",
    "kernelspec": {
      "display_name": "Python 3",
      "name": "python3"
    },
    "language_info": {
      "name": "python"
    }
  },
  "nbformat": 4,
  "nbformat_minor": 0
}
