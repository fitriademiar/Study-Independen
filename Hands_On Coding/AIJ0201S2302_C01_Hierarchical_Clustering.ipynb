{
  "nbformat": 4,
  "nbformat_minor": 0,
  "metadata": {
    "colab": {
      "provenance": [],
      "include_colab_link": true
    },
    "kernelspec": {
      "display_name": "Python 3",
      "language": "python",
      "name": "python3"
    },
    "language_info": {
      "codemirror_mode": {
        "name": "ipython",
        "version": 3
      },
      "file_extension": ".py",
      "mimetype": "text/x-python",
      "name": "python",
      "nbconvert_exporter": "python",
      "pygments_lexer": "ipython3",
      "version": "3.7.6"
    }
  },
  "cells": [
    {
      "cell_type": "markdown",
      "metadata": {
        "id": "view-in-github",
        "colab_type": "text"
      },
      "source": [
        "<a href=\"https://colab.research.google.com/github/fitriademiar/Study-Independen/blob/main/AIJ0201S2302_C01_Hierarchical_Clustering.ipynb\" target=\"_parent\"><img src=\"https://colab.research.google.com/assets/colab-badge.svg\" alt=\"Open In Colab\"/></a>"
      ]
    },
    {
      "cell_type": "markdown",
      "metadata": {
        "id": "7w6xl-0E66uk"
      },
      "source": [
        "# ML-6 Hierarchical Clustering: Agglomerative Hierarchical Clustering (AHC)"
      ]
    },
    {
      "cell_type": "markdown",
      "source": [
        "## Import Library"
      ],
      "metadata": {
        "id": "gVf-Fq0KV-nx"
      }
    },
    {
      "cell_type": "code",
      "metadata": {
        "id": "YpfUK-Na66ul"
      },
      "source": [
        "import pandas as pd\n",
        "import numpy as np\n",
        "import scipy.cluster.hierarchy as sch\n",
        "from matplotlib import pyplot as plt\n",
        "from sklearn.preprocessing import StandardScaler\n",
        "from sklearn.cluster import AgglomerativeClustering\n"
      ],
      "execution_count": null,
      "outputs": []
    },
    {
      "cell_type": "markdown",
      "source": [
        "## Load Dataset"
      ],
      "metadata": {
        "id": "i16iclVyWhw9"
      }
    },
    {
      "cell_type": "markdown",
      "source": [
        "Download dataset [di sini](https://drive.google.com/file/d/1kQhSkVx2BYYRHeGZtjjfgZTOMSf9YjhY/view?usp=sharing)\n",
        "\n",
        "Pada hands-on kali ini, kita akan membuat customer segmentation dari dataset customer sebuah toko kredit di Mall."
      ],
      "metadata": {
        "id": "TEU2IzNXi0sN"
      }
    },
    {
      "cell_type": "code",
      "metadata": {
        "id": "W3_MYofJ66ul",
        "colab": {
          "base_uri": "https://localhost:8080/",
          "height": 455
        },
        "outputId": "e038cd1a-817c-4ac0-a79e-7e1222f79d48"
      },
      "source": [
        "data = pd.read_csv('Mall_Customers.csv', index_col='CustomerID')\n",
        "data\n"
      ],
      "execution_count": null,
      "outputs": [
        {
          "output_type": "execute_result",
          "data": {
            "text/plain": [
              "            Gender  Age  AnnualIncome  SpendingScore\n",
              "CustomerID                                          \n",
              "1             Male   19            15             39\n",
              "2             Male   21            15             81\n",
              "3           Female   20            16              6\n",
              "4           Female   23            16             77\n",
              "5           Female   31            17             40\n",
              "...            ...  ...           ...            ...\n",
              "209         Female   35          1207             79\n",
              "210         Female   45           126            182\n",
              "211           Male   32           126            174\n",
              "212           Male   32           137            192\n",
              "213           Male   30           137            183\n",
              "\n",
              "[240 rows x 4 columns]"
            ],
            "text/html": [
              "\n",
              "  <div id=\"df-2ef8b930-1398-4207-a241-bd752869060a\" class=\"colab-df-container\">\n",
              "    <div>\n",
              "<style scoped>\n",
              "    .dataframe tbody tr th:only-of-type {\n",
              "        vertical-align: middle;\n",
              "    }\n",
              "\n",
              "    .dataframe tbody tr th {\n",
              "        vertical-align: top;\n",
              "    }\n",
              "\n",
              "    .dataframe thead th {\n",
              "        text-align: right;\n",
              "    }\n",
              "</style>\n",
              "<table border=\"1\" class=\"dataframe\">\n",
              "  <thead>\n",
              "    <tr style=\"text-align: right;\">\n",
              "      <th></th>\n",
              "      <th>Gender</th>\n",
              "      <th>Age</th>\n",
              "      <th>AnnualIncome</th>\n",
              "      <th>SpendingScore</th>\n",
              "    </tr>\n",
              "    <tr>\n",
              "      <th>CustomerID</th>\n",
              "      <th></th>\n",
              "      <th></th>\n",
              "      <th></th>\n",
              "      <th></th>\n",
              "    </tr>\n",
              "  </thead>\n",
              "  <tbody>\n",
              "    <tr>\n",
              "      <th>1</th>\n",
              "      <td>Male</td>\n",
              "      <td>19</td>\n",
              "      <td>15</td>\n",
              "      <td>39</td>\n",
              "    </tr>\n",
              "    <tr>\n",
              "      <th>2</th>\n",
              "      <td>Male</td>\n",
              "      <td>21</td>\n",
              "      <td>15</td>\n",
              "      <td>81</td>\n",
              "    </tr>\n",
              "    <tr>\n",
              "      <th>3</th>\n",
              "      <td>Female</td>\n",
              "      <td>20</td>\n",
              "      <td>16</td>\n",
              "      <td>6</td>\n",
              "    </tr>\n",
              "    <tr>\n",
              "      <th>4</th>\n",
              "      <td>Female</td>\n",
              "      <td>23</td>\n",
              "      <td>16</td>\n",
              "      <td>77</td>\n",
              "    </tr>\n",
              "    <tr>\n",
              "      <th>5</th>\n",
              "      <td>Female</td>\n",
              "      <td>31</td>\n",
              "      <td>17</td>\n",
              "      <td>40</td>\n",
              "    </tr>\n",
              "    <tr>\n",
              "      <th>...</th>\n",
              "      <td>...</td>\n",
              "      <td>...</td>\n",
              "      <td>...</td>\n",
              "      <td>...</td>\n",
              "    </tr>\n",
              "    <tr>\n",
              "      <th>209</th>\n",
              "      <td>Female</td>\n",
              "      <td>35</td>\n",
              "      <td>1207</td>\n",
              "      <td>79</td>\n",
              "    </tr>\n",
              "    <tr>\n",
              "      <th>210</th>\n",
              "      <td>Female</td>\n",
              "      <td>45</td>\n",
              "      <td>126</td>\n",
              "      <td>182</td>\n",
              "    </tr>\n",
              "    <tr>\n",
              "      <th>211</th>\n",
              "      <td>Male</td>\n",
              "      <td>32</td>\n",
              "      <td>126</td>\n",
              "      <td>174</td>\n",
              "    </tr>\n",
              "    <tr>\n",
              "      <th>212</th>\n",
              "      <td>Male</td>\n",
              "      <td>32</td>\n",
              "      <td>137</td>\n",
              "      <td>192</td>\n",
              "    </tr>\n",
              "    <tr>\n",
              "      <th>213</th>\n",
              "      <td>Male</td>\n",
              "      <td>30</td>\n",
              "      <td>137</td>\n",
              "      <td>183</td>\n",
              "    </tr>\n",
              "  </tbody>\n",
              "</table>\n",
              "<p>240 rows × 4 columns</p>\n",
              "</div>\n",
              "    <div class=\"colab-df-buttons\">\n",
              "\n",
              "  <div class=\"colab-df-container\">\n",
              "    <button class=\"colab-df-convert\" onclick=\"convertToInteractive('df-2ef8b930-1398-4207-a241-bd752869060a')\"\n",
              "            title=\"Convert this dataframe to an interactive table.\"\n",
              "            style=\"display:none;\">\n",
              "\n",
              "  <svg xmlns=\"http://www.w3.org/2000/svg\" height=\"24px\" viewBox=\"0 -960 960 960\">\n",
              "    <path d=\"M120-120v-720h720v720H120Zm60-500h600v-160H180v160Zm220 220h160v-160H400v160Zm0 220h160v-160H400v160ZM180-400h160v-160H180v160Zm440 0h160v-160H620v160ZM180-180h160v-160H180v160Zm440 0h160v-160H620v160Z\"/>\n",
              "  </svg>\n",
              "    </button>\n",
              "\n",
              "  <style>\n",
              "    .colab-df-container {\n",
              "      display:flex;\n",
              "      gap: 12px;\n",
              "    }\n",
              "\n",
              "    .colab-df-convert {\n",
              "      background-color: #E8F0FE;\n",
              "      border: none;\n",
              "      border-radius: 50%;\n",
              "      cursor: pointer;\n",
              "      display: none;\n",
              "      fill: #1967D2;\n",
              "      height: 32px;\n",
              "      padding: 0 0 0 0;\n",
              "      width: 32px;\n",
              "    }\n",
              "\n",
              "    .colab-df-convert:hover {\n",
              "      background-color: #E2EBFA;\n",
              "      box-shadow: 0px 1px 2px rgba(60, 64, 67, 0.3), 0px 1px 3px 1px rgba(60, 64, 67, 0.15);\n",
              "      fill: #174EA6;\n",
              "    }\n",
              "\n",
              "    .colab-df-buttons div {\n",
              "      margin-bottom: 4px;\n",
              "    }\n",
              "\n",
              "    [theme=dark] .colab-df-convert {\n",
              "      background-color: #3B4455;\n",
              "      fill: #D2E3FC;\n",
              "    }\n",
              "\n",
              "    [theme=dark] .colab-df-convert:hover {\n",
              "      background-color: #434B5C;\n",
              "      box-shadow: 0px 1px 3px 1px rgba(0, 0, 0, 0.15);\n",
              "      filter: drop-shadow(0px 1px 2px rgba(0, 0, 0, 0.3));\n",
              "      fill: #FFFFFF;\n",
              "    }\n",
              "  </style>\n",
              "\n",
              "    <script>\n",
              "      const buttonEl =\n",
              "        document.querySelector('#df-2ef8b930-1398-4207-a241-bd752869060a button.colab-df-convert');\n",
              "      buttonEl.style.display =\n",
              "        google.colab.kernel.accessAllowed ? 'block' : 'none';\n",
              "\n",
              "      async function convertToInteractive(key) {\n",
              "        const element = document.querySelector('#df-2ef8b930-1398-4207-a241-bd752869060a');\n",
              "        const dataTable =\n",
              "          await google.colab.kernel.invokeFunction('convertToInteractive',\n",
              "                                                    [key], {});\n",
              "        if (!dataTable) return;\n",
              "\n",
              "        const docLinkHtml = 'Like what you see? Visit the ' +\n",
              "          '<a target=\"_blank\" href=https://colab.research.google.com/notebooks/data_table.ipynb>data table notebook</a>'\n",
              "          + ' to learn more about interactive tables.';\n",
              "        element.innerHTML = '';\n",
              "        dataTable['output_type'] = 'display_data';\n",
              "        await google.colab.output.renderOutput(dataTable, element);\n",
              "        const docLink = document.createElement('div');\n",
              "        docLink.innerHTML = docLinkHtml;\n",
              "        element.appendChild(docLink);\n",
              "      }\n",
              "    </script>\n",
              "  </div>\n",
              "\n",
              "\n",
              "<div id=\"df-1b6cd50d-07f9-4163-bf72-bbdf5342d36d\">\n",
              "  <button class=\"colab-df-quickchart\" onclick=\"quickchart('df-1b6cd50d-07f9-4163-bf72-bbdf5342d36d')\"\n",
              "            title=\"Suggest charts\"\n",
              "            style=\"display:none;\">\n",
              "\n",
              "<svg xmlns=\"http://www.w3.org/2000/svg\" height=\"24px\"viewBox=\"0 0 24 24\"\n",
              "     width=\"24px\">\n",
              "    <g>\n",
              "        <path d=\"M19 3H5c-1.1 0-2 .9-2 2v14c0 1.1.9 2 2 2h14c1.1 0 2-.9 2-2V5c0-1.1-.9-2-2-2zM9 17H7v-7h2v7zm4 0h-2V7h2v10zm4 0h-2v-4h2v4z\"/>\n",
              "    </g>\n",
              "</svg>\n",
              "  </button>\n",
              "\n",
              "<style>\n",
              "  .colab-df-quickchart {\n",
              "      --bg-color: #E8F0FE;\n",
              "      --fill-color: #1967D2;\n",
              "      --hover-bg-color: #E2EBFA;\n",
              "      --hover-fill-color: #174EA6;\n",
              "      --disabled-fill-color: #AAA;\n",
              "      --disabled-bg-color: #DDD;\n",
              "  }\n",
              "\n",
              "  [theme=dark] .colab-df-quickchart {\n",
              "      --bg-color: #3B4455;\n",
              "      --fill-color: #D2E3FC;\n",
              "      --hover-bg-color: #434B5C;\n",
              "      --hover-fill-color: #FFFFFF;\n",
              "      --disabled-bg-color: #3B4455;\n",
              "      --disabled-fill-color: #666;\n",
              "  }\n",
              "\n",
              "  .colab-df-quickchart {\n",
              "    background-color: var(--bg-color);\n",
              "    border: none;\n",
              "    border-radius: 50%;\n",
              "    cursor: pointer;\n",
              "    display: none;\n",
              "    fill: var(--fill-color);\n",
              "    height: 32px;\n",
              "    padding: 0;\n",
              "    width: 32px;\n",
              "  }\n",
              "\n",
              "  .colab-df-quickchart:hover {\n",
              "    background-color: var(--hover-bg-color);\n",
              "    box-shadow: 0 1px 2px rgba(60, 64, 67, 0.3), 0 1px 3px 1px rgba(60, 64, 67, 0.15);\n",
              "    fill: var(--button-hover-fill-color);\n",
              "  }\n",
              "\n",
              "  .colab-df-quickchart-complete:disabled,\n",
              "  .colab-df-quickchart-complete:disabled:hover {\n",
              "    background-color: var(--disabled-bg-color);\n",
              "    fill: var(--disabled-fill-color);\n",
              "    box-shadow: none;\n",
              "  }\n",
              "\n",
              "  .colab-df-spinner {\n",
              "    border: 2px solid var(--fill-color);\n",
              "    border-color: transparent;\n",
              "    border-bottom-color: var(--fill-color);\n",
              "    animation:\n",
              "      spin 1s steps(1) infinite;\n",
              "  }\n",
              "\n",
              "  @keyframes spin {\n",
              "    0% {\n",
              "      border-color: transparent;\n",
              "      border-bottom-color: var(--fill-color);\n",
              "      border-left-color: var(--fill-color);\n",
              "    }\n",
              "    20% {\n",
              "      border-color: transparent;\n",
              "      border-left-color: var(--fill-color);\n",
              "      border-top-color: var(--fill-color);\n",
              "    }\n",
              "    30% {\n",
              "      border-color: transparent;\n",
              "      border-left-color: var(--fill-color);\n",
              "      border-top-color: var(--fill-color);\n",
              "      border-right-color: var(--fill-color);\n",
              "    }\n",
              "    40% {\n",
              "      border-color: transparent;\n",
              "      border-right-color: var(--fill-color);\n",
              "      border-top-color: var(--fill-color);\n",
              "    }\n",
              "    60% {\n",
              "      border-color: transparent;\n",
              "      border-right-color: var(--fill-color);\n",
              "    }\n",
              "    80% {\n",
              "      border-color: transparent;\n",
              "      border-right-color: var(--fill-color);\n",
              "      border-bottom-color: var(--fill-color);\n",
              "    }\n",
              "    90% {\n",
              "      border-color: transparent;\n",
              "      border-bottom-color: var(--fill-color);\n",
              "    }\n",
              "  }\n",
              "</style>\n",
              "\n",
              "  <script>\n",
              "    async function quickchart(key) {\n",
              "      const quickchartButtonEl =\n",
              "        document.querySelector('#' + key + ' button');\n",
              "      quickchartButtonEl.disabled = true;  // To prevent multiple clicks.\n",
              "      quickchartButtonEl.classList.add('colab-df-spinner');\n",
              "      try {\n",
              "        const charts = await google.colab.kernel.invokeFunction(\n",
              "            'suggestCharts', [key], {});\n",
              "      } catch (error) {\n",
              "        console.error('Error during call to suggestCharts:', error);\n",
              "      }\n",
              "      quickchartButtonEl.classList.remove('colab-df-spinner');\n",
              "      quickchartButtonEl.classList.add('colab-df-quickchart-complete');\n",
              "    }\n",
              "    (() => {\n",
              "      let quickchartButtonEl =\n",
              "        document.querySelector('#df-1b6cd50d-07f9-4163-bf72-bbdf5342d36d button');\n",
              "      quickchartButtonEl.style.display =\n",
              "        google.colab.kernel.accessAllowed ? 'block' : 'none';\n",
              "    })();\n",
              "  </script>\n",
              "</div>\n",
              "    </div>\n",
              "  </div>\n"
            ],
            "application/vnd.google.colaboratory.intrinsic+json": {
              "type": "dataframe",
              "variable_name": "data",
              "summary": "{\n  \"name\": \"data\",\n  \"rows\": 240,\n  \"fields\": [\n    {\n      \"column\": \"CustomerID\",\n      \"properties\": {\n        \"dtype\": \"number\",\n        \"std\": 63,\n        \"min\": 1,\n        \"max\": 213,\n        \"num_unique_values\": 213,\n        \"samples\": [\n          10,\n          198,\n          67\n        ],\n        \"semantic_type\": \"\",\n        \"description\": \"\"\n      }\n    },\n    {\n      \"column\": \"Gender\",\n      \"properties\": {\n        \"dtype\": \"category\",\n        \"num_unique_values\": 2,\n        \"samples\": [\n          \"Female\",\n          \"Male\"\n        ],\n        \"semantic_type\": \"\",\n        \"description\": \"\"\n      }\n    },\n    {\n      \"column\": \"Age\",\n      \"properties\": {\n        \"dtype\": \"number\",\n        \"std\": 45,\n        \"min\": 18,\n        \"max\": 410,\n        \"num_unique_values\": 56,\n        \"samples\": [\n          19,\n          22\n        ],\n        \"semantic_type\": \"\",\n        \"description\": \"\"\n      }\n    },\n    {\n      \"column\": \"AnnualIncome\",\n      \"properties\": {\n        \"dtype\": \"number\",\n        \"std\": 145,\n        \"min\": 15,\n        \"max\": 1207,\n        \"num_unique_values\": 67,\n        \"samples\": [\n          65,\n          38\n        ],\n        \"semantic_type\": \"\",\n        \"description\": \"\"\n      }\n    },\n    {\n      \"column\": \"SpendingScore\",\n      \"properties\": {\n        \"dtype\": \"number\",\n        \"std\": 31,\n        \"min\": 1,\n        \"max\": 192,\n        \"num_unique_values\": 88,\n        \"samples\": [\n          86,\n          39\n        ],\n        \"semantic_type\": \"\",\n        \"description\": \"\"\n      }\n    }\n  ]\n}"
            }
          },
          "metadata": {},
          "execution_count": 80
        }
      ]
    },
    {
      "cell_type": "markdown",
      "source": [
        "Memeriksa kelengkapan dataset."
      ],
      "metadata": {
        "id": "TEXZnRxMXCLG"
      }
    },
    {
      "cell_type": "code",
      "source": [
        "data.info()\n"
      ],
      "metadata": {
        "id": "OnFOKxcWKoft",
        "colab": {
          "base_uri": "https://localhost:8080/"
        },
        "outputId": "a9eee1eb-8b9f-49bb-ff14-903c8951a5b7"
      },
      "execution_count": null,
      "outputs": [
        {
          "output_type": "stream",
          "name": "stdout",
          "text": [
            "<class 'pandas.core.frame.DataFrame'>\n",
            "Index: 240 entries, 1 to 213\n",
            "Data columns (total 4 columns):\n",
            " #   Column         Non-Null Count  Dtype \n",
            "---  ------         --------------  ----- \n",
            " 0   Gender         240 non-null    object\n",
            " 1   Age            240 non-null    int64 \n",
            " 2   AnnualIncome   240 non-null    int64 \n",
            " 3   SpendingScore  240 non-null    int64 \n",
            "dtypes: int64(3), object(1)\n",
            "memory usage: 9.4+ KB\n"
          ]
        }
      ]
    },
    {
      "cell_type": "markdown",
      "source": [
        "Kita hanya memilih dua variable saja, yakni **AnnualIncome** dan SpendingScore.\n",
        "\n",
        "> Note: Jika kita memilih variable Gender, maka kita perlu melakukan preprocessing terlebih dahulu."
      ],
      "metadata": {
        "id": "-dbSo5hphr3k"
      }
    },
    {
      "cell_type": "markdown",
      "source": [
        "![4.PNG](data:image/png;base64,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)"
      ],
      "metadata": {
        "id": "vRrOQTXYm1VQ"
      }
    },
    {
      "cell_type": "code",
      "metadata": {
        "id": "65741eLs66um"
      },
      "source": [
        "X = data[['AnnualIncome', 'SpendingScore']].values"
      ],
      "execution_count": null,
      "outputs": []
    },
    {
      "cell_type": "markdown",
      "source": [
        "Karena standar besar/kecil di kedua variabel berbeda, maka kita perlu melakukan standarisasi terlebih dahulu menggunakan `StandardScaler`."
      ],
      "metadata": {
        "id": "JxU9pjmEX9j3"
      }
    },
    {
      "cell_type": "markdown",
      "source": [
        "![5.PNG](data:image/png;base64,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)"
      ],
      "metadata": {
        "id": "vHAhAg5am6XR"
      }
    },
    {
      "cell_type": "code",
      "source": [
        "scaler = StandardScaler()\n",
        "scaler = scaler.fit(X)\n",
        "X = scaler.transform(X)\n",
        "X"
      ],
      "metadata": {
        "id": "nHCpXry-LX_F",
        "colab": {
          "base_uri": "https://localhost:8080/"
        },
        "outputId": "83c767d8-c82b-4534-a4f8-3eeb4790fb32"
      },
      "execution_count": null,
      "outputs": [
        {
          "output_type": "execute_result",
          "data": {
            "text/plain": [
              "array([[-4.31393298e-01, -4.21372977e-01],\n",
              "       [-4.31393298e-01,  9.16824758e-01],\n",
              "       [-4.24485019e-01, -1.47281405e+00],\n",
              "       [-4.24485019e-01,  7.89377354e-01],\n",
              "       [-4.17576739e-01, -3.89511126e-01],\n",
              "       [-4.17576739e-01,  7.57515504e-01],\n",
              "       [-4.10668459e-01, -1.47281405e+00],\n",
              "       [-4.10668459e-01,  1.33102882e+00],\n",
              "       [-4.03760179e-01, -1.56839961e+00],\n",
              "       [-4.03760179e-01,  6.30068100e-01],\n",
              "       [-4.03760179e-01, -1.21791925e+00],\n",
              "       [-4.03760179e-01,  1.49033807e+00],\n",
              "       [-3.96851899e-01, -1.18605740e+00],\n",
              "       [-3.96851899e-01,  7.89377354e-01],\n",
              "       [-3.96851899e-01, -1.24978110e+00],\n",
              "       [-3.96851899e-01,  8.53101056e-01],\n",
              "       [-3.89943619e-01, -5.48820381e-01],\n",
              "       [-3.89943619e-01,  4.38896995e-01],\n",
              "       [-3.76127059e-01, -7.39991486e-01],\n",
              "       [-3.76127059e-01,  1.45847622e+00],\n",
              "       [-3.69218779e-01, -5.48820381e-01],\n",
              "       [-3.69218779e-01,  6.61929951e-01],\n",
              "       [-3.62310499e-01, -1.50467591e+00],\n",
              "       [-3.62310499e-01,  6.61929951e-01],\n",
              "       [-3.41585659e-01, -1.21791925e+00],\n",
              "       [-3.41585659e-01,  9.48686609e-01],\n",
              "       [-3.41585659e-01, -6.44405933e-01],\n",
              "       [-3.41585659e-01,  2.79587741e-01],\n",
              "       [-3.34677379e-01, -6.76267784e-01],\n",
              "       [-3.34677379e-01,  1.10799586e+00],\n",
              "       [-3.27769099e-01, -1.53653776e+00],\n",
              "       [-3.27769099e-01,  6.61929951e-01],\n",
              "       [-3.07044259e-01, -1.53653776e+00],\n",
              "       [-3.07044259e-01,  1.26730512e+00],\n",
              "       [-3.07044259e-01, -1.21791925e+00],\n",
              "       [-3.07044259e-01,  9.16824758e-01],\n",
              "       [-3.00135979e-01, -1.12233370e+00],\n",
              "       [-3.00135979e-01,  6.61929951e-01],\n",
              "       [-2.79411140e-01, -8.35577038e-01],\n",
              "       [-2.79411140e-01,  7.25653653e-01],\n",
              "       [-2.72502860e-01, -5.48820381e-01],\n",
              "       [-2.72502860e-01,  1.26730512e+00],\n",
              "       [-2.65594580e-01, -5.16958530e-01],\n",
              "       [-2.65594580e-01,  2.79587741e-01],\n",
              "       [-2.65594580e-01, -7.71853336e-01],\n",
              "       [-2.65594580e-01,  4.07035144e-01],\n",
              "       [-2.58686300e-01,  8.84166361e-02],\n",
              "       [-2.58686300e-01, -1.66478171e-01],\n",
              "       [-2.58686300e-01, -3.25787425e-01],\n",
              "       [-2.58686300e-01, -3.25787425e-01],\n",
              "       [-2.44869740e-01, -7.16891644e-03],\n",
              "       [-2.44869740e-01,  2.47725890e-01],\n",
              "       [-2.37961460e-01,  5.65547852e-02],\n",
              "       [-2.37961460e-01,  2.47725890e-01],\n",
              "       [-2.37961460e-01, -2.30201872e-01],\n",
              "       [-2.37961460e-01, -3.57649276e-01],\n",
              "       [-2.31053180e-01, -7.08926181e-02],\n",
              "       [-2.31053180e-01, -1.98340021e-01],\n",
              "       [-2.17236620e-01, -3.90307673e-02],\n",
              "       [-2.17236620e-01, -1.98340021e-01],\n",
              "       [-2.17236620e-01,  1.20278487e-01],\n",
              "       [-2.17236620e-01,  8.84166361e-02],\n",
              "       [-2.10328340e-01, -7.16891644e-03],\n",
              "       [-2.10328340e-01,  2.15864039e-01],\n",
              "       [-2.03420060e-01, -3.90307673e-02],\n",
              "       [-2.03420060e-01,  2.15864039e-01],\n",
              "       [-2.03420060e-01, -7.08926181e-02],\n",
              "       [-2.03420060e-01, -1.34616320e-01],\n",
              "       [-2.03420060e-01,  2.15864039e-01],\n",
              "       [-2.03420060e-01, -1.66478171e-01],\n",
              "       [-1.96511780e-01,  8.84166361e-02],\n",
              "       [-1.96511780e-01, -3.25787425e-01],\n",
              "       [-1.89603500e-01, -1.02754469e-01],\n",
              "       [-1.89603500e-01,  1.20278487e-01],\n",
              "       [-1.61970380e-01, -1.66478171e-01],\n",
              "       [-1.61970380e-01,  5.65547852e-02],\n",
              "       [-1.61970380e-01,  2.46929344e-02],\n",
              "       [-1.61970380e-01, -1.34616320e-01],\n",
              "       [-1.61970380e-01, -7.16891644e-03],\n",
              "       [-1.61970380e-01, -3.25787425e-01],\n",
              "       [-1.61970380e-01, -3.90307673e-02],\n",
              "       [-1.61970380e-01,  8.84166361e-02],\n",
              "       [-1.61970380e-01, -3.57649276e-01],\n",
              "       [-1.61970380e-01, -2.62063723e-01],\n",
              "       [-1.61970380e-01,  1.52140338e-01],\n",
              "       [-1.61970380e-01, -1.98340021e-01],\n",
              "       [-1.41245541e-01,  1.84002189e-01],\n",
              "       [-1.41245541e-01,  8.84166361e-02],\n",
              "       [-1.34337261e-01,  2.47725890e-01],\n",
              "       [-1.34337261e-01, -1.98340021e-01],\n",
              "       [-1.27428981e-01,  8.84166361e-02],\n",
              "       [-1.27428981e-01, -3.57649276e-01],\n",
              "       [-1.20520701e-01, -1.02754469e-01],\n",
              "       [-1.20520701e-01, -3.89511126e-01],\n",
              "       [-1.20520701e-01, -3.25787425e-01],\n",
              "       [-1.20520701e-01, -7.16891644e-03],\n",
              "       [-1.20520701e-01, -1.66478171e-01],\n",
              "       [-1.20520701e-01, -7.08926181e-02],\n",
              "       [-1.13612421e-01, -3.25787425e-01],\n",
              "       [-1.13612421e-01, -1.02754469e-01],\n",
              "       [-1.06704141e-01, -3.57649276e-01],\n",
              "       [-1.06704141e-01, -1.34616320e-01],\n",
              "       [-1.06704141e-01,  2.15864039e-01],\n",
              "       [-1.06704141e-01,  8.84166361e-02],\n",
              "       [-1.06704141e-01,  1.20278487e-01],\n",
              "       [-1.06704141e-01, -3.25787425e-01],\n",
              "       [-9.97958608e-02, -7.08926181e-02],\n",
              "       [-9.97958608e-02, -1.98340021e-01],\n",
              "       [-9.97958608e-02, -2.93925574e-01],\n",
              "       [-9.97958608e-02, -1.34616320e-01],\n",
              "       [-9.97958608e-02, -7.16891644e-03],\n",
              "       [-9.97958608e-02,  5.65547852e-02],\n",
              "       [-9.28875808e-02, -3.25787425e-01],\n",
              "       [-9.28875808e-02, -1.98340021e-01],\n",
              "       [-8.59793009e-02, -1.34616320e-01],\n",
              "       [-8.59793009e-02, -7.08926181e-02],\n",
              "       [-8.59793009e-02, -2.93925574e-01],\n",
              "       [-8.59793009e-02,  2.15864039e-01],\n",
              "       [-7.21627410e-02, -2.93925574e-01],\n",
              "       [-7.21627410e-02,  1.52140338e-01],\n",
              "       [-7.21627410e-02,  1.20278487e-01],\n",
              "       [-7.21627410e-02, -3.89511126e-01],\n",
              "       [-5.83461811e-02,  1.84002189e-01],\n",
              "       [-5.83461811e-02,  1.23544327e+00],\n",
              "       [-5.14379011e-02, -7.39991486e-01],\n",
              "       [-5.14379011e-02,  7.89377354e-01],\n",
              "       [-4.45296212e-02, -5.48820381e-01],\n",
              "       [-4.45296212e-02,  1.36289067e+00],\n",
              "       [-4.45296212e-02, -1.31350480e+00],\n",
              "       [-4.45296212e-02,  7.25653653e-01],\n",
              "       [-4.45296212e-02, -1.37722850e+00],\n",
              "       [-4.45296212e-02,  7.25653653e-01],\n",
              "       [-3.76213412e-02, -5.80682231e-01],\n",
              "       [-3.76213412e-02,  5.98206249e-01],\n",
              "       [-3.07130613e-02, -1.50467591e+00],\n",
              "       [-3.07130613e-02,  1.13985771e+00],\n",
              "       [-3.07130613e-02, -1.44095220e+00],\n",
              "       [-3.07130613e-02,  6.61929951e-01],\n",
              "       [-2.38047813e-02, -1.34536665e+00],\n",
              "       [-2.38047813e-02,  6.30068100e-01],\n",
              "       [-1.68965014e-02, -1.50467591e+00],\n",
              "       [-1.68965014e-02,  1.29916697e+00],\n",
              "       [-9.98822143e-03, -3.89511126e-01],\n",
              "       [-9.98822143e-03,  1.10799586e+00],\n",
              "       [-3.07994148e-03, -1.28164295e+00],\n",
              "       [-3.07994148e-03,  1.42661437e+00],\n",
              "       [-3.07994148e-03, -5.16958530e-01],\n",
              "       [-3.07994148e-03,  6.93791802e-01],\n",
              "       [ 3.82833847e-03, -9.63024442e-01],\n",
              "       [ 3.82833847e-03,  1.20358142e+00],\n",
              "       [ 3.82833847e-03, -1.12233370e+00],\n",
              "       [ 3.82833847e-03,  1.13985771e+00],\n",
              "       [ 3.82833847e-03, -1.02674814e+00],\n",
              "       [ 3.82833847e-03,  7.57515504e-01],\n",
              "       [ 3.82833847e-03, -1.15419555e+00],\n",
              "       [ 3.82833847e-03,  1.17171956e+00],\n",
              "       [ 3.82833847e-03, -1.63212331e+00],\n",
              "       [ 3.82833847e-03,  8.21239205e-01],\n",
              "       [ 3.82833847e-03, -1.63212331e+00],\n",
              "       [ 3.82833847e-03,  6.61929951e-01],\n",
              "       [ 1.07366184e-02, -5.48820381e-01],\n",
              "       [ 1.07366184e-02,  9.80548459e-01],\n",
              "       [ 2.45531783e-02, -1.50467591e+00],\n",
              "       [ 2.45531783e-02,  1.29916697e+00],\n",
              "       [ 5.21862981e-02, -8.35577038e-01],\n",
              "       [ 5.21862981e-02,  7.25653653e-01],\n",
              "       [ 5.90945781e-02, -1.02674814e+00],\n",
              "       [ 5.90945781e-02,  1.36289067e+00],\n",
              "       [ 6.60028580e-02, -8.03715187e-01],\n",
              "       [ 6.60028580e-02,  3.43311443e-01],\n",
              "       [ 6.60028580e-02, -1.24978110e+00],\n",
              "       [ 6.60028580e-02,  7.25653653e-01],\n",
              "       [ 6.60028580e-02, -1.34536665e+00],\n",
              "       [ 6.60028580e-02,  1.26730512e+00],\n",
              "       [ 7.29111380e-02, -1.24978110e+00],\n",
              "       [ 7.29111380e-02,  1.07613401e+00],\n",
              "       [ 7.29111380e-02, -1.18605740e+00],\n",
              "       [ 7.29111380e-02,  5.34482548e-01],\n",
              "       [ 1.07452538e-01, -1.21791925e+00],\n",
              "       [ 1.07452538e-01,  1.20358142e+00],\n",
              "       [ 1.35085658e-01, -6.44405933e-01],\n",
              "       [ 1.35085658e-01,  1.07613401e+00],\n",
              "       [ 1.41993938e-01, -1.18605740e+00],\n",
              "       [ 1.41993938e-01,  1.13985771e+00],\n",
              "       [ 1.48902217e-01, -4.21372977e-01],\n",
              "       [ 1.48902217e-01,  1.42661437e+00],\n",
              "       [ 1.62718777e-01, -8.99300740e-01],\n",
              "       [ 1.62718777e-01,  5.02620697e-01],\n",
              "       [ 1.76535337e-01, -1.12233370e+00],\n",
              "       [ 1.76535337e-01,  1.04427216e+00],\n",
              "       [ 1.76535337e-01, -9.31162591e-01],\n",
              "       [ 1.76535337e-01,  5.34482548e-01],\n",
              "       [ 2.45618137e-01, -1.40909035e+00],\n",
              "       [ 2.45618137e-01,  1.23544327e+00],\n",
              "       [ 2.93976096e-01, -1.15419555e+00],\n",
              "       [ 2.93976096e-01,  8.53101056e-01],\n",
              "       [ 3.35425776e-01, -7.71853336e-01],\n",
              "       [ 3.35425776e-01,  6.93791802e-01],\n",
              "       [ 4.11416856e-01, -1.09047184e+00],\n",
              "       [ 4.11416856e-01,  9.80548459e-01],\n",
              "       [-3.96851899e-01, -1.24978110e+00],\n",
              "       [-3.96851899e-01,  8.53101056e-01],\n",
              "       [-3.89943619e-01, -5.48820381e-01],\n",
              "       [-3.89943619e-01,  4.38896995e-01],\n",
              "       [-3.76127059e-01, -7.39991486e-01],\n",
              "       [-3.76127059e-01,  1.45847622e+00],\n",
              "       [-3.69218779e-01, -5.48820381e-01],\n",
              "       [-3.69218779e-01,  6.61929951e-01],\n",
              "       [-3.62310499e-01, -1.50467591e+00],\n",
              "       [-3.62310499e-01,  6.61929951e-01],\n",
              "       [-3.41585659e-01, -1.21791925e+00],\n",
              "       [-3.41585659e-01,  9.48686609e-01],\n",
              "       [-3.41585659e-01, -6.44405933e-01],\n",
              "       [-3.41585659e-01,  2.79587741e-01],\n",
              "       [-3.34677379e-01, -6.76267784e-01],\n",
              "       [-3.34677379e-01,  1.10799586e+00],\n",
              "       [-3.27769099e-01, -1.53653776e+00],\n",
              "       [-3.27769099e-01,  6.61929951e-01],\n",
              "       [-3.07044259e-01, -1.53653776e+00],\n",
              "       [-3.07044259e-01,  1.26730512e+00],\n",
              "       [-3.07044259e-01, -1.21791925e+00],\n",
              "       [-3.07044259e-01,  9.16824758e-01],\n",
              "       [-3.00135979e-01, -1.12233370e+00],\n",
              "       [-3.00135979e-01,  6.61929951e-01],\n",
              "       [-2.79411140e-01, -8.35577038e-01],\n",
              "       [-2.79411140e-01,  7.25653653e-01],\n",
              "       [-2.72502860e-01, -5.48820381e-01],\n",
              "       [ 1.62718777e-01,  5.02620697e-01],\n",
              "       [ 1.76535337e-01, -1.12233370e+00],\n",
              "       [ 1.76535337e-01,  1.04427216e+00],\n",
              "       [ 1.76535337e-01, -9.31162591e-01],\n",
              "       [ 1.76535337e-01,  5.34482548e-01],\n",
              "       [ 7.27133885e+00, -1.40909035e+00],\n",
              "       [ 7.27133885e+00,  1.23544327e+00],\n",
              "       [ 7.76182672e+00, -1.15419555e+00],\n",
              "       [ 7.80327640e+00,  8.53101056e-01],\n",
              "       [ 3.35425776e-01,  4.13487169e+00],\n",
              "       [ 3.35425776e-01,  3.87997689e+00],\n",
              "       [ 4.11416856e-01,  4.45349020e+00],\n",
              "       [ 4.11416856e-01,  4.16673354e+00]])"
            ]
          },
          "metadata": {},
          "execution_count": 83
        }
      ]
    },
    {
      "cell_type": "markdown",
      "source": [
        "---"
      ],
      "metadata": {
        "id": "wmYsJG8Vbn_K"
      }
    },
    {
      "cell_type": "markdown",
      "source": [
        "## Membentuk Dendogram\n",
        "\n"
      ],
      "metadata": {
        "id": "nQOGaDHtY4ZG"
      }
    },
    {
      "cell_type": "markdown",
      "source": [
        "Pilih metode complete linkage!\n",
        "\n",
        "**FYI**, metode complete linkage bisa diubah dengan:\n",
        "- single\n",
        "- average"
      ],
      "metadata": {
        "id": "Ll5f_IK8oR3B"
      }
    },
    {
      "cell_type": "code",
      "metadata": {
        "id": "FjUvYyRw66um",
        "colab": {
          "base_uri": "https://localhost:8080/",
          "height": 429
        },
        "outputId": "a0e3cf59-e20c-4445-ccbc-8631877c0d39"
      },
      "source": [
        "dendogram = sch.dendrogram(sch.linkage(X, method='complete'))\n"
      ],
      "execution_count": null,
      "outputs": [
        {
          "output_type": "display_data",
          "data": {
            "text/plain": [
              "<Figure size 640x480 with 1 Axes>"
            ],
            "image/png": "[encoded data removed]"
          },
          "metadata": {}
        }
      ]
    },
    {
      "cell_type": "markdown",
      "source": [
        "### Terlihat bahwa garis cluster terpanjang berada dijumlah cluster 2, 3, 4, atau 5."
      ],
      "metadata": {
        "id": "fVARGs06a6xe"
      }
    },
    {
      "cell_type": "markdown",
      "source": [
        "---"
      ],
      "metadata": {
        "id": "Sj86Wv7XbrpG"
      }
    },
    {
      "cell_type": "markdown",
      "source": [
        "![aglo (1).png](data:image/png;base64,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)"
      ],
      "metadata": {
        "id": "NMxvrVTWfaHY"
      }
    },
    {
      "cell_type": "markdown",
      "source": [
        "## Modeling"
      ],
      "metadata": {
        "id": "BlWub8zvbk_o"
      }
    },
    {
      "cell_type": "markdown",
      "source": [
        "Kita akan coba membuat model menggunakan algoritma Agglomerative Hierarchical Clustering (AHC) dengan:\n",
        "- 4 cluster\n",
        "- persamaan jarak menggunakan Euclidean Distance\n",
        "- menggunakan metode complete linkage\n",
        "\n",
        "\n",
        "Baca dokumentasi library AHC [di sini](https://scikit-learn.org/stable/modules/generated/sklearn.cluster.AgglomerativeClustering.html)."
      ],
      "metadata": {
        "id": "lb7dMtL9bSV9"
      }
    },
    {
      "cell_type": "markdown",
      "source": [
        "![7.PNG](data:image/png;base64,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)"
      ],
      "metadata": {
        "id": "LBXaMVyenG5m"
      }
    },
    {
      "cell_type": "code",
      "metadata": {
        "id": "A6ed6Qt566un",
        "colab": {
          "base_uri": "https://localhost:8080/",
          "height": 130
        },
        "outputId": "232f35e7-91e7-495b-c6ff-6f9d6321f1ca"
      },
      "source": [
        "# Hyperparameter tuning\n",
        "jumlah_cluster = 4\n",
        "persamaan_jarak = 'euclidean'\n",
        "metode_linkage = 'complete'\n",
        "\n",
        "model_AHC = AgglomerativeClustering(n_clusters=jumlah_cluster, affinity=persamaan_jarak, linkage=metode_linkage)\n",
        "\n",
        "#Training model\n",
        "model_AHC.fit(X)\n"
      ],
      "execution_count": null,
      "outputs": [
        {
          "output_type": "stream",
          "name": "stderr",
          "text": [
            "/usr/local/lib/python3.10/dist-packages/sklearn/cluster/_agglomerative.py:983: FutureWarning: Attribute `affinity` was deprecated in version 1.2 and will be removed in 1.4. Use `metric` instead\n",
            "  warnings.warn(\n"
          ]
        },
        {
          "output_type": "execute_result",
          "data": {
            "text/plain": [
              "AgglomerativeClustering(affinity='euclidean', linkage='complete', n_clusters=4)"
            ],
            "text/html": [
              "<style>#sk-container-id-10 {color: black;background-color: white;}#sk-container-id-10 pre{padding: 0;}#sk-container-id-10 div.sk-toggleable {background-color: white;}#sk-container-id-10 label.sk-toggleable__label {cursor: pointer;display: block;width: 100%;margin-bottom: 0;padding: 0.3em;box-sizing: border-box;text-align: center;}#sk-container-id-10 label.sk-toggleable__label-arrow:before {content: \"▸\";float: left;margin-right: 0.25em;color: #696969;}#sk-container-id-10 label.sk-toggleable__label-arrow:hover:before {color: black;}#sk-container-id-10 div.sk-estimator:hover label.sk-toggleable__label-arrow:before {color: black;}#sk-container-id-10 div.sk-toggleable__content {max-height: 0;max-width: 0;overflow: hidden;text-align: left;background-color: #f0f8ff;}#sk-container-id-10 div.sk-toggleable__content pre {margin: 0.2em;color: black;border-radius: 0.25em;background-color: #f0f8ff;}#sk-container-id-10 input.sk-toggleable__control:checked~div.sk-toggleable__content {max-height: 200px;max-width: 100%;overflow: auto;}#sk-container-id-10 input.sk-toggleable__control:checked~label.sk-toggleable__label-arrow:before {content: \"▾\";}#sk-container-id-10 div.sk-estimator input.sk-toggleable__control:checked~label.sk-toggleable__label {background-color: #d4ebff;}#sk-container-id-10 div.sk-label input.sk-toggleable__control:checked~label.sk-toggleable__label {background-color: #d4ebff;}#sk-container-id-10 input.sk-hidden--visually {border: 0;clip: rect(1px 1px 1px 1px);clip: rect(1px, 1px, 1px, 1px);height: 1px;margin: -1px;overflow: hidden;padding: 0;position: absolute;width: 1px;}#sk-container-id-10 div.sk-estimator {font-family: monospace;background-color: #f0f8ff;border: 1px dotted black;border-radius: 0.25em;box-sizing: border-box;margin-bottom: 0.5em;}#sk-container-id-10 div.sk-estimator:hover {background-color: #d4ebff;}#sk-container-id-10 div.sk-parallel-item::after {content: \"\";width: 100%;border-bottom: 1px solid gray;flex-grow: 1;}#sk-container-id-10 div.sk-label:hover label.sk-toggleable__label {background-color: #d4ebff;}#sk-container-id-10 div.sk-serial::before {content: \"\";position: absolute;border-left: 1px solid gray;box-sizing: border-box;top: 0;bottom: 0;left: 50%;z-index: 0;}#sk-container-id-10 div.sk-serial {display: flex;flex-direction: column;align-items: center;background-color: white;padding-right: 0.2em;padding-left: 0.2em;position: relative;}#sk-container-id-10 div.sk-item {position: relative;z-index: 1;}#sk-container-id-10 div.sk-parallel {display: flex;align-items: stretch;justify-content: center;background-color: white;position: relative;}#sk-container-id-10 div.sk-item::before, #sk-container-id-10 div.sk-parallel-item::before {content: \"\";position: absolute;border-left: 1px solid gray;box-sizing: border-box;top: 0;bottom: 0;left: 50%;z-index: -1;}#sk-container-id-10 div.sk-parallel-item {display: flex;flex-direction: column;z-index: 1;position: relative;background-color: white;}#sk-container-id-10 div.sk-parallel-item:first-child::after {align-self: flex-end;width: 50%;}#sk-container-id-10 div.sk-parallel-item:last-child::after {align-self: flex-start;width: 50%;}#sk-container-id-10 div.sk-parallel-item:only-child::after {width: 0;}#sk-container-id-10 div.sk-dashed-wrapped {border: 1px dashed gray;margin: 0 0.4em 0.5em 0.4em;box-sizing: border-box;padding-bottom: 0.4em;background-color: white;}#sk-container-id-10 div.sk-label label {font-family: monospace;font-weight: bold;display: inline-block;line-height: 1.2em;}#sk-container-id-10 div.sk-label-container {text-align: center;}#sk-container-id-10 div.sk-container {/* jupyter's `normalize.less` sets `[hidden] { display: none; }` but bootstrap.min.css set `[hidden] { display: none !important; }` so we also need the `!important` here to be able to override the default hidden behavior on the sphinx rendered scikit-learn.org. See: https://github.com/scikit-learn/scikit-learn/issues/21755 */display: inline-block !important;position: relative;}#sk-container-id-10 div.sk-text-repr-fallback {display: none;}</style><div id=\"sk-container-id-10\" class=\"sk-top-container\"><div class=\"sk-text-repr-fallback\"><pre>AgglomerativeClustering(affinity=&#x27;euclidean&#x27;, linkage=&#x27;complete&#x27;, n_clusters=4)</pre><b>In a Jupyter environment, please rerun this cell to show the HTML representation or trust the notebook. <br />On GitHub, the HTML representation is unable to render, please try loading this page with nbviewer.org.</b></div><div class=\"sk-container\" hidden><div class=\"sk-item\"><div class=\"sk-estimator sk-toggleable\"><input class=\"sk-toggleable__control sk-hidden--visually\" id=\"sk-estimator-id-10\" type=\"checkbox\" checked><label for=\"sk-estimator-id-10\" class=\"sk-toggleable__label sk-toggleable__label-arrow\">AgglomerativeClustering</label><div class=\"sk-toggleable__content\"><pre>AgglomerativeClustering(affinity=&#x27;euclidean&#x27;, linkage=&#x27;complete&#x27;, n_clusters=4)</pre></div></div></div></div></div>"
            ]
          },
          "metadata": {},
          "execution_count": 85
        }
      ]
    },
    {
      "cell_type": "markdown",
      "source": [
        "![8.PNG](data:image/png;base64,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)"
      ],
      "metadata": {
        "id": "-fpKFYmInK2p"
      }
    },
    {
      "cell_type": "code",
      "source": [
        "#Hasil cluster\n",
        "labels_agglo = model_AHC.labels_\n",
        "labels_agglo"
      ],
      "metadata": {
        "id": "cACRMwPVcKra",
        "colab": {
          "base_uri": "https://localhost:8080/"
        },
        "outputId": "582c1bc6-6ac5-46af-9e3d-9592794af54d"
      },
      "execution_count": null,
      "outputs": [
        {
          "output_type": "execute_result",
          "data": {
            "text/plain": [
              "array([3, 1, 3, 1, 3, 1, 3, 1, 3, 1, 3, 1, 3, 1, 3, 1, 3, 1, 3, 1, 3, 1,\n",
              "       3, 1, 3, 1, 3, 1, 3, 1, 3, 1, 3, 1, 3, 1, 3, 1, 3, 1, 3, 1, 3, 1,\n",
              "       3, 1, 1, 1, 3, 3, 1, 1, 1, 1, 1, 3, 1, 1, 1, 1, 1, 1, 1, 1, 1, 1,\n",
              "       1, 1, 1, 1, 1, 3, 1, 1, 1, 1, 1, 1, 1, 3, 1, 1, 3, 1, 1, 1, 1, 1,\n",
              "       1, 1, 1, 3, 1, 3, 3, 1, 1, 1, 3, 1, 3, 1, 1, 1, 1, 3, 1, 1, 3, 1,\n",
              "       1, 1, 3, 1, 1, 1, 3, 1, 3, 1, 1, 3, 1, 1, 3, 1, 3, 1, 3, 1, 3, 1,\n",
              "       3, 1, 3, 1, 3, 1, 3, 1, 3, 1, 3, 1, 3, 1, 3, 1, 3, 1, 3, 1, 3, 1,\n",
              "       3, 1, 3, 1, 3, 1, 3, 1, 3, 1, 3, 1, 3, 1, 3, 1, 3, 1, 3, 1, 3, 1,\n",
              "       3, 1, 3, 1, 3, 1, 3, 1, 3, 1, 3, 1, 3, 1, 3, 1, 3, 1, 3, 1, 3, 1,\n",
              "       3, 1, 3, 1, 3, 1, 3, 1, 3, 1, 3, 1, 3, 1, 3, 1, 3, 1, 3, 1, 3, 1,\n",
              "       3, 1, 3, 1, 3, 1, 3, 1, 3, 1, 3, 1, 0, 0, 0, 0, 2, 2, 2, 2])"
            ]
          },
          "metadata": {},
          "execution_count": 86
        }
      ]
    },
    {
      "cell_type": "markdown",
      "source": [
        "## Visualisasi Hasil Clustering"
      ],
      "metadata": {
        "id": "Mwj0al3ndRjG"
      }
    },
    {
      "cell_type": "markdown",
      "source": [
        "![9.PNG](data:image/png;base64,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)"
      ],
      "metadata": {
        "id": "5N-W2vYEnOin"
      }
    },
    {
      "cell_type": "code",
      "source": [
        "colors = ['red', 'green','blue','purple','magenta','orange','yellow']\n",
        "\n",
        "for i in range(jumlah_cluster):\n",
        "  plt.scatter(X[labels_agglo==i, 0], X[labels_agglo==i, 1], s=50, marker='o', color=colors[i])"
      ],
      "metadata": {
        "id": "IJvBlinodacq",
        "colab": {
          "base_uri": "https://localhost:8080/",
          "height": 430
        },
        "outputId": "4875ce2b-d405-413f-deb0-b2ed78891964"
      },
      "execution_count": null,
      "outputs": [
        {
          "output_type": "display_data",
          "data": {
            "text/plain": [
              "<Figure size 640x480 with 1 Axes>"
            ],
            "image/png": "[encoded data removed]"
          },
          "metadata": {}
        }
      ]
    },
    {
      "cell_type": "markdown",
      "source": [
        "Kita bisa lihat hasil clusteringnya sudah bagus, terlihat antar cluster cukup terpisah (tidak ada misalnya anggota cluster warna biru berada di tengah2 warna hijau).\n",
        "\n",
        "Artinya kita bisa menggunakan hasil clustering ini."
      ],
      "metadata": {
        "id": "xAeN0bDjp4Sn"
      }
    },
    {
      "cell_type": "markdown",
      "source": [
        "![10.PNG](data:image/png;base64,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)"
      ],
      "metadata": {
        "id": "f57eQM8tnTMp"
      }
    },
    {
      "cell_type": "code",
      "source": [
        "data['Hasil_Clustering'] = labels_agglo\n",
        "data"
      ],
      "metadata": {
        "id": "p5GVbbGfdaqU",
        "colab": {
          "base_uri": "https://localhost:8080/",
          "height": 455
        },
        "outputId": "1156de7c-4526-4099-9fb8-6a8908c61d04"
      },
      "execution_count": null,
      "outputs": [
        {
          "output_type": "execute_result",
          "data": {
            "text/plain": [
              "            Gender  Age  AnnualIncome  SpendingScore  Hasil_Clustering\n",
              "CustomerID                                                            \n",
              "1             Male   19            15             39                 3\n",
              "2             Male   21            15             81                 1\n",
              "3           Female   20            16              6                 3\n",
              "4           Female   23            16             77                 1\n",
              "5           Female   31            17             40                 3\n",
              "...            ...  ...           ...            ...               ...\n",
              "209         Female   35          1207             79                 0\n",
              "210         Female   45           126            182                 2\n",
              "211           Male   32           126            174                 2\n",
              "212           Male   32           137            192                 2\n",
              "213           Male   30           137            183                 2\n",
              "\n",
              "[240 rows x 5 columns]"
            ],
            "text/html": [
              "\n",
              "  <div id=\"df-dbb636f4-dca6-4ff5-84ca-abbbb974dfc7\" class=\"colab-df-container\">\n",
              "    <div>\n",
              "<style scoped>\n",
              "    .dataframe tbody tr th:only-of-type {\n",
              "        vertical-align: middle;\n",
              "    }\n",
              "\n",
              "    .dataframe tbody tr th {\n",
              "        vertical-align: top;\n",
              "    }\n",
              "\n",
              "    .dataframe thead th {\n",
              "        text-align: right;\n",
              "    }\n",
              "</style>\n",
              "<table border=\"1\" class=\"dataframe\">\n",
              "  <thead>\n",
              "    <tr style=\"text-align: right;\">\n",
              "      <th></th>\n",
              "      <th>Gender</th>\n",
              "      <th>Age</th>\n",
              "      <th>AnnualIncome</th>\n",
              "      <th>SpendingScore</th>\n",
              "      <th>Hasil_Clustering</th>\n",
              "    </tr>\n",
              "    <tr>\n",
              "      <th>CustomerID</th>\n",
              "      <th></th>\n",
              "      <th></th>\n",
              "      <th></th>\n",
              "      <th></th>\n",
              "      <th></th>\n",
              "    </tr>\n",
              "  </thead>\n",
              "  <tbody>\n",
              "    <tr>\n",
              "      <th>1</th>\n",
              "      <td>Male</td>\n",
              "      <td>19</td>\n",
              "      <td>15</td>\n",
              "      <td>39</td>\n",
              "      <td>3</td>\n",
              "    </tr>\n",
              "    <tr>\n",
              "      <th>2</th>\n",
              "      <td>Male</td>\n",
              "      <td>21</td>\n",
              "      <td>15</td>\n",
              "      <td>81</td>\n",
              "      <td>1</td>\n",
              "    </tr>\n",
              "    <tr>\n",
              "      <th>3</th>\n",
              "      <td>Female</td>\n",
              "      <td>20</td>\n",
              "      <td>16</td>\n",
              "      <td>6</td>\n",
              "      <td>3</td>\n",
              "    </tr>\n",
              "    <tr>\n",
              "      <th>4</th>\n",
              "      <td>Female</td>\n",
              "      <td>23</td>\n",
              "      <td>16</td>\n",
              "      <td>77</td>\n",
              "      <td>1</td>\n",
              "    </tr>\n",
              "    <tr>\n",
              "      <th>5</th>\n",
              "      <td>Female</td>\n",
              "      <td>31</td>\n",
              "      <td>17</td>\n",
              "      <td>40</td>\n",
              "      <td>3</td>\n",
              "    </tr>\n",
              "    <tr>\n",
              "      <th>...</th>\n",
              "      <td>...</td>\n",
              "      <td>...</td>\n",
              "      <td>...</td>\n",
              "      <td>...</td>\n",
              "      <td>...</td>\n",
              "    </tr>\n",
              "    <tr>\n",
              "      <th>209</th>\n",
              "      <td>Female</td>\n",
              "      <td>35</td>\n",
              "      <td>1207</td>\n",
              "      <td>79</td>\n",
              "      <td>0</td>\n",
              "    </tr>\n",
              "    <tr>\n",
              "      <th>210</th>\n",
              "      <td>Female</td>\n",
              "      <td>45</td>\n",
              "      <td>126</td>\n",
              "      <td>182</td>\n",
              "      <td>2</td>\n",
              "    </tr>\n",
              "    <tr>\n",
              "      <th>211</th>\n",
              "      <td>Male</td>\n",
              "      <td>32</td>\n",
              "      <td>126</td>\n",
              "      <td>174</td>\n",
              "      <td>2</td>\n",
              "    </tr>\n",
              "    <tr>\n",
              "      <th>212</th>\n",
              "      <td>Male</td>\n",
              "      <td>32</td>\n",
              "      <td>137</td>\n",
              "      <td>192</td>\n",
              "      <td>2</td>\n",
              "    </tr>\n",
              "    <tr>\n",
              "      <th>213</th>\n",
              "      <td>Male</td>\n",
              "      <td>30</td>\n",
              "      <td>137</td>\n",
              "      <td>183</td>\n",
              "      <td>2</td>\n",
              "    </tr>\n",
              "  </tbody>\n",
              "</table>\n",
              "<p>240 rows × 5 columns</p>\n",
              "</div>\n",
              "    <div class=\"colab-df-buttons\">\n",
              "\n",
              "  <div class=\"colab-df-container\">\n",
              "    <button class=\"colab-df-convert\" onclick=\"convertToInteractive('df-dbb636f4-dca6-4ff5-84ca-abbbb974dfc7')\"\n",
              "            title=\"Convert this dataframe to an interactive table.\"\n",
              "            style=\"display:none;\">\n",
              "\n",
              "  <svg xmlns=\"http://www.w3.org/2000/svg\" height=\"24px\" viewBox=\"0 -960 960 960\">\n",
              "    <path d=\"M120-120v-720h720v720H120Zm60-500h600v-160H180v160Zm220 220h160v-160H400v160Zm0 220h160v-160H400v160ZM180-400h160v-160H180v160Zm440 0h160v-160H620v160ZM180-180h160v-160H180v160Zm440 0h160v-160H620v160Z\"/>\n",
              "  </svg>\n",
              "    </button>\n",
              "\n",
              "  <style>\n",
              "    .colab-df-container {\n",
              "      display:flex;\n",
              "      gap: 12px;\n",
              "    }\n",
              "\n",
              "    .colab-df-convert {\n",
              "      background-color: #E8F0FE;\n",
              "      border: none;\n",
              "      border-radius: 50%;\n",
              "      cursor: pointer;\n",
              "      display: none;\n",
              "      fill: #1967D2;\n",
              "      height: 32px;\n",
              "      padding: 0 0 0 0;\n",
              "      width: 32px;\n",
              "    }\n",
              "\n",
              "    .colab-df-convert:hover {\n",
              "      background-color: #E2EBFA;\n",
              "      box-shadow: 0px 1px 2px rgba(60, 64, 67, 0.3), 0px 1px 3px 1px rgba(60, 64, 67, 0.15);\n",
              "      fill: #174EA6;\n",
              "    }\n",
              "\n",
              "    .colab-df-buttons div {\n",
              "      margin-bottom: 4px;\n",
              "    }\n",
              "\n",
              "    [theme=dark] .colab-df-convert {\n",
              "      background-color: #3B4455;\n",
              "      fill: #D2E3FC;\n",
              "    }\n",
              "\n",
              "    [theme=dark] .colab-df-convert:hover {\n",
              "      background-color: #434B5C;\n",
              "      box-shadow: 0px 1px 3px 1px rgba(0, 0, 0, 0.15);\n",
              "      filter: drop-shadow(0px 1px 2px rgba(0, 0, 0, 0.3));\n",
              "      fill: #FFFFFF;\n",
              "    }\n",
              "  </style>\n",
              "\n",
              "    <script>\n",
              "      const buttonEl =\n",
              "        document.querySelector('#df-dbb636f4-dca6-4ff5-84ca-abbbb974dfc7 button.colab-df-convert');\n",
              "      buttonEl.style.display =\n",
              "        google.colab.kernel.accessAllowed ? 'block' : 'none';\n",
              "\n",
              "      async function convertToInteractive(key) {\n",
              "        const element = document.querySelector('#df-dbb636f4-dca6-4ff5-84ca-abbbb974dfc7');\n",
              "        const dataTable =\n",
              "          await google.colab.kernel.invokeFunction('convertToInteractive',\n",
              "                                                    [key], {});\n",
              "        if (!dataTable) return;\n",
              "\n",
              "        const docLinkHtml = 'Like what you see? Visit the ' +\n",
              "          '<a target=\"_blank\" href=https://colab.research.google.com/notebooks/data_table.ipynb>data table notebook</a>'\n",
              "          + ' to learn more about interactive tables.';\n",
              "        element.innerHTML = '';\n",
              "        dataTable['output_type'] = 'display_data';\n",
              "        await google.colab.output.renderOutput(dataTable, element);\n",
              "        const docLink = document.createElement('div');\n",
              "        docLink.innerHTML = docLinkHtml;\n",
              "        element.appendChild(docLink);\n",
              "      }\n",
              "    </script>\n",
              "  </div>\n",
              "\n",
              "\n",
              "<div id=\"df-d6bf44d9-de1c-4368-8dbb-7716ece8f186\">\n",
              "  <button class=\"colab-df-quickchart\" onclick=\"quickchart('df-d6bf44d9-de1c-4368-8dbb-7716ece8f186')\"\n",
              "            title=\"Suggest charts\"\n",
              "            style=\"display:none;\">\n",
              "\n",
              "<svg xmlns=\"http://www.w3.org/2000/svg\" height=\"24px\"viewBox=\"0 0 24 24\"\n",
              "     width=\"24px\">\n",
              "    <g>\n",
              "        <path d=\"M19 3H5c-1.1 0-2 .9-2 2v14c0 1.1.9 2 2 2h14c1.1 0 2-.9 2-2V5c0-1.1-.9-2-2-2zM9 17H7v-7h2v7zm4 0h-2V7h2v10zm4 0h-2v-4h2v4z\"/>\n",
              "    </g>\n",
              "</svg>\n",
              "  </button>\n",
              "\n",
              "<style>\n",
              "  .colab-df-quickchart {\n",
              "      --bg-color: #E8F0FE;\n",
              "      --fill-color: #1967D2;\n",
              "      --hover-bg-color: #E2EBFA;\n",
              "      --hover-fill-color: #174EA6;\n",
              "      --disabled-fill-color: #AAA;\n",
              "      --disabled-bg-color: #DDD;\n",
              "  }\n",
              "\n",
              "  [theme=dark] .colab-df-quickchart {\n",
              "      --bg-color: #3B4455;\n",
              "      --fill-color: #D2E3FC;\n",
              "      --hover-bg-color: #434B5C;\n",
              "      --hover-fill-color: #FFFFFF;\n",
              "      --disabled-bg-color: #3B4455;\n",
              "      --disabled-fill-color: #666;\n",
              "  }\n",
              "\n",
              "  .colab-df-quickchart {\n",
              "    background-color: var(--bg-color);\n",
              "    border: none;\n",
              "    border-radius: 50%;\n",
              "    cursor: pointer;\n",
              "    display: none;\n",
              "    fill: var(--fill-color);\n",
              "    height: 32px;\n",
              "    padding: 0;\n",
              "    width: 32px;\n",
              "  }\n",
              "\n",
              "  .colab-df-quickchart:hover {\n",
              "    background-color: var(--hover-bg-color);\n",
              "    box-shadow: 0 1px 2px rgba(60, 64, 67, 0.3), 0 1px 3px 1px rgba(60, 64, 67, 0.15);\n",
              "    fill: var(--button-hover-fill-color);\n",
              "  }\n",
              "\n",
              "  .colab-df-quickchart-complete:disabled,\n",
              "  .colab-df-quickchart-complete:disabled:hover {\n",
              "    background-color: var(--disabled-bg-color);\n",
              "    fill: var(--disabled-fill-color);\n",
              "    box-shadow: none;\n",
              "  }\n",
              "\n",
              "  .colab-df-spinner {\n",
              "    border: 2px solid var(--fill-color);\n",
              "    border-color: transparent;\n",
              "    border-bottom-color: var(--fill-color);\n",
              "    animation:\n",
              "      spin 1s steps(1) infinite;\n",
              "  }\n",
              "\n",
              "  @keyframes spin {\n",
              "    0% {\n",
              "      border-color: transparent;\n",
              "      border-bottom-color: var(--fill-color);\n",
              "      border-left-color: var(--fill-color);\n",
              "    }\n",
              "    20% {\n",
              "      border-color: transparent;\n",
              "      border-left-color: var(--fill-color);\n",
              "      border-top-color: var(--fill-color);\n",
              "    }\n",
              "    30% {\n",
              "      border-color: transparent;\n",
              "      border-left-color: var(--fill-color);\n",
              "      border-top-color: var(--fill-color);\n",
              "      border-right-color: var(--fill-color);\n",
              "    }\n",
              "    40% {\n",
              "      border-color: transparent;\n",
              "      border-right-color: var(--fill-color);\n",
              "      border-top-color: var(--fill-color);\n",
              "    }\n",
              "    60% {\n",
              "      border-color: transparent;\n",
              "      border-right-color: var(--fill-color);\n",
              "    }\n",
              "    80% {\n",
              "      border-color: transparent;\n",
              "      border-right-color: var(--fill-color);\n",
              "      border-bottom-color: var(--fill-color);\n",
              "    }\n",
              "    90% {\n",
              "      border-color: transparent;\n",
              "      border-bottom-color: var(--fill-color);\n",
              "    }\n",
              "  }\n",
              "</style>\n",
              "\n",
              "  <script>\n",
              "    async function quickchart(key) {\n",
              "      const quickchartButtonEl =\n",
              "        document.querySelector('#' + key + ' button');\n",
              "      quickchartButtonEl.disabled = true;  // To prevent multiple clicks.\n",
              "      quickchartButtonEl.classList.add('colab-df-spinner');\n",
              "      try {\n",
              "        const charts = await google.colab.kernel.invokeFunction(\n",
              "            'suggestCharts', [key], {});\n",
              "      } catch (error) {\n",
              "        console.error('Error during call to suggestCharts:', error);\n",
              "      }\n",
              "      quickchartButtonEl.classList.remove('colab-df-spinner');\n",
              "      quickchartButtonEl.classList.add('colab-df-quickchart-complete');\n",
              "    }\n",
              "    (() => {\n",
              "      let quickchartButtonEl =\n",
              "        document.querySelector('#df-d6bf44d9-de1c-4368-8dbb-7716ece8f186 button');\n",
              "      quickchartButtonEl.style.display =\n",
              "        google.colab.kernel.accessAllowed ? 'block' : 'none';\n",
              "    })();\n",
              "  </script>\n",
              "</div>\n",
              "    </div>\n",
              "  </div>\n"
            ],
            "application/vnd.google.colaboratory.intrinsic+json": {
              "type": "dataframe",
              "variable_name": "data",
              "summary": "{\n  \"name\": \"data\",\n  \"rows\": 240,\n  \"fields\": [\n    {\n      \"column\": \"CustomerID\",\n      \"properties\": {\n        \"dtype\": \"number\",\n        \"std\": 63,\n        \"min\": 1,\n        \"max\": 213,\n        \"num_unique_values\": 213,\n        \"samples\": [\n          10,\n          198,\n          67\n        ],\n        \"semantic_type\": \"\",\n        \"description\": \"\"\n      }\n    },\n    {\n      \"column\": \"Gender\",\n      \"properties\": {\n        \"dtype\": \"category\",\n        \"num_unique_values\": 2,\n        \"samples\": [\n          \"Female\",\n          \"Male\"\n        ],\n        \"semantic_type\": \"\",\n        \"description\": \"\"\n      }\n    },\n    {\n      \"column\": \"Age\",\n      \"properties\": {\n        \"dtype\": \"number\",\n        \"std\": 45,\n        \"min\": 18,\n        \"max\": 410,\n        \"num_unique_values\": 56,\n        \"samples\": [\n          19,\n          22\n        ],\n        \"semantic_type\": \"\",\n        \"description\": \"\"\n      }\n    },\n    {\n      \"column\": \"AnnualIncome\",\n      \"properties\": {\n        \"dtype\": \"number\",\n        \"std\": 145,\n        \"min\": 15,\n        \"max\": 1207,\n        \"num_unique_values\": 67,\n        \"samples\": [\n          65,\n          38\n        ],\n        \"semantic_type\": \"\",\n        \"description\": \"\"\n      }\n    },\n    {\n      \"column\": \"SpendingScore\",\n      \"properties\": {\n        \"dtype\": \"number\",\n        \"std\": 31,\n        \"min\": 1,\n        \"max\": 192,\n        \"num_unique_values\": 88,\n        \"samples\": [\n          86,\n          39\n        ],\n        \"semantic_type\": \"\",\n        \"description\": \"\"\n      }\n    },\n    {\n      \"column\": \"Hasil_Clustering\",\n      \"properties\": {\n        \"dtype\": \"number\",\n        \"std\": 0,\n        \"min\": 0,\n        \"max\": 3,\n        \"num_unique_values\": 4,\n        \"samples\": [\n          1,\n          2\n        ],\n        \"semantic_type\": \"\",\n        \"description\": \"\"\n      }\n    }\n  ]\n}"
            }
          },
          "metadata": {},
          "execution_count": 88
        }
      ]
    },
    {
      "cell_type": "markdown",
      "source": [
        "## Kesimpulan"
      ],
      "metadata": {
        "id": "c-HSDVL3gQD0"
      }
    },
    {
      "cell_type": "markdown",
      "source": [
        "**Contoh**:\n",
        "\n",
        "Mencari rata-rata tiap cluster untuk menarik kesimpulan."
      ],
      "metadata": {
        "id": "GEg_xjm-gSHR"
      }
    },
    {
      "cell_type": "markdown",
      "source": [
        "![11.PNG](data:image/png;base64,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)"
      ],
      "metadata": {
        "id": "ufPm8QohnWqh"
      }
    },
    {
      "cell_type": "code",
      "source": [
        "for i in range(jumlah_cluster):\n",
        "  print(f'Cluster ke-{i}')\n",
        "  print('Rata-rata pemasukan customer : ', data[data['Hasil_Clustering']==i]['AnnualIncome'].mean())\n",
        "  print('Rata-rata pengeluaran customer : ', data[data['Hasil_Clustering']==i]['SpendingScore'].mean())\n",
        "  print()\n"
      ],
      "metadata": {
        "id": "BXUG7Cv5dpx2",
        "colab": {
          "base_uri": "https://localhost:8080/"
        },
        "outputId": "cf14b403-e31d-41c3-e836-61a6f2635d11"
      },
      "execution_count": null,
      "outputs": [
        {
          "output_type": "stream",
          "name": "stdout",
          "text": [
            "Cluster ke-0\n",
            "Rata-rata pemasukan customer :  1167.0\n",
            "Rata-rata pengeluaran customer :  48.5\n",
            "\n",
            "Cluster ke-1\n",
            "Rata-rata pemasukan customer :  57.268115942028984\n",
            "Rata-rata pengeluaran customer :  67.94927536231884\n",
            "\n",
            "Cluster ke-2\n",
            "Rata-rata pemasukan customer :  131.5\n",
            "Rata-rata pengeluaran customer :  182.75\n",
            "\n",
            "Cluster ke-3\n",
            "Rata-rata pemasukan customer :  58.40425531914894\n",
            "Rata-rata pengeluaran customer :  23.74468085106383\n",
            "\n"
          ]
        }
      ]
    },
    {
      "cell_type": "markdown",
      "source": [
        "Bisa kita simpulkan bahwa :    \n",
        "- Cluster 0 adalah kelompok customer sangat kaya dan sangat hemat (pengeluarannya sangat kecil)\n",
        "- Cluster 1 adalah kelompok customer menengah ke bawah dan boros (pengeluaran lebih besar dari pemasukan)\n",
        "- Cluster 3 adalah kelompok customer menengah ke atas dan boros (pengeluaran lebih besar dari pemasukan)\n",
        "- Cluster 1 adalah kelompok customer menengah ke bawah dan hemat (pengeluaran lebih kecil dari pemasukan)\n",
        "\n",
        "---\n",
        "\n",
        "**OPEN DISCUSSION**\n",
        "\n",
        "Jika kamu adalah pemilik toko kredit dan akan menawarkan kredit mobil, cluster manakah yang menurutmu tepat?\n",
        "\n"
      ],
      "metadata": {
        "id": "pBNRt6Fqe_Yk"
      }
    },
    {
      "cell_type": "markdown",
      "source": [
        "# Exercise (Latihan)\n",
        "\n",
        "Boleh pilih salah satu activity atau lakukan keduanya."
      ],
      "metadata": {
        "id": "w70xnxzykcYJ"
      }
    },
    {
      "cell_type": "markdown",
      "source": [
        "## Activity 1"
      ],
      "metadata": {
        "id": "b7aBwV9jkdUN"
      }
    },
    {
      "cell_type": "markdown",
      "source": [
        "\n",
        "\n",
        "1. Coba kombinasi tuning hyperparameter AHC lainnya:\n",
        "  - jumlah_cluster = 2, 3, 4, 5\n",
        "  - persamaan_jarak = euclidean, manhattan\n",
        "  - metode_linkage = single, complete, average\n",
        "\n",
        "2. Tentukan kombinasi tuning hyperparameter terbaik (selain tuning hyperparameter pada hands-on ini)!\n",
        "\n",
        "3. Buat kesimpulan clustering menggunakan hyperparameter terbaik!"
      ],
      "metadata": {
        "id": "NQSzOO2vnUMt"
      }
    },
    {
      "cell_type": "markdown",
      "source": [
        "##Metode Single"
      ],
      "metadata": {
        "id": "HIGGn4Sc1-wP"
      }
    },
    {
      "cell_type": "markdown",
      "source": [
        "###Membentuk Dendogram"
      ],
      "metadata": {
        "id": "d_WgXAel2Oum"
      }
    },
    {
      "cell_type": "code",
      "source": [
        "#Membentuk Dendogram\n",
        "dendrogram = sch.dendrogram(sch.linkage(X, method='single'))"
      ],
      "metadata": {
        "colab": {
          "base_uri": "https://localhost:8080/",
          "height": 429
        },
        "id": "Q-PLax851OpQ",
        "outputId": "77ea61b4-91fb-48ec-80cb-0fbec307cd66"
      },
      "execution_count": null,
      "outputs": [
        {
          "output_type": "display_data",
          "data": {
            "text/plain": [
              "<Figure size 640x480 with 1 Axes>"
            ],
            "image/png": "[encoded data removed]"
          },
          "metadata": {}
        }
      ]
    },
    {
      "cell_type": "markdown",
      "source": [
        "###Modeling"
      ],
      "metadata": {
        "id": "Nbd5kNiI2dsR"
      }
    },
    {
      "cell_type": "code",
      "source": [
        "#Hyperparameter tuning\n",
        "jumlah_cluster = 4\n",
        "persamaan_jarak = 'manhattan'\n",
        "metode_linkage = 'single'\n",
        "\n",
        "model_AHC = AgglomerativeClustering(n_clusters=jumlah_cluster, affinity=persamaan_jarak, linkage=metode_linkage)\n",
        "\n",
        "#Training Model\n",
        "model_AHC.fit(X)"
      ],
      "metadata": {
        "id": "SRyEh2k0jInE",
        "colab": {
          "base_uri": "https://localhost:8080/",
          "height": 130
        },
        "outputId": "f6418f98-5bc3-4c99-ee96-ad520aa35102"
      },
      "execution_count": null,
      "outputs": [
        {
          "output_type": "stream",
          "name": "stderr",
          "text": [
            "/usr/local/lib/python3.10/dist-packages/sklearn/cluster/_agglomerative.py:983: FutureWarning: Attribute `affinity` was deprecated in version 1.2 and will be removed in 1.4. Use `metric` instead\n",
            "  warnings.warn(\n"
          ]
        },
        {
          "output_type": "execute_result",
          "data": {
            "text/plain": [
              "AgglomerativeClustering(affinity='manhattan', linkage='single', n_clusters=4)"
            ],
            "text/html": [
              "<style>#sk-container-id-11 {color: black;background-color: white;}#sk-container-id-11 pre{padding: 0;}#sk-container-id-11 div.sk-toggleable {background-color: white;}#sk-container-id-11 label.sk-toggleable__label {cursor: pointer;display: block;width: 100%;margin-bottom: 0;padding: 0.3em;box-sizing: border-box;text-align: center;}#sk-container-id-11 label.sk-toggleable__label-arrow:before {content: \"▸\";float: left;margin-right: 0.25em;color: #696969;}#sk-container-id-11 label.sk-toggleable__label-arrow:hover:before {color: black;}#sk-container-id-11 div.sk-estimator:hover label.sk-toggleable__label-arrow:before {color: black;}#sk-container-id-11 div.sk-toggleable__content {max-height: 0;max-width: 0;overflow: hidden;text-align: left;background-color: #f0f8ff;}#sk-container-id-11 div.sk-toggleable__content pre {margin: 0.2em;color: black;border-radius: 0.25em;background-color: #f0f8ff;}#sk-container-id-11 input.sk-toggleable__control:checked~div.sk-toggleable__content {max-height: 200px;max-width: 100%;overflow: auto;}#sk-container-id-11 input.sk-toggleable__control:checked~label.sk-toggleable__label-arrow:before {content: \"▾\";}#sk-container-id-11 div.sk-estimator input.sk-toggleable__control:checked~label.sk-toggleable__label {background-color: #d4ebff;}#sk-container-id-11 div.sk-label input.sk-toggleable__control:checked~label.sk-toggleable__label {background-color: #d4ebff;}#sk-container-id-11 input.sk-hidden--visually {border: 0;clip: rect(1px 1px 1px 1px);clip: rect(1px, 1px, 1px, 1px);height: 1px;margin: -1px;overflow: hidden;padding: 0;position: absolute;width: 1px;}#sk-container-id-11 div.sk-estimator {font-family: monospace;background-color: #f0f8ff;border: 1px dotted black;border-radius: 0.25em;box-sizing: border-box;margin-bottom: 0.5em;}#sk-container-id-11 div.sk-estimator:hover {background-color: #d4ebff;}#sk-container-id-11 div.sk-parallel-item::after {content: \"\";width: 100%;border-bottom: 1px solid gray;flex-grow: 1;}#sk-container-id-11 div.sk-label:hover label.sk-toggleable__label {background-color: #d4ebff;}#sk-container-id-11 div.sk-serial::before {content: \"\";position: absolute;border-left: 1px solid gray;box-sizing: border-box;top: 0;bottom: 0;left: 50%;z-index: 0;}#sk-container-id-11 div.sk-serial {display: flex;flex-direction: column;align-items: center;background-color: white;padding-right: 0.2em;padding-left: 0.2em;position: relative;}#sk-container-id-11 div.sk-item {position: relative;z-index: 1;}#sk-container-id-11 div.sk-parallel {display: flex;align-items: stretch;justify-content: center;background-color: white;position: relative;}#sk-container-id-11 div.sk-item::before, #sk-container-id-11 div.sk-parallel-item::before {content: \"\";position: absolute;border-left: 1px solid gray;box-sizing: border-box;top: 0;bottom: 0;left: 50%;z-index: -1;}#sk-container-id-11 div.sk-parallel-item {display: flex;flex-direction: column;z-index: 1;position: relative;background-color: white;}#sk-container-id-11 div.sk-parallel-item:first-child::after {align-self: flex-end;width: 50%;}#sk-container-id-11 div.sk-parallel-item:last-child::after {align-self: flex-start;width: 50%;}#sk-container-id-11 div.sk-parallel-item:only-child::after {width: 0;}#sk-container-id-11 div.sk-dashed-wrapped {border: 1px dashed gray;margin: 0 0.4em 0.5em 0.4em;box-sizing: border-box;padding-bottom: 0.4em;background-color: white;}#sk-container-id-11 div.sk-label label {font-family: monospace;font-weight: bold;display: inline-block;line-height: 1.2em;}#sk-container-id-11 div.sk-label-container {text-align: center;}#sk-container-id-11 div.sk-container {/* jupyter's `normalize.less` sets `[hidden] { display: none; }` but bootstrap.min.css set `[hidden] { display: none !important; }` so we also need the `!important` here to be able to override the default hidden behavior on the sphinx rendered scikit-learn.org. See: https://github.com/scikit-learn/scikit-learn/issues/21755 */display: inline-block !important;position: relative;}#sk-container-id-11 div.sk-text-repr-fallback {display: none;}</style><div id=\"sk-container-id-11\" class=\"sk-top-container\"><div class=\"sk-text-repr-fallback\"><pre>AgglomerativeClustering(affinity=&#x27;manhattan&#x27;, linkage=&#x27;single&#x27;, n_clusters=4)</pre><b>In a Jupyter environment, please rerun this cell to show the HTML representation or trust the notebook. <br />On GitHub, the HTML representation is unable to render, please try loading this page with nbviewer.org.</b></div><div class=\"sk-container\" hidden><div class=\"sk-item\"><div class=\"sk-estimator sk-toggleable\"><input class=\"sk-toggleable__control sk-hidden--visually\" id=\"sk-estimator-id-11\" type=\"checkbox\" checked><label for=\"sk-estimator-id-11\" class=\"sk-toggleable__label sk-toggleable__label-arrow\">AgglomerativeClustering</label><div class=\"sk-toggleable__content\"><pre>AgglomerativeClustering(affinity=&#x27;manhattan&#x27;, linkage=&#x27;single&#x27;, n_clusters=4)</pre></div></div></div></div></div>"
            ]
          },
          "metadata": {},
          "execution_count": 91
        }
      ]
    },
    {
      "cell_type": "code",
      "source": [
        "#Hasil clusstering\n",
        "labels_agglo = model_AHC.labels_\n",
        "labels_agglo"
      ],
      "metadata": {
        "colab": {
          "base_uri": "https://localhost:8080/"
        },
        "id": "0L1-_3am1VIF",
        "outputId": "9f5ee2e8-0190-4715-f0bf-fe786393f5ba"
      },
      "execution_count": null,
      "outputs": [
        {
          "output_type": "execute_result",
          "data": {
            "text/plain": [
              "array([2, 2, 2, 2, 2, 2, 2, 2, 2, 2, 2, 2, 2, 2, 2, 2, 2, 2, 2, 2, 2, 2,\n",
              "       2, 2, 2, 2, 2, 2, 2, 2, 2, 2, 2, 2, 2, 2, 2, 2, 2, 2, 2, 2, 2, 2,\n",
              "       2, 2, 2, 2, 2, 2, 2, 2, 2, 2, 2, 2, 2, 2, 2, 2, 2, 2, 2, 2, 2, 2,\n",
              "       2, 2, 2, 2, 2, 2, 2, 2, 2, 2, 2, 2, 2, 2, 2, 2, 2, 2, 2, 2, 2, 2,\n",
              "       2, 2, 2, 2, 2, 2, 2, 2, 2, 2, 2, 2, 2, 2, 2, 2, 2, 2, 2, 2, 2, 2,\n",
              "       2, 2, 2, 2, 2, 2, 2, 2, 2, 2, 2, 2, 2, 2, 2, 2, 2, 2, 2, 2, 2, 2,\n",
              "       2, 2, 2, 2, 2, 2, 2, 2, 2, 2, 2, 2, 2, 2, 2, 2, 2, 2, 2, 2, 2, 2,\n",
              "       2, 2, 2, 2, 2, 2, 2, 2, 2, 2, 2, 2, 2, 2, 2, 2, 2, 2, 2, 2, 2, 2,\n",
              "       2, 2, 2, 2, 2, 2, 2, 2, 2, 2, 2, 2, 2, 2, 2, 2, 2, 2, 2, 2, 2, 2,\n",
              "       2, 2, 2, 2, 2, 2, 2, 2, 2, 2, 2, 2, 2, 2, 2, 2, 2, 2, 2, 2, 2, 2,\n",
              "       2, 2, 2, 2, 2, 2, 2, 2, 2, 2, 2, 2, 1, 0, 1, 0, 3, 3, 3, 3])"
            ]
          },
          "metadata": {},
          "execution_count": 92
        }
      ]
    },
    {
      "cell_type": "markdown",
      "source": [
        "###Visualisasi hasil clustering"
      ],
      "metadata": {
        "id": "EZoSI3uW2tSt"
      }
    },
    {
      "cell_type": "code",
      "source": [
        "colors = ['red', 'green', 'blue', 'purple', 'magenta', 'orange', 'yellow']\n",
        "\n",
        "for i in range(jumlah_cluster):\n",
        "  plt.scatter(X[labels_agglo==i, 0], X[labels_agglo==i, 1], s=50, marker='o', color=colors[i])"
      ],
      "metadata": {
        "colab": {
          "base_uri": "https://localhost:8080/",
          "height": 430
        },
        "id": "RtoLunIM1egu",
        "outputId": "0fe9919c-f2f8-45ca-9b18-1ab9a9cf198c"
      },
      "execution_count": null,
      "outputs": [
        {
          "output_type": "display_data",
          "data": {
            "text/plain": [
              "<Figure size 640x480 with 1 Axes>"
            ],
            "image/png": "[encoded data removed]"
          },
          "metadata": {}
        }
      ]
    },
    {
      "cell_type": "code",
      "source": [
        "data['Hasil_Clustering Single'] = labels_agglo\n",
        "data"
      ],
      "metadata": {
        "colab": {
          "base_uri": "https://localhost:8080/",
          "height": 455
        },
        "id": "prUvc4x81i4Y",
        "outputId": "79614abd-bcf4-4c0f-ae0a-9f74e79ba77f"
      },
      "execution_count": null,
      "outputs": [
        {
          "output_type": "execute_result",
          "data": {
            "text/plain": [
              "            Gender  Age  AnnualIncome  SpendingScore  Hasil_Clustering  \\\n",
              "CustomerID                                                               \n",
              "1             Male   19            15             39                 3   \n",
              "2             Male   21            15             81                 1   \n",
              "3           Female   20            16              6                 3   \n",
              "4           Female   23            16             77                 1   \n",
              "5           Female   31            17             40                 3   \n",
              "...            ...  ...           ...            ...               ...   \n",
              "209         Female   35          1207             79                 0   \n",
              "210         Female   45           126            182                 2   \n",
              "211           Male   32           126            174                 2   \n",
              "212           Male   32           137            192                 2   \n",
              "213           Male   30           137            183                 2   \n",
              "\n",
              "            Hasil_Clustering Single  \n",
              "CustomerID                           \n",
              "1                                 2  \n",
              "2                                 2  \n",
              "3                                 2  \n",
              "4                                 2  \n",
              "5                                 2  \n",
              "...                             ...  \n",
              "209                               0  \n",
              "210                               3  \n",
              "211                               3  \n",
              "212                               3  \n",
              "213                               3  \n",
              "\n",
              "[240 rows x 6 columns]"
            ],
            "text/html": [
              "\n",
              "  <div id=\"df-0b1997f4-ab7a-4360-896c-ed0bf8720143\" class=\"colab-df-container\">\n",
              "    <div>\n",
              "<style scoped>\n",
              "    .dataframe tbody tr th:only-of-type {\n",
              "        vertical-align: middle;\n",
              "    }\n",
              "\n",
              "    .dataframe tbody tr th {\n",
              "        vertical-align: top;\n",
              "    }\n",
              "\n",
              "    .dataframe thead th {\n",
              "        text-align: right;\n",
              "    }\n",
              "</style>\n",
              "<table border=\"1\" class=\"dataframe\">\n",
              "  <thead>\n",
              "    <tr style=\"text-align: right;\">\n",
              "      <th></th>\n",
              "      <th>Gender</th>\n",
              "      <th>Age</th>\n",
              "      <th>AnnualIncome</th>\n",
              "      <th>SpendingScore</th>\n",
              "      <th>Hasil_Clustering</th>\n",
              "      <th>Hasil_Clustering Single</th>\n",
              "    </tr>\n",
              "    <tr>\n",
              "      <th>CustomerID</th>\n",
              "      <th></th>\n",
              "      <th></th>\n",
              "      <th></th>\n",
              "      <th></th>\n",
              "      <th></th>\n",
              "      <th></th>\n",
              "    </tr>\n",
              "  </thead>\n",
              "  <tbody>\n",
              "    <tr>\n",
              "      <th>1</th>\n",
              "      <td>Male</td>\n",
              "      <td>19</td>\n",
              "      <td>15</td>\n",
              "      <td>39</td>\n",
              "      <td>3</td>\n",
              "      <td>2</td>\n",
              "    </tr>\n",
              "    <tr>\n",
              "      <th>2</th>\n",
              "      <td>Male</td>\n",
              "      <td>21</td>\n",
              "      <td>15</td>\n",
              "      <td>81</td>\n",
              "      <td>1</td>\n",
              "      <td>2</td>\n",
              "    </tr>\n",
              "    <tr>\n",
              "      <th>3</th>\n",
              "      <td>Female</td>\n",
              "      <td>20</td>\n",
              "      <td>16</td>\n",
              "      <td>6</td>\n",
              "      <td>3</td>\n",
              "      <td>2</td>\n",
              "    </tr>\n",
              "    <tr>\n",
              "      <th>4</th>\n",
              "      <td>Female</td>\n",
              "      <td>23</td>\n",
              "      <td>16</td>\n",
              "      <td>77</td>\n",
              "      <td>1</td>\n",
              "      <td>2</td>\n",
              "    </tr>\n",
              "    <tr>\n",
              "      <th>5</th>\n",
              "      <td>Female</td>\n",
              "      <td>31</td>\n",
              "      <td>17</td>\n",
              "      <td>40</td>\n",
              "      <td>3</td>\n",
              "      <td>2</td>\n",
              "    </tr>\n",
              "    <tr>\n",
              "      <th>...</th>\n",
              "      <td>...</td>\n",
              "      <td>...</td>\n",
              "      <td>...</td>\n",
              "      <td>...</td>\n",
              "      <td>...</td>\n",
              "      <td>...</td>\n",
              "    </tr>\n",
              "    <tr>\n",
              "      <th>209</th>\n",
              "      <td>Female</td>\n",
              "      <td>35</td>\n",
              "      <td>1207</td>\n",
              "      <td>79</td>\n",
              "      <td>0</td>\n",
              "      <td>0</td>\n",
              "    </tr>\n",
              "    <tr>\n",
              "      <th>210</th>\n",
              "      <td>Female</td>\n",
              "      <td>45</td>\n",
              "      <td>126</td>\n",
              "      <td>182</td>\n",
              "      <td>2</td>\n",
              "      <td>3</td>\n",
              "    </tr>\n",
              "    <tr>\n",
              "      <th>211</th>\n",
              "      <td>Male</td>\n",
              "      <td>32</td>\n",
              "      <td>126</td>\n",
              "      <td>174</td>\n",
              "      <td>2</td>\n",
              "      <td>3</td>\n",
              "    </tr>\n",
              "    <tr>\n",
              "      <th>212</th>\n",
              "      <td>Male</td>\n",
              "      <td>32</td>\n",
              "      <td>137</td>\n",
              "      <td>192</td>\n",
              "      <td>2</td>\n",
              "      <td>3</td>\n",
              "    </tr>\n",
              "    <tr>\n",
              "      <th>213</th>\n",
              "      <td>Male</td>\n",
              "      <td>30</td>\n",
              "      <td>137</td>\n",
              "      <td>183</td>\n",
              "      <td>2</td>\n",
              "      <td>3</td>\n",
              "    </tr>\n",
              "  </tbody>\n",
              "</table>\n",
              "<p>240 rows × 6 columns</p>\n",
              "</div>\n",
              "    <div class=\"colab-df-buttons\">\n",
              "\n",
              "  <div class=\"colab-df-container\">\n",
              "    <button class=\"colab-df-convert\" onclick=\"convertToInteractive('df-0b1997f4-ab7a-4360-896c-ed0bf8720143')\"\n",
              "            title=\"Convert this dataframe to an interactive table.\"\n",
              "            style=\"display:none;\">\n",
              "\n",
              "  <svg xmlns=\"http://www.w3.org/2000/svg\" height=\"24px\" viewBox=\"0 -960 960 960\">\n",
              "    <path d=\"M120-120v-720h720v720H120Zm60-500h600v-160H180v160Zm220 220h160v-160H400v160Zm0 220h160v-160H400v160ZM180-400h160v-160H180v160Zm440 0h160v-160H620v160ZM180-180h160v-160H180v160Zm440 0h160v-160H620v160Z\"/>\n",
              "  </svg>\n",
              "    </button>\n",
              "\n",
              "  <style>\n",
              "    .colab-df-container {\n",
              "      display:flex;\n",
              "      gap: 12px;\n",
              "    }\n",
              "\n",
              "    .colab-df-convert {\n",
              "      background-color: #E8F0FE;\n",
              "      border: none;\n",
              "      border-radius: 50%;\n",
              "      cursor: pointer;\n",
              "      display: none;\n",
              "      fill: #1967D2;\n",
              "      height: 32px;\n",
              "      padding: 0 0 0 0;\n",
              "      width: 32px;\n",
              "    }\n",
              "\n",
              "    .colab-df-convert:hover {\n",
              "      background-color: #E2EBFA;\n",
              "      box-shadow: 0px 1px 2px rgba(60, 64, 67, 0.3), 0px 1px 3px 1px rgba(60, 64, 67, 0.15);\n",
              "      fill: #174EA6;\n",
              "    }\n",
              "\n",
              "    .colab-df-buttons div {\n",
              "      margin-bottom: 4px;\n",
              "    }\n",
              "\n",
              "    [theme=dark] .colab-df-convert {\n",
              "      background-color: #3B4455;\n",
              "      fill: #D2E3FC;\n",
              "    }\n",
              "\n",
              "    [theme=dark] .colab-df-convert:hover {\n",
              "      background-color: #434B5C;\n",
              "      box-shadow: 0px 1px 3px 1px rgba(0, 0, 0, 0.15);\n",
              "      filter: drop-shadow(0px 1px 2px rgba(0, 0, 0, 0.3));\n",
              "      fill: #FFFFFF;\n",
              "    }\n",
              "  </style>\n",
              "\n",
              "    <script>\n",
              "      const buttonEl =\n",
              "        document.querySelector('#df-0b1997f4-ab7a-4360-896c-ed0bf8720143 button.colab-df-convert');\n",
              "      buttonEl.style.display =\n",
              "        google.colab.kernel.accessAllowed ? 'block' : 'none';\n",
              "\n",
              "      async function convertToInteractive(key) {\n",
              "        const element = document.querySelector('#df-0b1997f4-ab7a-4360-896c-ed0bf8720143');\n",
              "        const dataTable =\n",
              "          await google.colab.kernel.invokeFunction('convertToInteractive',\n",
              "                                                    [key], {});\n",
              "        if (!dataTable) return;\n",
              "\n",
              "        const docLinkHtml = 'Like what you see? Visit the ' +\n",
              "          '<a target=\"_blank\" href=https://colab.research.google.com/notebooks/data_table.ipynb>data table notebook</a>'\n",
              "          + ' to learn more about interactive tables.';\n",
              "        element.innerHTML = '';\n",
              "        dataTable['output_type'] = 'display_data';\n",
              "        await google.colab.output.renderOutput(dataTable, element);\n",
              "        const docLink = document.createElement('div');\n",
              "        docLink.innerHTML = docLinkHtml;\n",
              "        element.appendChild(docLink);\n",
              "      }\n",
              "    </script>\n",
              "  </div>\n",
              "\n",
              "\n",
              "<div id=\"df-a287b42f-07aa-45b3-b4fb-8b7c3b3cf115\">\n",
              "  <button class=\"colab-df-quickchart\" onclick=\"quickchart('df-a287b42f-07aa-45b3-b4fb-8b7c3b3cf115')\"\n",
              "            title=\"Suggest charts\"\n",
              "            style=\"display:none;\">\n",
              "\n",
              "<svg xmlns=\"http://www.w3.org/2000/svg\" height=\"24px\"viewBox=\"0 0 24 24\"\n",
              "     width=\"24px\">\n",
              "    <g>\n",
              "        <path d=\"M19 3H5c-1.1 0-2 .9-2 2v14c0 1.1.9 2 2 2h14c1.1 0 2-.9 2-2V5c0-1.1-.9-2-2-2zM9 17H7v-7h2v7zm4 0h-2V7h2v10zm4 0h-2v-4h2v4z\"/>\n",
              "    </g>\n",
              "</svg>\n",
              "  </button>\n",
              "\n",
              "<style>\n",
              "  .colab-df-quickchart {\n",
              "      --bg-color: #E8F0FE;\n",
              "      --fill-color: #1967D2;\n",
              "      --hover-bg-color: #E2EBFA;\n",
              "      --hover-fill-color: #174EA6;\n",
              "      --disabled-fill-color: #AAA;\n",
              "      --disabled-bg-color: #DDD;\n",
              "  }\n",
              "\n",
              "  [theme=dark] .colab-df-quickchart {\n",
              "      --bg-color: #3B4455;\n",
              "      --fill-color: #D2E3FC;\n",
              "      --hover-bg-color: #434B5C;\n",
              "      --hover-fill-color: #FFFFFF;\n",
              "      --disabled-bg-color: #3B4455;\n",
              "      --disabled-fill-color: #666;\n",
              "  }\n",
              "\n",
              "  .colab-df-quickchart {\n",
              "    background-color: var(--bg-color);\n",
              "    border: none;\n",
              "    border-radius: 50%;\n",
              "    cursor: pointer;\n",
              "    display: none;\n",
              "    fill: var(--fill-color);\n",
              "    height: 32px;\n",
              "    padding: 0;\n",
              "    width: 32px;\n",
              "  }\n",
              "\n",
              "  .colab-df-quickchart:hover {\n",
              "    background-color: var(--hover-bg-color);\n",
              "    box-shadow: 0 1px 2px rgba(60, 64, 67, 0.3), 0 1px 3px 1px rgba(60, 64, 67, 0.15);\n",
              "    fill: var(--button-hover-fill-color);\n",
              "  }\n",
              "\n",
              "  .colab-df-quickchart-complete:disabled,\n",
              "  .colab-df-quickchart-complete:disabled:hover {\n",
              "    background-color: var(--disabled-bg-color);\n",
              "    fill: var(--disabled-fill-color);\n",
              "    box-shadow: none;\n",
              "  }\n",
              "\n",
              "  .colab-df-spinner {\n",
              "    border: 2px solid var(--fill-color);\n",
              "    border-color: transparent;\n",
              "    border-bottom-color: var(--fill-color);\n",
              "    animation:\n",
              "      spin 1s steps(1) infinite;\n",
              "  }\n",
              "\n",
              "  @keyframes spin {\n",
              "    0% {\n",
              "      border-color: transparent;\n",
              "      border-bottom-color: var(--fill-color);\n",
              "      border-left-color: var(--fill-color);\n",
              "    }\n",
              "    20% {\n",
              "      border-color: transparent;\n",
              "      border-left-color: var(--fill-color);\n",
              "      border-top-color: var(--fill-color);\n",
              "    }\n",
              "    30% {\n",
              "      border-color: transparent;\n",
              "      border-left-color: var(--fill-color);\n",
              "      border-top-color: var(--fill-color);\n",
              "      border-right-color: var(--fill-color);\n",
              "    }\n",
              "    40% {\n",
              "      border-color: transparent;\n",
              "      border-right-color: var(--fill-color);\n",
              "      border-top-color: var(--fill-color);\n",
              "    }\n",
              "    60% {\n",
              "      border-color: transparent;\n",
              "      border-right-color: var(--fill-color);\n",
              "    }\n",
              "    80% {\n",
              "      border-color: transparent;\n",
              "      border-right-color: var(--fill-color);\n",
              "      border-bottom-color: var(--fill-color);\n",
              "    }\n",
              "    90% {\n",
              "      border-color: transparent;\n",
              "      border-bottom-color: var(--fill-color);\n",
              "    }\n",
              "  }\n",
              "</style>\n",
              "\n",
              "  <script>\n",
              "    async function quickchart(key) {\n",
              "      const quickchartButtonEl =\n",
              "        document.querySelector('#' + key + ' button');\n",
              "      quickchartButtonEl.disabled = true;  // To prevent multiple clicks.\n",
              "      quickchartButtonEl.classList.add('colab-df-spinner');\n",
              "      try {\n",
              "        const charts = await google.colab.kernel.invokeFunction(\n",
              "            'suggestCharts', [key], {});\n",
              "      } catch (error) {\n",
              "        console.error('Error during call to suggestCharts:', error);\n",
              "      }\n",
              "      quickchartButtonEl.classList.remove('colab-df-spinner');\n",
              "      quickchartButtonEl.classList.add('colab-df-quickchart-complete');\n",
              "    }\n",
              "    (() => {\n",
              "      let quickchartButtonEl =\n",
              "        document.querySelector('#df-a287b42f-07aa-45b3-b4fb-8b7c3b3cf115 button');\n",
              "      quickchartButtonEl.style.display =\n",
              "        google.colab.kernel.accessAllowed ? 'block' : 'none';\n",
              "    })();\n",
              "  </script>\n",
              "</div>\n",
              "    </div>\n",
              "  </div>\n"
            ],
            "application/vnd.google.colaboratory.intrinsic+json": {
              "type": "dataframe",
              "variable_name": "data",
              "summary": "{\n  \"name\": \"data\",\n  \"rows\": 240,\n  \"fields\": [\n    {\n      \"column\": \"CustomerID\",\n      \"properties\": {\n        \"dtype\": \"number\",\n        \"std\": 63,\n        \"min\": 1,\n        \"max\": 213,\n        \"num_unique_values\": 213,\n        \"samples\": [\n          10,\n          198,\n          67\n        ],\n        \"semantic_type\": \"\",\n        \"description\": \"\"\n      }\n    },\n    {\n      \"column\": \"Gender\",\n      \"properties\": {\n        \"dtype\": \"category\",\n        \"num_unique_values\": 2,\n        \"samples\": [\n          \"Female\",\n          \"Male\"\n        ],\n        \"semantic_type\": \"\",\n        \"description\": \"\"\n      }\n    },\n    {\n      \"column\": \"Age\",\n      \"properties\": {\n        \"dtype\": \"number\",\n        \"std\": 45,\n        \"min\": 18,\n        \"max\": 410,\n        \"num_unique_values\": 56,\n        \"samples\": [\n          19,\n          22\n        ],\n        \"semantic_type\": \"\",\n        \"description\": \"\"\n      }\n    },\n    {\n      \"column\": \"AnnualIncome\",\n      \"properties\": {\n        \"dtype\": \"number\",\n        \"std\": 145,\n        \"min\": 15,\n        \"max\": 1207,\n        \"num_unique_values\": 67,\n        \"samples\": [\n          65,\n          38\n        ],\n        \"semantic_type\": \"\",\n        \"description\": \"\"\n      }\n    },\n    {\n      \"column\": \"SpendingScore\",\n      \"properties\": {\n        \"dtype\": \"number\",\n        \"std\": 31,\n        \"min\": 1,\n        \"max\": 192,\n        \"num_unique_values\": 88,\n        \"samples\": [\n          86,\n          39\n        ],\n        \"semantic_type\": \"\",\n        \"description\": \"\"\n      }\n    },\n    {\n      \"column\": \"Hasil_Clustering\",\n      \"properties\": {\n        \"dtype\": \"number\",\n        \"std\": 0,\n        \"min\": 0,\n        \"max\": 3,\n        \"num_unique_values\": 4,\n        \"samples\": [\n          1,\n          2\n        ],\n        \"semantic_type\": \"\",\n        \"description\": \"\"\n      }\n    },\n    {\n      \"column\": \"Hasil_Clustering Single\",\n      \"properties\": {\n        \"dtype\": \"number\",\n        \"std\": 0,\n        \"min\": 0,\n        \"max\": 3,\n        \"num_unique_values\": 4,\n        \"samples\": [\n          1,\n          3\n        ],\n        \"semantic_type\": \"\",\n        \"description\": \"\"\n      }\n    }\n  ]\n}"
            }
          },
          "metadata": {},
          "execution_count": 94
        }
      ]
    },
    {
      "cell_type": "markdown",
      "source": [
        "###Kesimpulan"
      ],
      "metadata": {
        "id": "ethaSyTL27Vh"
      }
    },
    {
      "cell_type": "code",
      "source": [
        "for i in range(jumlah_cluster):\n",
        "  print(f'Cluster ke-{i}')\n",
        "  print('Rata rata pemasukan customer : ', data[data['Hasil_Clustering Single']==i]['AnnualIncome'].mean())\n",
        "  print('Rata rata pengeluaran customer : ', data[data['Hasil_Clustering Single']==i]['SpendingScore'].mean())\n",
        "  print()"
      ],
      "metadata": {
        "colab": {
          "base_uri": "https://localhost:8080/"
        },
        "id": "wth_cCpj1oDn",
        "outputId": "95f24716-c606-4b3a-b7c0-1a10593062bc"
      },
      "execution_count": null,
      "outputs": [
        {
          "output_type": "stream",
          "name": "stdout",
          "text": [
            "Cluster ke-0\n",
            "Rata rata pemasukan customer :  1168.5\n",
            "Rata rata pengeluaran customer :  85.0\n",
            "\n",
            "Cluster ke-1\n",
            "Rata rata pemasukan customer :  1165.5\n",
            "Rata rata pengeluaran customer :  12.0\n",
            "\n",
            "Cluster ke-2\n",
            "Rata rata pemasukan customer :  57.72844827586207\n",
            "Rata rata pengeluaran customer :  50.03879310344828\n",
            "\n",
            "Cluster ke-3\n",
            "Rata rata pemasukan customer :  131.5\n",
            "Rata rata pengeluaran customer :  182.75\n",
            "\n"
          ]
        }
      ]
    },
    {
      "cell_type": "markdown",
      "source": [
        "##Metode Average"
      ],
      "metadata": {
        "id": "BJ5S17Fi1tHI"
      }
    },
    {
      "cell_type": "markdown",
      "source": [
        "###Membentuk dendogram"
      ],
      "metadata": {
        "id": "wf4iVFKS36hW"
      }
    },
    {
      "cell_type": "code",
      "source": [
        "dendrogram = sch.dendrogram(sch.linkage(X, method='average'))"
      ],
      "metadata": {
        "colab": {
          "base_uri": "https://localhost:8080/",
          "height": 429
        },
        "id": "SorGl2Mc1rM8",
        "outputId": "f94b9a2a-0bba-4b74-ce30-8a270bac9d19"
      },
      "execution_count": null,
      "outputs": [
        {
          "output_type": "display_data",
          "data": {
            "text/plain": [
              "<Figure size 640x480 with 1 Axes>"
            ],
            "image/png": "[encoded data removed]"
          },
          "metadata": {}
        }
      ]
    },
    {
      "cell_type": "markdown",
      "source": [
        "###Modelling"
      ],
      "metadata": {
        "id": "jYgT3xkz4Cy3"
      }
    },
    {
      "cell_type": "code",
      "source": [
        "# Hyperparameter tuning\n",
        "jumlah_cluster = 4\n",
        "persamaan_jarak = 'manhattan'\n",
        "metode_linkage = 'average'\n",
        "\n",
        "model_AHC = AgglomerativeClustering(n_clusters=jumlah_cluster, affinity=persamaan_jarak, linkage=metode_linkage)\n",
        "\n",
        "#training\n",
        "model_AHC.fit(X)"
      ],
      "metadata": {
        "colab": {
          "base_uri": "https://localhost:8080/",
          "height": 130
        },
        "id": "hRfmnAVy1wIB",
        "outputId": "e4dd7210-12bb-4dd1-a07b-4ff08586b3ed"
      },
      "execution_count": null,
      "outputs": [
        {
          "output_type": "stream",
          "name": "stderr",
          "text": [
            "/usr/local/lib/python3.10/dist-packages/sklearn/cluster/_agglomerative.py:983: FutureWarning: Attribute `affinity` was deprecated in version 1.2 and will be removed in 1.4. Use `metric` instead\n",
            "  warnings.warn(\n"
          ]
        },
        {
          "output_type": "execute_result",
          "data": {
            "text/plain": [
              "AgglomerativeClustering(affinity='manhattan', linkage='average', n_clusters=4)"
            ],
            "text/html": [
              "<style>#sk-container-id-12 {color: black;background-color: white;}#sk-container-id-12 pre{padding: 0;}#sk-container-id-12 div.sk-toggleable {background-color: white;}#sk-container-id-12 label.sk-toggleable__label {cursor: pointer;display: block;width: 100%;margin-bottom: 0;padding: 0.3em;box-sizing: border-box;text-align: center;}#sk-container-id-12 label.sk-toggleable__label-arrow:before {content: \"▸\";float: left;margin-right: 0.25em;color: #696969;}#sk-container-id-12 label.sk-toggleable__label-arrow:hover:before {color: black;}#sk-container-id-12 div.sk-estimator:hover label.sk-toggleable__label-arrow:before {color: black;}#sk-container-id-12 div.sk-toggleable__content {max-height: 0;max-width: 0;overflow: hidden;text-align: left;background-color: #f0f8ff;}#sk-container-id-12 div.sk-toggleable__content pre {margin: 0.2em;color: black;border-radius: 0.25em;background-color: #f0f8ff;}#sk-container-id-12 input.sk-toggleable__control:checked~div.sk-toggleable__content {max-height: 200px;max-width: 100%;overflow: auto;}#sk-container-id-12 input.sk-toggleable__control:checked~label.sk-toggleable__label-arrow:before {content: \"▾\";}#sk-container-id-12 div.sk-estimator input.sk-toggleable__control:checked~label.sk-toggleable__label {background-color: #d4ebff;}#sk-container-id-12 div.sk-label input.sk-toggleable__control:checked~label.sk-toggleable__label {background-color: #d4ebff;}#sk-container-id-12 input.sk-hidden--visually {border: 0;clip: rect(1px 1px 1px 1px);clip: rect(1px, 1px, 1px, 1px);height: 1px;margin: -1px;overflow: hidden;padding: 0;position: absolute;width: 1px;}#sk-container-id-12 div.sk-estimator {font-family: monospace;background-color: #f0f8ff;border: 1px dotted black;border-radius: 0.25em;box-sizing: border-box;margin-bottom: 0.5em;}#sk-container-id-12 div.sk-estimator:hover {background-color: #d4ebff;}#sk-container-id-12 div.sk-parallel-item::after {content: \"\";width: 100%;border-bottom: 1px solid gray;flex-grow: 1;}#sk-container-id-12 div.sk-label:hover label.sk-toggleable__label {background-color: #d4ebff;}#sk-container-id-12 div.sk-serial::before {content: \"\";position: absolute;border-left: 1px solid gray;box-sizing: border-box;top: 0;bottom: 0;left: 50%;z-index: 0;}#sk-container-id-12 div.sk-serial {display: flex;flex-direction: column;align-items: center;background-color: white;padding-right: 0.2em;padding-left: 0.2em;position: relative;}#sk-container-id-12 div.sk-item {position: relative;z-index: 1;}#sk-container-id-12 div.sk-parallel {display: flex;align-items: stretch;justify-content: center;background-color: white;position: relative;}#sk-container-id-12 div.sk-item::before, #sk-container-id-12 div.sk-parallel-item::before {content: \"\";position: absolute;border-left: 1px solid gray;box-sizing: border-box;top: 0;bottom: 0;left: 50%;z-index: -1;}#sk-container-id-12 div.sk-parallel-item {display: flex;flex-direction: column;z-index: 1;position: relative;background-color: white;}#sk-container-id-12 div.sk-parallel-item:first-child::after {align-self: flex-end;width: 50%;}#sk-container-id-12 div.sk-parallel-item:last-child::after {align-self: flex-start;width: 50%;}#sk-container-id-12 div.sk-parallel-item:only-child::after {width: 0;}#sk-container-id-12 div.sk-dashed-wrapped {border: 1px dashed gray;margin: 0 0.4em 0.5em 0.4em;box-sizing: border-box;padding-bottom: 0.4em;background-color: white;}#sk-container-id-12 div.sk-label label {font-family: monospace;font-weight: bold;display: inline-block;line-height: 1.2em;}#sk-container-id-12 div.sk-label-container {text-align: center;}#sk-container-id-12 div.sk-container {/* jupyter's `normalize.less` sets `[hidden] { display: none; }` but bootstrap.min.css set `[hidden] { display: none !important; }` so we also need the `!important` here to be able to override the default hidden behavior on the sphinx rendered scikit-learn.org. See: https://github.com/scikit-learn/scikit-learn/issues/21755 */display: inline-block !important;position: relative;}#sk-container-id-12 div.sk-text-repr-fallback {display: none;}</style><div id=\"sk-container-id-12\" class=\"sk-top-container\"><div class=\"sk-text-repr-fallback\"><pre>AgglomerativeClustering(affinity=&#x27;manhattan&#x27;, linkage=&#x27;average&#x27;, n_clusters=4)</pre><b>In a Jupyter environment, please rerun this cell to show the HTML representation or trust the notebook. <br />On GitHub, the HTML representation is unable to render, please try loading this page with nbviewer.org.</b></div><div class=\"sk-container\" hidden><div class=\"sk-item\"><div class=\"sk-estimator sk-toggleable\"><input class=\"sk-toggleable__control sk-hidden--visually\" id=\"sk-estimator-id-12\" type=\"checkbox\" checked><label for=\"sk-estimator-id-12\" class=\"sk-toggleable__label sk-toggleable__label-arrow\">AgglomerativeClustering</label><div class=\"sk-toggleable__content\"><pre>AgglomerativeClustering(affinity=&#x27;manhattan&#x27;, linkage=&#x27;average&#x27;, n_clusters=4)</pre></div></div></div></div></div>"
            ]
          },
          "metadata": {},
          "execution_count": 97
        }
      ]
    },
    {
      "cell_type": "code",
      "source": [
        "#Hasil Clusstering\n",
        "labels_agglo = model_AHC.labels_\n",
        "labels_agglo"
      ],
      "metadata": {
        "colab": {
          "base_uri": "https://localhost:8080/"
        },
        "id": "HF-bdDK81ySc",
        "outputId": "7b2ae22c-edda-4854-f4ec-178408e72b92"
      },
      "execution_count": null,
      "outputs": [
        {
          "output_type": "execute_result",
          "data": {
            "text/plain": [
              "array([0, 0, 0, 0, 0, 0, 0, 0, 0, 0, 0, 0, 0, 0, 0, 0, 0, 0, 0, 0, 0, 0,\n",
              "       0, 0, 0, 0, 0, 0, 0, 0, 0, 0, 0, 0, 0, 0, 0, 0, 0, 0, 0, 0, 0, 0,\n",
              "       0, 0, 0, 0, 0, 0, 0, 0, 0, 0, 0, 0, 0, 0, 0, 0, 0, 0, 0, 0, 0, 0,\n",
              "       0, 0, 0, 0, 0, 0, 0, 0, 0, 0, 0, 0, 0, 0, 0, 0, 0, 0, 0, 0, 0, 0,\n",
              "       0, 0, 0, 0, 0, 0, 0, 0, 0, 0, 0, 0, 0, 0, 0, 0, 0, 0, 0, 0, 0, 0,\n",
              "       0, 0, 0, 0, 0, 0, 0, 0, 0, 0, 0, 0, 0, 0, 0, 0, 0, 0, 0, 0, 0, 0,\n",
              "       0, 0, 0, 0, 0, 0, 0, 0, 0, 0, 0, 0, 0, 0, 0, 0, 0, 0, 0, 0, 0, 0,\n",
              "       0, 0, 0, 0, 0, 0, 0, 0, 0, 0, 0, 0, 0, 0, 0, 0, 0, 0, 0, 0, 0, 0,\n",
              "       0, 0, 0, 0, 0, 0, 0, 0, 0, 0, 0, 0, 0, 0, 0, 0, 0, 0, 0, 0, 0, 0,\n",
              "       0, 0, 0, 0, 0, 0, 0, 0, 0, 0, 0, 0, 0, 0, 0, 0, 0, 0, 0, 0, 0, 0,\n",
              "       0, 0, 0, 0, 0, 0, 0, 0, 0, 0, 0, 0, 3, 1, 3, 1, 2, 2, 2, 2])"
            ]
          },
          "metadata": {},
          "execution_count": 98
        }
      ]
    },
    {
      "cell_type": "markdown",
      "source": [
        "###Visualisasi Hasil Clustering"
      ],
      "metadata": {
        "id": "ambnP6mx4iZp"
      }
    },
    {
      "cell_type": "code",
      "source": [
        "colors = ['red', 'green', 'blue', 'purple', 'magenta', 'orange', 'yellow']\n",
        "\n",
        "for i in range(jumlah_cluster):\n",
        "  plt.scatter(X[labels_agglo==i, 0], X[labels_agglo==i, 1], s=50, marker='o', color=colors[i])"
      ],
      "metadata": {
        "colab": {
          "base_uri": "https://localhost:8080/",
          "height": 430
        },
        "id": "ncdcXMxD10Nb",
        "outputId": "5ac1b824-1d8f-448d-a212-b1056bf37a46"
      },
      "execution_count": null,
      "outputs": [
        {
          "output_type": "display_data",
          "data": {
            "text/plain": [
              "<Figure size 640x480 with 1 Axes>"
            ],
            "image/png": "[encoded data removed]"
          },
          "metadata": {}
        }
      ]
    },
    {
      "cell_type": "code",
      "source": [
        "data['Hasil_Clustering Average'] = labels_agglo\n",
        "data"
      ],
      "metadata": {
        "colab": {
          "base_uri": "https://localhost:8080/",
          "height": 455
        },
        "id": "XXoFpHA312nr",
        "outputId": "ce617aeb-f226-48e6-fcd7-78597128744d"
      },
      "execution_count": null,
      "outputs": [
        {
          "output_type": "execute_result",
          "data": {
            "text/plain": [
              "            Gender  Age  AnnualIncome  SpendingScore  Hasil_Clustering  \\\n",
              "CustomerID                                                               \n",
              "1             Male   19            15             39                 3   \n",
              "2             Male   21            15             81                 1   \n",
              "3           Female   20            16              6                 3   \n",
              "4           Female   23            16             77                 1   \n",
              "5           Female   31            17             40                 3   \n",
              "...            ...  ...           ...            ...               ...   \n",
              "209         Female   35          1207             79                 0   \n",
              "210         Female   45           126            182                 2   \n",
              "211           Male   32           126            174                 2   \n",
              "212           Male   32           137            192                 2   \n",
              "213           Male   30           137            183                 2   \n",
              "\n",
              "            Hasil_Clustering Single  Hasil_Clustering Average  \n",
              "CustomerID                                                     \n",
              "1                                 2                         0  \n",
              "2                                 2                         0  \n",
              "3                                 2                         0  \n",
              "4                                 2                         0  \n",
              "5                                 2                         0  \n",
              "...                             ...                       ...  \n",
              "209                               0                         1  \n",
              "210                               3                         2  \n",
              "211                               3                         2  \n",
              "212                               3                         2  \n",
              "213                               3                         2  \n",
              "\n",
              "[240 rows x 7 columns]"
            ],
            "text/html": [
              "\n",
              "  <div id=\"df-0ed65b92-adf1-432a-a2c9-6620f80f7c8b\" class=\"colab-df-container\">\n",
              "    <div>\n",
              "<style scoped>\n",
              "    .dataframe tbody tr th:only-of-type {\n",
              "        vertical-align: middle;\n",
              "    }\n",
              "\n",
              "    .dataframe tbody tr th {\n",
              "        vertical-align: top;\n",
              "    }\n",
              "\n",
              "    .dataframe thead th {\n",
              "        text-align: right;\n",
              "    }\n",
              "</style>\n",
              "<table border=\"1\" class=\"dataframe\">\n",
              "  <thead>\n",
              "    <tr style=\"text-align: right;\">\n",
              "      <th></th>\n",
              "      <th>Gender</th>\n",
              "      <th>Age</th>\n",
              "      <th>AnnualIncome</th>\n",
              "      <th>SpendingScore</th>\n",
              "      <th>Hasil_Clustering</th>\n",
              "      <th>Hasil_Clustering Single</th>\n",
              "      <th>Hasil_Clustering Average</th>\n",
              "    </tr>\n",
              "    <tr>\n",
              "      <th>CustomerID</th>\n",
              "      <th></th>\n",
              "      <th></th>\n",
              "      <th></th>\n",
              "      <th></th>\n",
              "      <th></th>\n",
              "      <th></th>\n",
              "      <th></th>\n",
              "    </tr>\n",
              "  </thead>\n",
              "  <tbody>\n",
              "    <tr>\n",
              "      <th>1</th>\n",
              "      <td>Male</td>\n",
              "      <td>19</td>\n",
              "      <td>15</td>\n",
              "      <td>39</td>\n",
              "      <td>3</td>\n",
              "      <td>2</td>\n",
              "      <td>0</td>\n",
              "    </tr>\n",
              "    <tr>\n",
              "      <th>2</th>\n",
              "      <td>Male</td>\n",
              "      <td>21</td>\n",
              "      <td>15</td>\n",
              "      <td>81</td>\n",
              "      <td>1</td>\n",
              "      <td>2</td>\n",
              "      <td>0</td>\n",
              "    </tr>\n",
              "    <tr>\n",
              "      <th>3</th>\n",
              "      <td>Female</td>\n",
              "      <td>20</td>\n",
              "      <td>16</td>\n",
              "      <td>6</td>\n",
              "      <td>3</td>\n",
              "      <td>2</td>\n",
              "      <td>0</td>\n",
              "    </tr>\n",
              "    <tr>\n",
              "      <th>4</th>\n",
              "      <td>Female</td>\n",
              "      <td>23</td>\n",
              "      <td>16</td>\n",
              "      <td>77</td>\n",
              "      <td>1</td>\n",
              "      <td>2</td>\n",
              "      <td>0</td>\n",
              "    </tr>\n",
              "    <tr>\n",
              "      <th>5</th>\n",
              "      <td>Female</td>\n",
              "      <td>31</td>\n",
              "      <td>17</td>\n",
              "      <td>40</td>\n",
              "      <td>3</td>\n",
              "      <td>2</td>\n",
              "      <td>0</td>\n",
              "    </tr>\n",
              "    <tr>\n",
              "      <th>...</th>\n",
              "      <td>...</td>\n",
              "      <td>...</td>\n",
              "      <td>...</td>\n",
              "      <td>...</td>\n",
              "      <td>...</td>\n",
              "      <td>...</td>\n",
              "      <td>...</td>\n",
              "    </tr>\n",
              "    <tr>\n",
              "      <th>209</th>\n",
              "      <td>Female</td>\n",
              "      <td>35</td>\n",
              "      <td>1207</td>\n",
              "      <td>79</td>\n",
              "      <td>0</td>\n",
              "      <td>0</td>\n",
              "      <td>1</td>\n",
              "    </tr>\n",
              "    <tr>\n",
              "      <th>210</th>\n",
              "      <td>Female</td>\n",
              "      <td>45</td>\n",
              "      <td>126</td>\n",
              "      <td>182</td>\n",
              "      <td>2</td>\n",
              "      <td>3</td>\n",
              "      <td>2</td>\n",
              "    </tr>\n",
              "    <tr>\n",
              "      <th>211</th>\n",
              "      <td>Male</td>\n",
              "      <td>32</td>\n",
              "      <td>126</td>\n",
              "      <td>174</td>\n",
              "      <td>2</td>\n",
              "      <td>3</td>\n",
              "      <td>2</td>\n",
              "    </tr>\n",
              "    <tr>\n",
              "      <th>212</th>\n",
              "      <td>Male</td>\n",
              "      <td>32</td>\n",
              "      <td>137</td>\n",
              "      <td>192</td>\n",
              "      <td>2</td>\n",
              "      <td>3</td>\n",
              "      <td>2</td>\n",
              "    </tr>\n",
              "    <tr>\n",
              "      <th>213</th>\n",
              "      <td>Male</td>\n",
              "      <td>30</td>\n",
              "      <td>137</td>\n",
              "      <td>183</td>\n",
              "      <td>2</td>\n",
              "      <td>3</td>\n",
              "      <td>2</td>\n",
              "    </tr>\n",
              "  </tbody>\n",
              "</table>\n",
              "<p>240 rows × 7 columns</p>\n",
              "</div>\n",
              "    <div class=\"colab-df-buttons\">\n",
              "\n",
              "  <div class=\"colab-df-container\">\n",
              "    <button class=\"colab-df-convert\" onclick=\"convertToInteractive('df-0ed65b92-adf1-432a-a2c9-6620f80f7c8b')\"\n",
              "            title=\"Convert this dataframe to an interactive table.\"\n",
              "            style=\"display:none;\">\n",
              "\n",
              "  <svg xmlns=\"http://www.w3.org/2000/svg\" height=\"24px\" viewBox=\"0 -960 960 960\">\n",
              "    <path d=\"M120-120v-720h720v720H120Zm60-500h600v-160H180v160Zm220 220h160v-160H400v160Zm0 220h160v-160H400v160ZM180-400h160v-160H180v160Zm440 0h160v-160H620v160ZM180-180h160v-160H180v160Zm440 0h160v-160H620v160Z\"/>\n",
              "  </svg>\n",
              "    </button>\n",
              "\n",
              "  <style>\n",
              "    .colab-df-container {\n",
              "      display:flex;\n",
              "      gap: 12px;\n",
              "    }\n",
              "\n",
              "    .colab-df-convert {\n",
              "      background-color: #E8F0FE;\n",
              "      border: none;\n",
              "      border-radius: 50%;\n",
              "      cursor: pointer;\n",
              "      display: none;\n",
              "      fill: #1967D2;\n",
              "      height: 32px;\n",
              "      padding: 0 0 0 0;\n",
              "      width: 32px;\n",
              "    }\n",
              "\n",
              "    .colab-df-convert:hover {\n",
              "      background-color: #E2EBFA;\n",
              "      box-shadow: 0px 1px 2px rgba(60, 64, 67, 0.3), 0px 1px 3px 1px rgba(60, 64, 67, 0.15);\n",
              "      fill: #174EA6;\n",
              "    }\n",
              "\n",
              "    .colab-df-buttons div {\n",
              "      margin-bottom: 4px;\n",
              "    }\n",
              "\n",
              "    [theme=dark] .colab-df-convert {\n",
              "      background-color: #3B4455;\n",
              "      fill: #D2E3FC;\n",
              "    }\n",
              "\n",
              "    [theme=dark] .colab-df-convert:hover {\n",
              "      background-color: #434B5C;\n",
              "      box-shadow: 0px 1px 3px 1px rgba(0, 0, 0, 0.15);\n",
              "      filter: drop-shadow(0px 1px 2px rgba(0, 0, 0, 0.3));\n",
              "      fill: #FFFFFF;\n",
              "    }\n",
              "  </style>\n",
              "\n",
              "    <script>\n",
              "      const buttonEl =\n",
              "        document.querySelector('#df-0ed65b92-adf1-432a-a2c9-6620f80f7c8b button.colab-df-convert');\n",
              "      buttonEl.style.display =\n",
              "        google.colab.kernel.accessAllowed ? 'block' : 'none';\n",
              "\n",
              "      async function convertToInteractive(key) {\n",
              "        const element = document.querySelector('#df-0ed65b92-adf1-432a-a2c9-6620f80f7c8b');\n",
              "        const dataTable =\n",
              "          await google.colab.kernel.invokeFunction('convertToInteractive',\n",
              "                                                    [key], {});\n",
              "        if (!dataTable) return;\n",
              "\n",
              "        const docLinkHtml = 'Like what you see? Visit the ' +\n",
              "          '<a target=\"_blank\" href=https://colab.research.google.com/notebooks/data_table.ipynb>data table notebook</a>'\n",
              "          + ' to learn more about interactive tables.';\n",
              "        element.innerHTML = '';\n",
              "        dataTable['output_type'] = 'display_data';\n",
              "        await google.colab.output.renderOutput(dataTable, element);\n",
              "        const docLink = document.createElement('div');\n",
              "        docLink.innerHTML = docLinkHtml;\n",
              "        element.appendChild(docLink);\n",
              "      }\n",
              "    </script>\n",
              "  </div>\n",
              "\n",
              "\n",
              "<div id=\"df-0770c4a5-86ca-4b55-818f-5bb032c382c4\">\n",
              "  <button class=\"colab-df-quickchart\" onclick=\"quickchart('df-0770c4a5-86ca-4b55-818f-5bb032c382c4')\"\n",
              "            title=\"Suggest charts\"\n",
              "            style=\"display:none;\">\n",
              "\n",
              "<svg xmlns=\"http://www.w3.org/2000/svg\" height=\"24px\"viewBox=\"0 0 24 24\"\n",
              "     width=\"24px\">\n",
              "    <g>\n",
              "        <path d=\"M19 3H5c-1.1 0-2 .9-2 2v14c0 1.1.9 2 2 2h14c1.1 0 2-.9 2-2V5c0-1.1-.9-2-2-2zM9 17H7v-7h2v7zm4 0h-2V7h2v10zm4 0h-2v-4h2v4z\"/>\n",
              "    </g>\n",
              "</svg>\n",
              "  </button>\n",
              "\n",
              "<style>\n",
              "  .colab-df-quickchart {\n",
              "      --bg-color: #E8F0FE;\n",
              "      --fill-color: #1967D2;\n",
              "      --hover-bg-color: #E2EBFA;\n",
              "      --hover-fill-color: #174EA6;\n",
              "      --disabled-fill-color: #AAA;\n",
              "      --disabled-bg-color: #DDD;\n",
              "  }\n",
              "\n",
              "  [theme=dark] .colab-df-quickchart {\n",
              "      --bg-color: #3B4455;\n",
              "      --fill-color: #D2E3FC;\n",
              "      --hover-bg-color: #434B5C;\n",
              "      --hover-fill-color: #FFFFFF;\n",
              "      --disabled-bg-color: #3B4455;\n",
              "      --disabled-fill-color: #666;\n",
              "  }\n",
              "\n",
              "  .colab-df-quickchart {\n",
              "    background-color: var(--bg-color);\n",
              "    border: none;\n",
              "    border-radius: 50%;\n",
              "    cursor: pointer;\n",
              "    display: none;\n",
              "    fill: var(--fill-color);\n",
              "    height: 32px;\n",
              "    padding: 0;\n",
              "    width: 32px;\n",
              "  }\n",
              "\n",
              "  .colab-df-quickchart:hover {\n",
              "    background-color: var(--hover-bg-color);\n",
              "    box-shadow: 0 1px 2px rgba(60, 64, 67, 0.3), 0 1px 3px 1px rgba(60, 64, 67, 0.15);\n",
              "    fill: var(--button-hover-fill-color);\n",
              "  }\n",
              "\n",
              "  .colab-df-quickchart-complete:disabled,\n",
              "  .colab-df-quickchart-complete:disabled:hover {\n",
              "    background-color: var(--disabled-bg-color);\n",
              "    fill: var(--disabled-fill-color);\n",
              "    box-shadow: none;\n",
              "  }\n",
              "\n",
              "  .colab-df-spinner {\n",
              "    border: 2px solid var(--fill-color);\n",
              "    border-color: transparent;\n",
              "    border-bottom-color: var(--fill-color);\n",
              "    animation:\n",
              "      spin 1s steps(1) infinite;\n",
              "  }\n",
              "\n",
              "  @keyframes spin {\n",
              "    0% {\n",
              "      border-color: transparent;\n",
              "      border-bottom-color: var(--fill-color);\n",
              "      border-left-color: var(--fill-color);\n",
              "    }\n",
              "    20% {\n",
              "      border-color: transparent;\n",
              "      border-left-color: var(--fill-color);\n",
              "      border-top-color: var(--fill-color);\n",
              "    }\n",
              "    30% {\n",
              "      border-color: transparent;\n",
              "      border-left-color: var(--fill-color);\n",
              "      border-top-color: var(--fill-color);\n",
              "      border-right-color: var(--fill-color);\n",
              "    }\n",
              "    40% {\n",
              "      border-color: transparent;\n",
              "      border-right-color: var(--fill-color);\n",
              "      border-top-color: var(--fill-color);\n",
              "    }\n",
              "    60% {\n",
              "      border-color: transparent;\n",
              "      border-right-color: var(--fill-color);\n",
              "    }\n",
              "    80% {\n",
              "      border-color: transparent;\n",
              "      border-right-color: var(--fill-color);\n",
              "      border-bottom-color: var(--fill-color);\n",
              "    }\n",
              "    90% {\n",
              "      border-color: transparent;\n",
              "      border-bottom-color: var(--fill-color);\n",
              "    }\n",
              "  }\n",
              "</style>\n",
              "\n",
              "  <script>\n",
              "    async function quickchart(key) {\n",
              "      const quickchartButtonEl =\n",
              "        document.querySelector('#' + key + ' button');\n",
              "      quickchartButtonEl.disabled = true;  // To prevent multiple clicks.\n",
              "      quickchartButtonEl.classList.add('colab-df-spinner');\n",
              "      try {\n",
              "        const charts = await google.colab.kernel.invokeFunction(\n",
              "            'suggestCharts', [key], {});\n",
              "      } catch (error) {\n",
              "        console.error('Error during call to suggestCharts:', error);\n",
              "      }\n",
              "      quickchartButtonEl.classList.remove('colab-df-spinner');\n",
              "      quickchartButtonEl.classList.add('colab-df-quickchart-complete');\n",
              "    }\n",
              "    (() => {\n",
              "      let quickchartButtonEl =\n",
              "        document.querySelector('#df-0770c4a5-86ca-4b55-818f-5bb032c382c4 button');\n",
              "      quickchartButtonEl.style.display =\n",
              "        google.colab.kernel.accessAllowed ? 'block' : 'none';\n",
              "    })();\n",
              "  </script>\n",
              "</div>\n",
              "    </div>\n",
              "  </div>\n"
            ],
            "application/vnd.google.colaboratory.intrinsic+json": {
              "type": "dataframe",
              "variable_name": "data",
              "summary": "{\n  \"name\": \"data\",\n  \"rows\": 240,\n  \"fields\": [\n    {\n      \"column\": \"CustomerID\",\n      \"properties\": {\n        \"dtype\": \"number\",\n        \"std\": 63,\n        \"min\": 1,\n        \"max\": 213,\n        \"num_unique_values\": 213,\n        \"samples\": [\n          10,\n          198,\n          67\n        ],\n        \"semantic_type\": \"\",\n        \"description\": \"\"\n      }\n    },\n    {\n      \"column\": \"Gender\",\n      \"properties\": {\n        \"dtype\": \"category\",\n        \"num_unique_values\": 2,\n        \"samples\": [\n          \"Female\",\n          \"Male\"\n        ],\n        \"semantic_type\": \"\",\n        \"description\": \"\"\n      }\n    },\n    {\n      \"column\": \"Age\",\n      \"properties\": {\n        \"dtype\": \"number\",\n        \"std\": 45,\n        \"min\": 18,\n        \"max\": 410,\n        \"num_unique_values\": 56,\n        \"samples\": [\n          19,\n          22\n        ],\n        \"semantic_type\": \"\",\n        \"description\": \"\"\n      }\n    },\n    {\n      \"column\": \"AnnualIncome\",\n      \"properties\": {\n        \"dtype\": \"number\",\n        \"std\": 145,\n        \"min\": 15,\n        \"max\": 1207,\n        \"num_unique_values\": 67,\n        \"samples\": [\n          65,\n          38\n        ],\n        \"semantic_type\": \"\",\n        \"description\": \"\"\n      }\n    },\n    {\n      \"column\": \"SpendingScore\",\n      \"properties\": {\n        \"dtype\": \"number\",\n        \"std\": 31,\n        \"min\": 1,\n        \"max\": 192,\n        \"num_unique_values\": 88,\n        \"samples\": [\n          86,\n          39\n        ],\n        \"semantic_type\": \"\",\n        \"description\": \"\"\n      }\n    },\n    {\n      \"column\": \"Hasil_Clustering\",\n      \"properties\": {\n        \"dtype\": \"number\",\n        \"std\": 0,\n        \"min\": 0,\n        \"max\": 3,\n        \"num_unique_values\": 4,\n        \"samples\": [\n          1,\n          2\n        ],\n        \"semantic_type\": \"\",\n        \"description\": \"\"\n      }\n    },\n    {\n      \"column\": \"Hasil_Clustering Single\",\n      \"properties\": {\n        \"dtype\": \"number\",\n        \"std\": 0,\n        \"min\": 0,\n        \"max\": 3,\n        \"num_unique_values\": 4,\n        \"samples\": [\n          1,\n          3\n        ],\n        \"semantic_type\": \"\",\n        \"description\": \"\"\n      }\n    },\n    {\n      \"column\": \"Hasil_Clustering Average\",\n      \"properties\": {\n        \"dtype\": \"number\",\n        \"std\": 0,\n        \"min\": 0,\n        \"max\": 3,\n        \"num_unique_values\": 4,\n        \"samples\": [\n          3,\n          2\n        ],\n        \"semantic_type\": \"\",\n        \"description\": \"\"\n      }\n    }\n  ]\n}"
            }
          },
          "metadata": {},
          "execution_count": 100
        }
      ]
    },
    {
      "cell_type": "markdown",
      "source": [
        "###Kesimpulan"
      ],
      "metadata": {
        "id": "CYDRauwH4tvF"
      }
    },
    {
      "cell_type": "code",
      "source": [
        "for i in range(jumlah_cluster):\n",
        "  print(f'Cluster ke-{i}')\n",
        "  print('Rata rata pemasukan customer : ', data[data['Hasil_Clustering Average']==i]['AnnualIncome'].mean())\n",
        "  print('Rata rata pengeluaran customer : ', data[data['Hasil_Clustering Average']==i]['SpendingScore'].mean())\n",
        "  print()"
      ],
      "metadata": {
        "colab": {
          "base_uri": "https://localhost:8080/"
        },
        "id": "DLN7mxAy14iH",
        "outputId": "2ab88f04-ea7f-41ad-b5e8-b38c4f05b2a2"
      },
      "execution_count": null,
      "outputs": [
        {
          "output_type": "stream",
          "name": "stdout",
          "text": [
            "Cluster ke-0\n",
            "Rata rata pemasukan customer :  57.72844827586207\n",
            "Rata rata pengeluaran customer :  50.03879310344828\n",
            "\n",
            "Cluster ke-1\n",
            "Rata rata pemasukan customer :  1168.5\n",
            "Rata rata pengeluaran customer :  85.0\n",
            "\n",
            "Cluster ke-2\n",
            "Rata rata pemasukan customer :  131.5\n",
            "Rata rata pengeluaran customer :  182.75\n",
            "\n",
            "Cluster ke-3\n",
            "Rata rata pemasukan customer :  1165.5\n",
            "Rata rata pengeluaran customer :  12.0\n",
            "\n"
          ]
        }
      ]
    },
    {
      "cell_type": "code",
      "source": [],
      "metadata": {
        "id": "LT30ELuN16Xk"
      },
      "execution_count": null,
      "outputs": []
    }
  ]
}
