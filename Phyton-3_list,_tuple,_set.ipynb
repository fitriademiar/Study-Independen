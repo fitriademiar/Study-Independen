{
  "nbformat": 4,
  "nbformat_minor": 0,
  "metadata": {
    "colab": {
      "provenance": [],
      "authorship_tag": "ABX9TyP0HGvy+Y2DJhG3AUCoe21/",
      "include_colab_link": true
    },
    "kernelspec": {
      "name": "python3",
      "display_name": "Python 3"
    },
    "language_info": {
      "name": "python"
    }
  },
  "cells": [
    {
      "cell_type": "markdown",
      "metadata": {
        "id": "view-in-github",
        "colab_type": "text"
      },
      "source": [
        "<a href=\"https://colab.research.google.com/github/fitriademiar/Study-Independen/blob/main/Phyton-3_list%2C_tuple%2C_set.ipynb\" target=\"_parent\"><img src=\"https://colab.research.google.com/assets/colab-badge.svg\" alt=\"Open In Colab\"/></a>"
      ]
    },
    {
      "cell_type": "markdown",
      "source": [
        "# Python-2 Container\n",
        "\n",
        "Container merupakan tipe data yang sangat berguna dalam AI karena mampu menampung banyak *primitive data types* di dalamnya. Container juga dikenal dengan sebutan *non-primitive data types*. Terdapat lima jenis container Python yang akan kita bahas, antara lain:\n",
        "\n",
        "- `list`\n",
        "- `tuple`\n",
        "- `set`\n",
        "- `dictionary`\n",
        "- `array`"
      ],
      "metadata": {
        "id": "XwbivDfJ__sj"
      }
    },
    {
      "cell_type": "markdown",
      "source": [
        "# List\n",
        "\n",
        "List adalah tipe data yang berisi kumpulan nilai (elemen) dalam urutan tertentu. List termasuk tipe data mutable."
      ],
      "metadata": {
        "id": "inSaYWl6A5tD"
      }
    },
    {
      "cell_type": "markdown",
      "source": [
        "## Membuat List\n",
        "\n",
        "List dibuat dengan memberikan identifier dan data pada list. Data yang diberikan harus ditulis dalam kurung siku atau bracket `[]`."
      ],
      "metadata": {
        "id": "csyzzVCSA-aV"
      }
    },
    {
      "cell_type": "code",
      "execution_count": null,
      "metadata": {
        "colab": {
          "base_uri": "https://localhost:8080/"
        },
        "id": "-fSWq_vU_ydQ",
        "outputId": "7aa5c8e6-e74a-49eb-94a2-f3fa018bf506"
      },
      "outputs": [
        {
          "output_type": "stream",
          "name": "stdout",
          "text": [
            "['merah', 'jingga', 'kuning', 'hijau', 'biru', 'nila', 'ungu']\n"
          ]
        },
        {
          "output_type": "execute_result",
          "data": {
            "text/plain": [
              "list"
            ]
          },
          "metadata": {},
          "execution_count": 6
        }
      ],
      "source": [
        "warna = ['merah', 'jingga', 'kuning', 'hijau', 'biru', 'nila', 'ungu']\n",
        "\n",
        "print (warna)\n",
        "type (warna)"
      ]
    },
    {
      "cell_type": "markdown",
      "source": [
        "Selain string, list juga dapat digunakan untuk menampung tipe data lainnya."
      ],
      "metadata": {
        "id": "NHCBdNVYBmxo"
      }
    },
    {
      "cell_type": "code",
      "source": [
        "bulat = [10, 25, 67, -81, 93, -12]\n",
        "desimal = [3.6, 1.2, 9.5, 7.6, -4,2]\n",
        "kondisi = [True, True, True, False, False]\n",
        "\n",
        "print(bulat)\n",
        "print(desimal)\n",
        "print(kondisi)\n"
      ],
      "metadata": {
        "colab": {
          "base_uri": "https://localhost:8080/"
        },
        "id": "AsA8IG0rBaIm",
        "outputId": "f5065b08-9d7f-4ceb-ba47-42f75b1020dd"
      },
      "execution_count": null,
      "outputs": [
        {
          "output_type": "stream",
          "name": "stdout",
          "text": [
            "[10, 25, 67, -81, 93, -12]\n",
            "[3.6, 1.2, 9.5, 7.6, -4, 2]\n",
            "[True, True, True, False, False]\n"
          ]
        }
      ]
    },
    {
      "cell_type": "markdown",
      "source": [
        "Jika dibutuhkan, sebuah list dapat digunakan untuk menampung lebih dari satu tipe data (menampung data heterogen)."
      ],
      "metadata": {
        "id": "hjg_YPlpEl_v"
      }
    },
    {
      "cell_type": "code",
      "source": [
        "novel = ['Laskar Pelangi', 'Andrea Hirata', 2008, 529, 5.56, True]\n",
        "print(novel)"
      ],
      "metadata": {
        "colab": {
          "base_uri": "https://localhost:8080/"
        },
        "id": "Mv4FDi0DEhvm",
        "outputId": "de181246-6b53-44fe-b430-0c0f9e57874e"
      },
      "execution_count": null,
      "outputs": [
        {
          "output_type": "stream",
          "name": "stdout",
          "text": [
            "['Laskar Pelangi', 'Andrea Hirata', 2008, 529, 5.56, True]\n"
          ]
        }
      ]
    },
    {
      "cell_type": "markdown",
      "source": [
        "Bahkan sebuah list dapat menampung list lain didalamnya."
      ],
      "metadata": {
        "id": "u1Cd3ajUFAcy"
      }
    },
    {
      "cell_type": "code",
      "source": [
        "pixel = [[1, 0, 1], [0, 1, 0], [1, 0, 1]]\n",
        "print(pixel)\n",
        "\n",
        "#atau ditulis dengan cara seperti ini :\n",
        "\n",
        "pixel = [[1,0,1],\n",
        "         [0,1,0],\n",
        "         [1,0,1]]\n",
        "\n",
        "print(pixel)"
      ],
      "metadata": {
        "colab": {
          "base_uri": "https://localhost:8080/"
        },
        "id": "_M1GsxeEE-qs",
        "outputId": "57639464-5fee-45cf-811c-97357edf5568"
      },
      "execution_count": null,
      "outputs": [
        {
          "output_type": "stream",
          "name": "stdout",
          "text": [
            "[[1, 0, 1], [0, 1, 0], [1, 0, 1]]\n",
            "[[1, 0, 1], [0, 1, 0], [1, 0, 1]]\n"
          ]
        }
      ]
    },
    {
      "cell_type": "markdown",
      "source": [
        "\n",
        "Hal ini sangat bermanfaat ketika kita ingin memanipulasi sebuah matriks pada program kita.\n",
        "\n",
        "**FYI:**\n",
        "- List pada dasarnya adalah sebuah vector\n",
        "- List yang menampung list lainnya di dalamnya bisa membentuk sebuah matriks\n",
        "\n",
        "Kita akan membahas matriks lebih jauh pada materi *Array*."
      ],
      "metadata": {
        "id": "uh5H_3WSF9SX"
      }
    },
    {
      "cell_type": "markdown",
      "source": [
        "Tak harus berbentuk matriks sempurna, list bisa berisi list lain dengan ukuran berbeda dan elemen yang heterogen.\n"
      ],
      "metadata": {
        "id": "HzbDTByYGNC6"
      }
    },
    {
      "cell_type": "markdown",
      "source": [
        "Buatlah list sesuai dengan ukuran dan banyaknya data/elemen yang ingin disimpan."
      ],
      "metadata": {
        "id": "NXadKcnHHBJv"
      }
    },
    {
      "cell_type": "code",
      "source": [
        "kota = [['Jakarta', 5, 664.01],\n",
        "        ['Banjarmasin', 98.46],\n",
        "        ['Lampung'],\n",
        "        ['Jayapura', 5, 626.7],\n",
        "        ['Makasar', 15]]\n",
        "print(kota)"
      ],
      "metadata": {
        "colab": {
          "base_uri": "https://localhost:8080/"
        },
        "id": "HyruZ3DjFp-Y",
        "outputId": "63b92aa3-f844-4a2d-ef24-76d467d38993"
      },
      "execution_count": null,
      "outputs": [
        {
          "output_type": "stream",
          "name": "stdout",
          "text": [
            "[['Jakarta', 5, 664.01], ['Banjarmasin', 98.46], ['Lampung'], ['Jayapura', 5, 626.7], ['Makasar', 15]]\n"
          ]
        }
      ]
    },
    {
      "cell_type": "markdown",
      "source": [
        "Pembuatan list kosong juga perlu dilakukan. Kadang kita perlu membuat list kosong untuk menampung hasil manipulasi data."
      ],
      "metadata": {
        "id": "YHwtzH-Ar5Iz"
      }
    },
    {
      "cell_type": "code",
      "source": [
        "word = []\n",
        "\n",
        "print (word)\n",
        "type (word)"
      ],
      "metadata": {
        "id": "e06Q561gG6eP",
        "colab": {
          "base_uri": "https://localhost:8080/"
        },
        "outputId": "507ce04d-ca8d-450e-cdb2-64f425a0e3b9"
      },
      "execution_count": null,
      "outputs": [
        {
          "output_type": "stream",
          "name": "stdout",
          "text": [
            "[]\n"
          ]
        },
        {
          "output_type": "execute_result",
          "data": {
            "text/plain": [
              "list"
            ]
          },
          "metadata": {},
          "execution_count": 11
        }
      ]
    },
    {
      "cell_type": "markdown",
      "source": [
        "Panjang sebuah list ditentukan oleh banyaknya data (elemen) yang ada di dalam list tersebut. Function len() berguna untuk menampilkan panjang sebuah list.\n"
      ],
      "metadata": {
        "id": "ULz0JSYUsPrm"
      }
    },
    {
      "cell_type": "code",
      "source": [
        "print(len(bulat))\n",
        "print(len(desimal))\n",
        "print(len(kondisi))\n",
        "print(len(novel))\n",
        "print(len(novel))\n",
        "print(len(word))"
      ],
      "metadata": {
        "colab": {
          "base_uri": "https://localhost:8080/"
        },
        "id": "7_cPTT5hsIGC",
        "outputId": "b5e2f34a-b294-45ce-e87b-78374f3f80fc"
      },
      "execution_count": null,
      "outputs": [
        {
          "output_type": "stream",
          "name": "stdout",
          "text": [
            "6\n",
            "6\n",
            "5\n",
            "6\n",
            "6\n",
            "0\n"
          ]
        }
      ]
    },
    {
      "cell_type": "markdown",
      "source": [
        "##List Indexing dan Slicing"
      ],
      "metadata": {
        "id": "3_AAwFZfthjA"
      }
    },
    {
      "cell_type": "markdown",
      "source": [
        "Setiap elemen yang disimpan dalam sebuah list akan diurutkan berdasarkan index dari kiri ke kanan. Index selalu dimulai dari `0`. Index ini dapat kita gunakan untuk *mengakses* elemen tertentu dalam list (*indexing*)."
      ],
      "metadata": {
        "id": "6HNiN2VGtu9S"
      }
    },
    {
      "cell_type": "code",
      "source": [
        "print(warna[1])\n",
        "print(bulat[3])\n",
        "print(desimal[4])\n",
        "print(kondisi[2])\n",
        "print(novel[0])"
      ],
      "metadata": {
        "colab": {
          "base_uri": "https://localhost:8080/"
        },
        "id": "nq2fj11nt2xO",
        "outputId": "ad84d53d-0864-4718-d0ac-145d9ffb07e0"
      },
      "execution_count": null,
      "outputs": [
        {
          "output_type": "stream",
          "name": "stdout",
          "text": [
            "jingga\n",
            "-81\n",
            "-4\n",
            "True\n",
            "Laskar Pelangi\n"
          ]
        }
      ]
    },
    {
      "cell_type": "markdown",
      "source": [
        "Akses list juga bisa kita lakukan dengan menggunakan index negatif. Index negatif memiliki urutan yang berbeda dengan index positif, yakni diurutkan dari kanan ke kiri. Index negatif dimulai dari `-1`."
      ],
      "metadata": {
        "id": "lHUXKipeuuVf"
      }
    },
    {
      "cell_type": "code",
      "source": [
        "print(warna[-1])\n",
        "print(bulat[-2])\n",
        "print(desimal[-3])\n",
        "print(kondisi[-4])\n",
        "print(novel[-5])"
      ],
      "metadata": {
        "colab": {
          "base_uri": "https://localhost:8080/"
        },
        "id": "5cmao_mas68q",
        "outputId": "933491b7-0d1b-435b-adc2-cda9b925638f"
      },
      "execution_count": null,
      "outputs": [
        {
          "output_type": "stream",
          "name": "stdout",
          "text": [
            "ungu\n",
            "93\n",
            "7.6\n",
            "True\n",
            "Andrea Hirata\n"
          ]
        }
      ]
    },
    {
      "cell_type": "markdown",
      "source": [
        "Index juga dapat digunakan untuk mengubah elemen tertentu dalam list."
      ],
      "metadata": {
        "id": "vwhNDXKhvQUt"
      }
    },
    {
      "cell_type": "code",
      "source": [
        "print(f\"warna = {warna}\")\n",
        "\n",
        "warna[0] = 'Red'\n",
        "warna[3] = 'Green'\n",
        "warna[-3] = 'Blue'\n",
        "\n",
        "print(f'warna = {warna}')"
      ],
      "metadata": {
        "colab": {
          "base_uri": "https://localhost:8080/"
        },
        "id": "Plm1k2CzvDlL",
        "outputId": "efd0d918-884b-4a45-f27d-02a6fbd6a2a1"
      },
      "execution_count": null,
      "outputs": [
        {
          "output_type": "stream",
          "name": "stdout",
          "text": [
            "warna = ['merah', 'jingga', 'kuning', 'hijau', 'biru', 'nila', 'ungu']\n",
            "warna = ['Red', 'jingga', 'kuning', 'Green', 'Blue', 'nila', 'ungu']\n"
          ]
        }
      ]
    },
    {
      "cell_type": "markdown",
      "source": [
        "Kita dapat mengakses lebih dari satu elemen list (slicing). Hal yang kita butuhkan untuk melakukan slicing adalah index awal dan index akhir+1 elemen-elemen yang ingin diakses.\n",
        "\n",
        "`nama_list[index_awal : index_akhir+1]`"
      ],
      "metadata": {
        "id": "NjSQmxYjvq6T"
      }
    },
    {
      "cell_type": "code",
      "source": [
        "print(warna[2:5])\n",
        "print(bulat[1:3])\n",
        "print(desimal[2:5])\n",
        "print(kondisi[0:4])\n",
        "print(novel[-5:-3])"
      ],
      "metadata": {
        "colab": {
          "base_uri": "https://localhost:8080/"
        },
        "id": "K2zTVvRxvnQL",
        "outputId": "65e855fc-bbfe-42be-b9f6-89a0b15bc73b"
      },
      "execution_count": null,
      "outputs": [
        {
          "output_type": "stream",
          "name": "stdout",
          "text": [
            "['kuning', 'Green', 'Blue']\n",
            "[25, 67]\n",
            "[9.5, 7.6, -4]\n",
            "[True, True, True, False]\n",
            "['Andrea Hirata', 2008]\n"
          ]
        }
      ]
    },
    {
      "cell_type": "markdown",
      "source": [
        "Cobalah variasi slicing lainnya dari code bawah ini, kemudian analisis outputnya:"
      ],
      "metadata": {
        "id": "Km5CcdUTwzWv"
      }
    },
    {
      "cell_type": "code",
      "source": [
        "print(warna,'\\n')\n",
        "\n",
        "print(warna[3:], '\\n')\n",
        "print(warna[:3], '\\n')\n",
        "\n",
        "print(warna[-5:], '\\n')\n",
        "print(warna[:-5], '\\n')"
      ],
      "metadata": {
        "colab": {
          "base_uri": "https://localhost:8080/"
        },
        "id": "ONFAjgL-whUL",
        "outputId": "1b400a25-45d8-4012-8805-2ab6bc5643d3"
      },
      "execution_count": null,
      "outputs": [
        {
          "output_type": "stream",
          "name": "stdout",
          "text": [
            "['Red', 'jingga', 'kuning', 'Green', 'Blue', 'nila', 'ungu'] \n",
            "\n",
            "['Green', 'Blue', 'nila', 'ungu'] \n",
            "\n",
            "['Red', 'jingga', 'kuning'] \n",
            "\n",
            "['kuning', 'Green', 'Blue', 'nila', 'ungu'] \n",
            "\n",
            "['Red', 'jingga'] \n",
            "\n"
          ]
        }
      ]
    },
    {
      "cell_type": "markdown",
      "source": [
        "Jika index akhir tidak disertakan, maka slicing akan dilakukan sampai elemen terakhir. Sebaliknya, jika index awal tidak disertakan maka slicing akan dilakukan dari elemen pertama."
      ],
      "metadata": {
        "id": "5Sb6DF2j5SX0"
      }
    },
    {
      "cell_type": "markdown",
      "source": [
        "##Manipulasi Elemen List"
      ],
      "metadata": {
        "id": "aFoQkZElxe_c"
      }
    },
    {
      "cell_type": "markdown",
      "source": [
        "Function `append()` berfungsi untuk menambahkan elemen pada sebuah list. Biasanya function ini dikombinasikan dengan list kosong untuk menyimpan hasil manipulasi."
      ],
      "metadata": {
        "id": "hnz5Gcpdxlva"
      }
    },
    {
      "cell_type": "code",
      "source": [
        "cuaca = ['cerah']\n",
        "print(cuaca)\n",
        "\n",
        "cuaca.append('berawan')\n",
        "cuaca.append('hujan ringan')\n",
        "cuaca.append('hujan lebat')\n",
        "cuaca.append('berangin')\n",
        "\n",
        "print(cuaca)"
      ],
      "metadata": {
        "colab": {
          "base_uri": "https://localhost:8080/"
        },
        "id": "aZocsz-CxTp9",
        "outputId": "6b89c931-a086-4ba9-b370-88c459f0dd9b"
      },
      "execution_count": null,
      "outputs": [
        {
          "output_type": "stream",
          "name": "stdout",
          "text": [
            "['cerah']\n",
            "['cerah', 'berawan', 'hujan ringan', 'hujan lebat', 'berangin']\n"
          ]
        }
      ]
    },
    {
      "cell_type": "markdown",
      "source": [
        "Sebuah list dapat digabungkan dengan list lainnya menggunakan operator penambahan (+). Penggabungan list umumnya dikenal dengan sebutan List Concatenation."
      ],
      "metadata": {
        "id": "ZvUu0nl8ySRd"
      }
    },
    {
      "cell_type": "code",
      "source": [
        "angka = [1,2,3]\n",
        "huruf = ['a','b','c']\n",
        "alphanumeric = angka + huruf\n",
        "alphanumeric"
      ],
      "metadata": {
        "colab": {
          "base_uri": "https://localhost:8080/"
        },
        "id": "6SBvW2xYyOqQ",
        "outputId": "a17c22d4-1db7-40cc-c990-31c9c8f1ce2f"
      },
      "execution_count": null,
      "outputs": [
        {
          "output_type": "execute_result",
          "data": {
            "text/plain": [
              "[1, 2, 3, 'a', 'b', 'c']"
            ]
          },
          "metadata": {},
          "execution_count": 21
        }
      ]
    },
    {
      "cell_type": "markdown",
      "source": [
        "Pemeriksaan elemen dalam sebuah list dapat kita lakukan menggunakan operator `in` dan `not in`.\n",
        "- Operator `in` akan memeriksa apakah suatu elemen ada di dalam sebuah list atau tidak.\n",
        "- Operator `not in` akan memriksa apakah suatu elemen tidak ada dalam sebuah list atau tidak.\n",
        "\n",
        "Hasil kedua operator ini berupa nilai boolean.\n"
      ],
      "metadata": {
        "id": "yyaFAp43zUoP"
      }
    },
    {
      "cell_type": "code",
      "source": [
        "'cerah' in cuaca\n"
      ],
      "metadata": {
        "colab": {
          "base_uri": "https://localhost:8080/"
        },
        "id": "wn_0au_pywRg",
        "outputId": "b43d0762-5e71-4f13-d478-e234b0aa9280"
      },
      "execution_count": null,
      "outputs": [
        {
          "output_type": "execute_result",
          "data": {
            "text/plain": [
              "True"
            ]
          },
          "metadata": {},
          "execution_count": 23
        }
      ]
    },
    {
      "cell_type": "code",
      "source": [
        "'panas' in cuaca\n"
      ],
      "metadata": {
        "colab": {
          "base_uri": "https://localhost:8080/"
        },
        "id": "7r8QoVC4zh0h",
        "outputId": "83ec94ee-bc49-402b-d4c9-acf861469ce3"
      },
      "execution_count": null,
      "outputs": [
        {
          "output_type": "execute_result",
          "data": {
            "text/plain": [
              "False"
            ]
          },
          "metadata": {},
          "execution_count": 24
        }
      ]
    },
    {
      "cell_type": "code",
      "source": [
        "'dingin' not in cuaca\n"
      ],
      "metadata": {
        "id": "SaJLrWJXzmgi"
      },
      "execution_count": null,
      "outputs": []
    },
    {
      "cell_type": "code",
      "source": [
        "'berawan' not in cuaca"
      ],
      "metadata": {
        "colab": {
          "base_uri": "https://localhost:8080/"
        },
        "id": "BvmQa-bQzoQ-",
        "outputId": "a8f0d0e8-f73a-4c47-cf2d-a2864d6e5173"
      },
      "execution_count": null,
      "outputs": [
        {
          "output_type": "execute_result",
          "data": {
            "text/plain": [
              "False"
            ]
          },
          "metadata": {},
          "execution_count": 27
        }
      ]
    },
    {
      "cell_type": "markdown",
      "source": [
        "Pencarian elemen tertentu dalam sebuah list dapat dilakukan dengan memanfaatkan function `index()`. Output function ini berupa index elemen yang kita cari."
      ],
      "metadata": {
        "id": "nYQfFND7z6nS"
      }
    },
    {
      "cell_type": "code",
      "source": [
        "cuaca.index('hujan lebat')"
      ],
      "metadata": {
        "colab": {
          "base_uri": "https://localhost:8080/"
        },
        "id": "Niitp1fez5zl",
        "outputId": "55305c36-a0a4-4092-a29c-7faca4ef8afc"
      },
      "execution_count": null,
      "outputs": [
        {
          "output_type": "execute_result",
          "data": {
            "text/plain": [
              "3"
            ]
          },
          "metadata": {},
          "execution_count": 28
        }
      ]
    },
    {
      "cell_type": "code",
      "source": [
        "cuaca.index('hujan ringan')"
      ],
      "metadata": {
        "colab": {
          "base_uri": "https://localhost:8080/"
        },
        "id": "rBUIrJVp0a72",
        "outputId": "50b89c0c-3068-4116-9da6-4c718fbb1301"
      },
      "execution_count": null,
      "outputs": [
        {
          "output_type": "execute_result",
          "data": {
            "text/plain": [
              "2"
            ]
          },
          "metadata": {},
          "execution_count": 29
        }
      ]
    },
    {
      "cell_type": "markdown",
      "source": [
        "Terdapat dua function khusus yang berfungsi untuk mengurutkan sebuah list, yakni:\n",
        "\n",
        "- `sort()`\n",
        "- `sorted()`\n",
        "\n",
        "Selain namanya, cobalah cari perbedaan lain antara `sort()` dan `sorted()` dengan menganalaisis output code di bawah ini:"
      ],
      "metadata": {
        "id": "czybT9rK0z-k"
      }
    },
    {
      "cell_type": "code",
      "source": [
        "temp = [10, -2, 0.5, -0.75, 50, 4, -1]\n",
        "nama = ['Agung', 'Ani', 'bernard', 'Bagus', 'Tini', 'toriq']\n",
        "\n",
        "temp.sort()\n",
        "print(temp)\n",
        "\n",
        "print(sorted(nama))\n",
        "print(nama)"
      ],
      "metadata": {
        "colab": {
          "base_uri": "https://localhost:8080/"
        },
        "id": "9f6ZOwLg0e3K",
        "outputId": "21e63d76-d19d-43b6-ff63-d26a202e82c7"
      },
      "execution_count": null,
      "outputs": [
        {
          "output_type": "stream",
          "name": "stdout",
          "text": [
            "[-2, -1, -0.75, 0.5, 4, 10, 50]\n",
            "['Agung', 'Ani', 'Bagus', 'Tini', 'bernard', 'toriq']\n",
            "['Agung', 'Ani', 'bernard', 'Bagus', 'Tini', 'toriq']\n"
          ]
        }
      ]
    },
    {
      "cell_type": "markdown",
      "source": [
        "Perintah sort mengurutkan secara a to z tanpa memperhatikan huruf kapital.\n",
        "\n",
        "Perintah sorted mengurutkan dari a to z dengan mendahulukan elemen yang memiliki huruf kapital."
      ],
      "metadata": {
        "id": "KKOvkM6l6iBN"
      }
    },
    {
      "cell_type": "markdown",
      "source": [
        "Tambahkan parameter `reverse = True` pada function `sort()` atau `sorted()` untuk menghasilkan efek pengurutan list yang berbeda."
      ],
      "metadata": {
        "id": "PTRDb66l1mHe"
      }
    },
    {
      "cell_type": "code",
      "source": [
        "temp.sort(reverse = True)\n",
        "print(temp)\n",
        "\n",
        "print(sorted(nama, reverse = True))\n",
        "print(nama)"
      ],
      "metadata": {
        "colab": {
          "base_uri": "https://localhost:8080/"
        },
        "id": "4BvCdmyO1ZWh",
        "outputId": "58833a51-7539-4359-c20a-993290c3ac72"
      },
      "execution_count": null,
      "outputs": [
        {
          "output_type": "stream",
          "name": "stdout",
          "text": [
            "[50, 10, 4, 0.5, -0.75, -1, -2]\n",
            "['toriq', 'bernard', 'Tini', 'Bagus', 'Ani', 'Agung']\n",
            "['Agung', 'Ani', 'bernard', 'Bagus', 'Tini', 'toriq']\n"
          ]
        }
      ]
    },
    {
      "cell_type": "markdown",
      "source": [
        "Tersedia 3 function yang bisa kita manfaatkan untuk menghapus elemen/isi sebuah list, antara lain\n",
        "\n",
        "<br>\n",
        "\n",
        "Nama Function | Deskripsi\n",
        "-|-\n",
        "del| Menghapus elemen berdasarkan index elemen\n",
        "remove()| Menghapus elemen\n",
        "clear()| Menghapus seluruh elemen\n",
        "<br>"
      ],
      "metadata": {
        "id": "Ftchnd3hEcAK"
      }
    },
    {
      "cell_type": "code",
      "source": [
        "pets = ['cat', 'dog', 'rabbit', 'fish','turtle', 'hamster','bird']\n",
        "print(pets)\n",
        "\n",
        "del pets[3]\n",
        "print(pets)\n",
        "\n",
        "pets.remove('dog')\n",
        "print(pets)\n",
        "\n",
        "pets.clear()\n",
        "print(pets)"
      ],
      "metadata": {
        "colab": {
          "base_uri": "https://localhost:8080/"
        },
        "id": "j2U2u6JF2bHy",
        "outputId": "2be851d9-31e4-4cbe-c1d6-5f2697578032"
      },
      "execution_count": null,
      "outputs": [
        {
          "output_type": "stream",
          "name": "stdout",
          "text": [
            "['cat', 'dog', 'rabbit', 'fish', 'turtle', 'hamster', 'bird']\n",
            "['cat', 'dog', 'rabbit', 'turtle', 'hamster', 'bird']\n",
            "['cat', 'rabbit', 'turtle', 'hamster', 'bird']\n",
            "[]\n"
          ]
        }
      ]
    },
    {
      "cell_type": "markdown",
      "source": [
        "Kita dapat menyalin isi sebuah list ke dalam list lainnya dengan operator `=(assignment)`."
      ],
      "metadata": {
        "id": "1RoA2Wjk369V"
      }
    },
    {
      "cell_type": "code",
      "source": [
        "class_ori = ['dammam', 'frontera', 'nurion', 'pangea', 'param']\n",
        "class_salin = class_ori\n",
        "\n",
        "print(class_ori)\n",
        "print(class_salin)"
      ],
      "metadata": {
        "colab": {
          "base_uri": "https://localhost:8080/"
        },
        "id": "oNwkMSHI3h3D",
        "outputId": "be647480-8f2a-4e41-c1e3-50d14073b2ef"
      },
      "execution_count": null,
      "outputs": [
        {
          "output_type": "stream",
          "name": "stdout",
          "text": [
            "['dammam', 'frontera', 'nurion', 'pangea', 'param']\n",
            "['dammam', 'frontera', 'nurion', 'pangea', 'param']\n"
          ]
        }
      ]
    },
    {
      "cell_type": "markdown",
      "source": [
        "Namun, ada hal yang harus kita perhatikan ketika menyalin list menggunakan operator `=`. Yakni, manipulasi list yang kita lakukan baik di list asal ataupun list salinan akan mempengaruhi kedua list.\n",
        "\n",
        "Ketik code berikut kemudian analisis hasil run-nya."
      ],
      "metadata": {
        "id": "Q_CibtJH4xlS"
      }
    },
    {
      "cell_type": "code",
      "source": [
        "class_ori.remove('dammam')\n",
        "class_salin.append('maru')\n",
        "\n",
        "print(class_ori)\n",
        "print(class_salin)"
      ],
      "metadata": {
        "colab": {
          "base_uri": "https://localhost:8080/"
        },
        "id": "or20g_004buv",
        "outputId": "d95f23d4-e751-4ea1-cf0e-b364cb682d3b"
      },
      "execution_count": null,
      "outputs": [
        {
          "output_type": "stream",
          "name": "stdout",
          "text": [
            "['frontera', 'nurion', 'pangea', 'param', 'maru']\n",
            "['frontera', 'nurion', 'pangea', 'param', 'maru']\n"
          ]
        }
      ]
    },
    {
      "cell_type": "markdown",
      "source": [
        "Karena sebelumnya  `class_salin = class_ori`, maka nilai keduanya akan sama dan saling terpengaruhi."
      ],
      "metadata": {
        "id": "YOvHd-jp8KAO"
      }
    },
    {
      "cell_type": "markdown",
      "source": [
        "Jika kita berencana memanipulasi list tanpa perlu khawatir dengan list asal atau list salinan, maka akan lebih aman  menggunakan function `copy()`.\n",
        "\n",
        "Karena list salinan yang dibuat menggunakan function ini tidak terhubung dengan list asal."
      ],
      "metadata": {
        "id": "PRC2dIhj8grD"
      }
    },
    {
      "cell_type": "code",
      "source": [
        "class_ori = ['dammam', 'frontera', 'nurion', 'pangea', 'param']\n",
        "class_salin = class_ori.copy()\n",
        "\n",
        "print('ori      :', class_ori)\n",
        "print('salinan  :', class_salin, '\\n')\n",
        "\n",
        "class_ori.remove('dammam')\n",
        "class_salin.append('maru')\n",
        "\n",
        "print('ori     :', class_ori)\n",
        "print('salinan :', class_salin, '\\n')"
      ],
      "metadata": {
        "colab": {
          "base_uri": "https://localhost:8080/"
        },
        "id": "9UI_oz5b71QQ",
        "outputId": "15e90181-a6b2-4656-b535-069c519a4b0d"
      },
      "execution_count": null,
      "outputs": [
        {
          "output_type": "stream",
          "name": "stdout",
          "text": [
            "ori      : ['dammam', 'frontera', 'nurion', 'pangea', 'param']\n",
            "salinan  : ['dammam', 'frontera', 'nurion', 'pangea', 'param'] \n",
            "\n",
            "ori     : ['frontera', 'nurion', 'pangea', 'param']\n",
            "salinan : ['dammam', 'frontera', 'nurion', 'pangea', 'param', 'maru'] \n",
            "\n"
          ]
        }
      ]
    },
    {
      "cell_type": "markdown",
      "source": [
        "Nilai beberapa variabel dapat diteteapkan sekaligus berdasarkan elemen sebuah list (uncpacking a list)"
      ],
      "metadata": {
        "id": "CwzvwPgQ_TMI"
      }
    },
    {
      "cell_type": "code",
      "source": [
        "nilai = [90, 80, 70]\n",
        "tugas, uts, uas = nilai\n",
        "score = (tugas + uts + uas)/3\n",
        "\n",
        "print(f'tugas\\t:{tugas}, uts: {uts}, uas: {uas}\\nskor\\t:{score}')"
      ],
      "metadata": {
        "colab": {
          "base_uri": "https://localhost:8080/"
        },
        "id": "A_xoCaOH9ruv",
        "outputId": "3e88e2c6-97c2-4df0-9579-d73d70fc9944"
      },
      "execution_count": null,
      "outputs": [
        {
          "output_type": "stream",
          "name": "stdout",
          "text": [
            "tugas\t:90, uts: 80, uas: 70\n",
            "skor\t:80.0\n"
          ]
        }
      ]
    },
    {
      "cell_type": "markdown",
      "source": [
        "#Tuple\n",
        "\n",
        "Tuple dan list pada dasarnya adalah sama, bedanya kita tidak bisa mengubah nilai (elemen) tuple. Tuple termasuk tipe data immutable\n"
      ],
      "metadata": {
        "id": "TwLuuxHZAGYZ"
      }
    },
    {
      "cell_type": "markdown",
      "source": [
        "##Membuat Tuple\n",
        "\n",
        "Tuple dibuat dengan memberikan identifier dan data pada tuple. Tiap data yang diberikan harus dipisahkan oleh simbol koma (,).\n",
        "\n",
        "Data tuple bisa diapit oleh simbol kurung atau tanda kurung () sehingga lebih dibaca."
      ],
      "metadata": {
        "id": "B6y6MERmBWKy"
      }
    },
    {
      "cell_type": "code",
      "source": [
        "warna = 'merah', 'jingga', 'kuning', 'hijau', 'biru', 'nila', 'ungu'\n",
        "bulat = 10, 25, 67, -81, 93,-1\n",
        "desimal = (3.6, 1.2, 9.5, 7.6, -4.2)\n",
        "kondisi = (True, True, False, True, False)\n",
        "\n",
        "print(warna)\n",
        "print(bulat)\n",
        "print(desimal)\n",
        "print(kondisi)\n",
        "\n",
        "type(warna)\n"
      ],
      "metadata": {
        "colab": {
          "base_uri": "https://localhost:8080/"
        },
        "id": "xZrkxXoAAAmb",
        "outputId": "7c00c98d-7058-4b2c-c87e-063236b8cd35"
      },
      "execution_count": null,
      "outputs": [
        {
          "output_type": "stream",
          "name": "stdout",
          "text": [
            "('merah', 'jingga', 'kuning', 'hijau', 'biru', 'nila', 'ungu')\n",
            "(10, 25, 67, -81, 93, -1)\n",
            "(3.6, 1.2, 9.5, 7.6, -4.2)\n",
            "(True, True, False, True, False)\n"
          ]
        },
        {
          "output_type": "execute_result",
          "data": {
            "text/plain": [
              "tuple"
            ]
          },
          "metadata": {},
          "execution_count": 39
        }
      ]
    },
    {
      "cell_type": "markdown",
      "source": [
        "Tuple bisa memiliki elemen yang heterogen (elemen dengan tipe data berbeda) ataupun memiliki tuple lain didalamnya."
      ],
      "metadata": {
        "id": "_CdvqiU6DBAr"
      }
    },
    {
      "cell_type": "code",
      "source": [
        "novel = 'Sang Pemimpi', 'Andrea Hirata', 2006, 292, 5.5, True\n",
        "\n",
        "negara = (('Tiongkok', 1415.1),\n",
        "          ('India', False),\n",
        "          ('USA', 337.6, False, 4.34),\n",
        "          ('Indonesia', 272.229, True))\n",
        "\n",
        "pixel = ((0,1,0),\n",
        "         (1,0,1),\n",
        "         (0,1,0))\n",
        "\n",
        "print(novel)\n",
        "print(negara)\n",
        "print(pixel)"
      ],
      "metadata": {
        "colab": {
          "base_uri": "https://localhost:8080/"
        },
        "id": "cP6o1n4QCwpv",
        "outputId": "77e815d8-c90f-4a64-fabc-866e88a593af"
      },
      "execution_count": null,
      "outputs": [
        {
          "output_type": "stream",
          "name": "stdout",
          "text": [
            "('Sang Pemimpi', 'Andrea Hirata', 2006, 292, 5.5, True)\n",
            "(('Tiongkok', 1415.1), ('India', False), ('USA', 337.6, False, 4.34), ('Indonesia', 272.229, True))\n",
            "((0, 1, 0), (1, 0, 1), (0, 1, 0))\n"
          ]
        }
      ]
    },
    {
      "cell_type": "markdown",
      "source": [
        "Sebuah list dapat dikonversi menjadi sebuah tuple melalui function `tuple()`.\n",
        "\n",
        "Begitupun sebaliknya, sebuah tuple dapat dikonversi menjadi sebuah list melalui function `list()`."
      ],
      "metadata": {
        "id": "XwOSOHo8EsSB"
      }
    },
    {
      "cell_type": "code",
      "source": [
        "angka = [1,2,3,4,5]\n",
        "angka = tuple(angka)\n",
        "\n",
        "print(angka)\n",
        "type(angka)"
      ],
      "metadata": {
        "colab": {
          "base_uri": "https://localhost:8080/"
        },
        "id": "pO683AfcEjux",
        "outputId": "e2064340-a91c-4eb4-d12a-7c023416c140"
      },
      "execution_count": null,
      "outputs": [
        {
          "output_type": "stream",
          "name": "stdout",
          "text": [
            "(1, 2, 3, 4, 5)\n"
          ]
        },
        {
          "output_type": "execute_result",
          "data": {
            "text/plain": [
              "tuple"
            ]
          },
          "metadata": {},
          "execution_count": 41
        }
      ]
    },
    {
      "cell_type": "code",
      "source": [
        "huruf = ('a', 'b', 'c', 'd', 'e')\n",
        "huruf = list(huruf)\n",
        "\n",
        "print(huruf)\n",
        "type(angka)"
      ],
      "metadata": {
        "colab": {
          "base_uri": "https://localhost:8080/"
        },
        "id": "bq767DQxFCuO",
        "outputId": "0430340e-a8cf-4bc1-849d-73e0771b6a66"
      },
      "execution_count": null,
      "outputs": [
        {
          "output_type": "stream",
          "name": "stdout",
          "text": [
            "['a', 'b', 'c', 'd', 'e']\n"
          ]
        },
        {
          "output_type": "execute_result",
          "data": {
            "text/plain": [
              "tuple"
            ]
          },
          "metadata": {},
          "execution_count": 42
        }
      ]
    },
    {
      "cell_type": "markdown",
      "source": [
        "##Tuple Indexing & Slicing"
      ],
      "metadata": {
        "id": "DMyFFVeNFVKB"
      }
    },
    {
      "cell_type": "markdown",
      "source": [
        "Sama seperti list, elemen tuple dapat diakses dengan cara indexing atau slicing dengan bantuan bracket[]."
      ],
      "metadata": {
        "id": "lN1YVEDUFgKh"
      }
    },
    {
      "cell_type": "code",
      "source": [
        "warna = 'merah', 'jingga', 'kuning', 'hijau', 'biru', 'nila', 'ungu'\n",
        "\n",
        "print(warna[5])\n",
        "print(warna[-6], '\\n')\n",
        "\n",
        "print(warna [1:4])\n",
        "print(warna [-4:-1], '\\n')\n",
        "\n",
        "print(warna [5:])\n",
        "print(warna[-3:], '\\n')\n",
        "\n",
        "print(warna[:3])\n",
        "print(warna[:-2],'\\n')"
      ],
      "metadata": {
        "colab": {
          "base_uri": "https://localhost:8080/"
        },
        "id": "67TT8qr_FStb",
        "outputId": "06368ce0-8999-43a3-e23e-109a7c0acb84"
      },
      "execution_count": null,
      "outputs": [
        {
          "output_type": "stream",
          "name": "stdout",
          "text": [
            "nila\n",
            "jingga \n",
            "\n",
            "('jingga', 'kuning', 'hijau')\n",
            "('hijau', 'biru', 'nila') \n",
            "\n",
            "('nila', 'ungu')\n",
            "('biru', 'nila', 'ungu') \n",
            "\n",
            "('merah', 'jingga', 'kuning')\n",
            "('merah', 'jingga', 'kuning', 'hijau', 'biru') \n",
            "\n"
          ]
        }
      ]
    },
    {
      "cell_type": "markdown",
      "source": [
        "##Manipulasi Tuple"
      ],
      "metadata": {
        "id": "Di5GTo4jGy6L"
      }
    },
    {
      "cell_type": "markdown",
      "source": [
        "Cobalah untuk memanipulasi elemen tuple, contohnya seperti mengubah, menambah, atau menghapus elemen. Kemudian buat kesimpulan dari hasil percobaan."
      ],
      "metadata": {
        "id": "ujmF3G2SHLOS"
      }
    },
    {
      "cell_type": "code",
      "source": [
        "warna = 'merah', 'jingga', 'kuning', 'hijau', 'biru', 'nila', 'ungu', 'ungu'\n",
        "angka = 1,2,3,4\n",
        "warna[0] = 'RED'\n",
        "warna[3] = 'GREEN'\n",
        "warna[4] = 'BLUE'\n",
        "\n",
        "print(warna)"
      ],
      "metadata": {
        "colab": {
          "base_uri": "https://localhost:8080/",
          "height": 228
        },
        "id": "gi9BM8T3F76Q",
        "outputId": "7c3fcec1-6742-4442-a1e0-6eecb8d14080"
      },
      "execution_count": null,
      "outputs": [
        {
          "output_type": "error",
          "ename": "TypeError",
          "evalue": "'tuple' object does not support item assignment",
          "traceback": [
            "\u001b[0;31m---------------------------------------------------------------------------\u001b[0m",
            "\u001b[0;31mTypeError\u001b[0m                                 Traceback (most recent call last)",
            "\u001b[0;32m<ipython-input-1-4eb873180c5f>\u001b[0m in \u001b[0;36m<cell line: 3>\u001b[0;34m()\u001b[0m\n\u001b[1;32m      1\u001b[0m \u001b[0mwarna\u001b[0m \u001b[0;34m=\u001b[0m \u001b[0;34m'merah'\u001b[0m\u001b[0;34m,\u001b[0m \u001b[0;34m'jingga'\u001b[0m\u001b[0;34m,\u001b[0m \u001b[0;34m'kuning'\u001b[0m\u001b[0;34m,\u001b[0m \u001b[0;34m'hijau'\u001b[0m\u001b[0;34m,\u001b[0m \u001b[0;34m'biru'\u001b[0m\u001b[0;34m,\u001b[0m \u001b[0;34m'nila'\u001b[0m\u001b[0;34m,\u001b[0m \u001b[0;34m'ungu'\u001b[0m\u001b[0;34m,\u001b[0m \u001b[0;34m'ungu'\u001b[0m\u001b[0;34m\u001b[0m\u001b[0;34m\u001b[0m\u001b[0m\n\u001b[1;32m      2\u001b[0m \u001b[0mangka\u001b[0m \u001b[0;34m=\u001b[0m \u001b[0;36m1\u001b[0m\u001b[0;34m,\u001b[0m\u001b[0;36m2\u001b[0m\u001b[0;34m,\u001b[0m\u001b[0;36m3\u001b[0m\u001b[0;34m,\u001b[0m\u001b[0;36m4\u001b[0m\u001b[0;34m\u001b[0m\u001b[0;34m\u001b[0m\u001b[0m\n\u001b[0;32m----> 3\u001b[0;31m \u001b[0mwarna\u001b[0m\u001b[0;34m[\u001b[0m\u001b[0;36m0\u001b[0m\u001b[0;34m]\u001b[0m \u001b[0;34m=\u001b[0m \u001b[0;34m'RED'\u001b[0m\u001b[0;34m\u001b[0m\u001b[0;34m\u001b[0m\u001b[0m\n\u001b[0m\u001b[1;32m      4\u001b[0m \u001b[0mwarna\u001b[0m\u001b[0;34m[\u001b[0m\u001b[0;36m3\u001b[0m\u001b[0;34m]\u001b[0m \u001b[0;34m=\u001b[0m \u001b[0;34m'GREEN'\u001b[0m\u001b[0;34m\u001b[0m\u001b[0;34m\u001b[0m\u001b[0m\n\u001b[1;32m      5\u001b[0m \u001b[0mwarna\u001b[0m\u001b[0;34m[\u001b[0m\u001b[0;36m4\u001b[0m\u001b[0;34m]\u001b[0m \u001b[0;34m=\u001b[0m \u001b[0;34m'BLUE'\u001b[0m\u001b[0;34m\u001b[0m\u001b[0;34m\u001b[0m\u001b[0m\n",
            "\u001b[0;31mTypeError\u001b[0m: 'tuple' object does not support item assignment"
          ]
        }
      ]
    },
    {
      "cell_type": "code",
      "source": [
        "warna.append('black')"
      ],
      "metadata": {
        "colab": {
          "base_uri": "https://localhost:8080/",
          "height": 141
        },
        "id": "NTi0CBvNHoGv",
        "outputId": "aeb0d5bf-41cd-4926-847e-412fee15182e"
      },
      "execution_count": null,
      "outputs": [
        {
          "output_type": "error",
          "ename": "AttributeError",
          "evalue": "'tuple' object has no attribute 'append'",
          "traceback": [
            "\u001b[0;31m---------------------------------------------------------------------------\u001b[0m",
            "\u001b[0;31mAttributeError\u001b[0m                            Traceback (most recent call last)",
            "\u001b[0;32m<ipython-input-50-0a77e793678a>\u001b[0m in \u001b[0;36m<cell line: 1>\u001b[0;34m()\u001b[0m\n\u001b[0;32m----> 1\u001b[0;31m \u001b[0mwarna\u001b[0m\u001b[0;34m.\u001b[0m\u001b[0mappend\u001b[0m\u001b[0;34m(\u001b[0m\u001b[0;34m'black'\u001b[0m\u001b[0;34m)\u001b[0m\u001b[0;34m\u001b[0m\u001b[0;34m\u001b[0m\u001b[0m\n\u001b[0m",
            "\u001b[0;31mAttributeError\u001b[0m: 'tuple' object has no attribute 'append'"
          ]
        }
      ]
    },
    {
      "cell_type": "code",
      "source": [
        "warna.clear()"
      ],
      "metadata": {
        "colab": {
          "base_uri": "https://localhost:8080/",
          "height": 141
        },
        "id": "1KixfBifIAL1",
        "outputId": "f9a325e5-6260-4ec3-b902-2858140b1dd9"
      },
      "execution_count": null,
      "outputs": [
        {
          "output_type": "error",
          "ename": "AttributeError",
          "evalue": "'tuple' object has no attribute 'clear'",
          "traceback": [
            "\u001b[0;31m---------------------------------------------------------------------------\u001b[0m",
            "\u001b[0;31mAttributeError\u001b[0m                            Traceback (most recent call last)",
            "\u001b[0;32m<ipython-input-51-1c9ce434ae71>\u001b[0m in \u001b[0;36m<cell line: 1>\u001b[0;34m()\u001b[0m\n\u001b[0;32m----> 1\u001b[0;31m \u001b[0mwarna\u001b[0m\u001b[0;34m.\u001b[0m\u001b[0mclear\u001b[0m\u001b[0;34m(\u001b[0m\u001b[0;34m)\u001b[0m\u001b[0;34m\u001b[0m\u001b[0;34m\u001b[0m\u001b[0m\n\u001b[0m",
            "\u001b[0;31mAttributeError\u001b[0m: 'tuple' object has no attribute 'clear'"
          ]
        }
      ]
    },
    {
      "cell_type": "code",
      "source": [
        "#Tuple Concatenation\n",
        "gabungan = warna + angka\n",
        "gabungan"
      ],
      "metadata": {
        "colab": {
          "base_uri": "https://localhost:8080/"
        },
        "id": "6Z0-v01iIC-x",
        "outputId": "e32d266d-7c9e-4b0c-b85a-fd6d92adb72b"
      },
      "execution_count": null,
      "outputs": [
        {
          "output_type": "execute_result",
          "data": {
            "text/plain": [
              "('merah', 'jingga', 'kuning', 'hijau', 'biru', 'nila', 'ungu', 1, 2, 3, 4)"
            ]
          },
          "metadata": {},
          "execution_count": 53
        }
      ]
    },
    {
      "cell_type": "code",
      "source": [
        "#in\n",
        "\n",
        "'merah' in warna\n"
      ],
      "metadata": {
        "colab": {
          "base_uri": "https://localhost:8080/"
        },
        "id": "y4Pk21FZIfkh",
        "outputId": "b6861599-f720-4c4e-bac6-d667cb03365e"
      },
      "execution_count": null,
      "outputs": [
        {
          "output_type": "execute_result",
          "data": {
            "text/plain": [
              "True"
            ]
          },
          "metadata": {},
          "execution_count": 57
        }
      ]
    },
    {
      "cell_type": "code",
      "source": [
        "#not in\n",
        "\n",
        "'babi' not in warna\n"
      ],
      "metadata": {
        "colab": {
          "base_uri": "https://localhost:8080/"
        },
        "id": "q6xjVMHbIvVh",
        "outputId": "d32d512d-fe11-4621-b922-44139a8a943d"
      },
      "execution_count": null,
      "outputs": [
        {
          "output_type": "execute_result",
          "data": {
            "text/plain": [
              "True"
            ]
          },
          "metadata": {},
          "execution_count": 58
        }
      ]
    },
    {
      "cell_type": "code",
      "source": [
        "#index()\n",
        "\n",
        "warna.index('merah')"
      ],
      "metadata": {
        "colab": {
          "base_uri": "https://localhost:8080/"
        },
        "id": "Le-aYStgJAgW",
        "outputId": "42062901-7971-44bd-e77a-67b1a98fc3c1"
      },
      "execution_count": null,
      "outputs": [
        {
          "output_type": "execute_result",
          "data": {
            "text/plain": [
              "0"
            ]
          },
          "metadata": {},
          "execution_count": 60
        }
      ]
    },
    {
      "cell_type": "code",
      "source": [
        "#sort dan sorted\n",
        "warna.sort()\n",
        "print(warna)\n",
        "\n",
        "print(sorted(warna))\n",
        "print(warna)"
      ],
      "metadata": {
        "colab": {
          "base_uri": "https://localhost:8080/",
          "height": 211
        },
        "id": "x8pUfQT4JSiX",
        "outputId": "997e5487-bf2e-4f82-f811-863d5dbabf97"
      },
      "execution_count": null,
      "outputs": [
        {
          "output_type": "error",
          "ename": "AttributeError",
          "evalue": "'tuple' object has no attribute 'sort'",
          "traceback": [
            "\u001b[0;31m---------------------------------------------------------------------------\u001b[0m",
            "\u001b[0;31mAttributeError\u001b[0m                            Traceback (most recent call last)",
            "\u001b[0;32m<ipython-input-61-d6a15a8a434a>\u001b[0m in \u001b[0;36m<cell line: 1>\u001b[0;34m()\u001b[0m\n\u001b[0;32m----> 1\u001b[0;31m \u001b[0mwarna\u001b[0m\u001b[0;34m.\u001b[0m\u001b[0msort\u001b[0m\u001b[0;34m(\u001b[0m\u001b[0;34m)\u001b[0m\u001b[0;34m\u001b[0m\u001b[0;34m\u001b[0m\u001b[0m\n\u001b[0m\u001b[1;32m      2\u001b[0m \u001b[0mprint\u001b[0m\u001b[0;34m(\u001b[0m\u001b[0mwarna\u001b[0m\u001b[0;34m)\u001b[0m\u001b[0;34m\u001b[0m\u001b[0;34m\u001b[0m\u001b[0m\n\u001b[1;32m      3\u001b[0m \u001b[0;34m\u001b[0m\u001b[0m\n\u001b[1;32m      4\u001b[0m \u001b[0mprint\u001b[0m\u001b[0;34m(\u001b[0m\u001b[0msorted\u001b[0m\u001b[0;34m(\u001b[0m\u001b[0mwarna\u001b[0m\u001b[0;34m)\u001b[0m\u001b[0;34m)\u001b[0m\u001b[0;34m\u001b[0m\u001b[0;34m\u001b[0m\u001b[0m\n\u001b[1;32m      5\u001b[0m \u001b[0mprint\u001b[0m\u001b[0;34m(\u001b[0m\u001b[0mwarna\u001b[0m\u001b[0;34m)\u001b[0m\u001b[0;34m\u001b[0m\u001b[0;34m\u001b[0m\u001b[0m\n",
            "\u001b[0;31mAttributeError\u001b[0m: 'tuple' object has no attribute 'sort'"
          ]
        }
      ]
    },
    {
      "cell_type": "code",
      "source": [
        "#unpacing a tuple\n",
        "\n",
        "red, orange, yellow, green, blue, nila, purple = warna\n",
        "\n",
        "print(red, orange, yellow, green, blue, nila, purple)\n"
      ],
      "metadata": {
        "colab": {
          "base_uri": "https://localhost:8080/"
        },
        "id": "yYDzZN7xJnFz",
        "outputId": "847c9784-6112-4fbd-bcd1-338e70ccdc78"
      },
      "execution_count": null,
      "outputs": [
        {
          "output_type": "stream",
          "name": "stdout",
          "text": [
            "merah jingga kuning hijau biru nila ungu\n"
          ]
        }
      ]
    },
    {
      "cell_type": "markdown",
      "source": [
        "#Set\n",
        "\n",
        "Set adalah kumpulan nilai (elemen) unik yang tidak terurut. Set termasuk tipe data mutable."
      ],
      "metadata": {
        "id": "6jH9DdhrdR6a"
      }
    },
    {
      "cell_type": "markdown",
      "source": [
        "##Membuat Set\n",
        "\n",
        "Set dapat memberikan identifier dan elemen pada set. Elemen yang diberikan harus diapit dengan curly brackets { } dan dipisahkan dengan koma (,) dari elemen lainnya. Set tanpa { } akan dianggap sebagai tuple."
      ],
      "metadata": {
        "id": "wwutFXt6efCf"
      }
    },
    {
      "cell_type": "code",
      "source": [
        "A = {1, 2, 3}\n",
        "\n",
        "print(A)\n",
        "type(A)"
      ],
      "metadata": {
        "colab": {
          "base_uri": "https://localhost:8080/"
        },
        "id": "KisJ-6emKM2x",
        "outputId": "710f84ec-fd00-4255-e23a-4fb45774900a"
      },
      "execution_count": null,
      "outputs": [
        {
          "output_type": "stream",
          "name": "stdout",
          "text": [
            "{1, 2, 3}\n"
          ]
        },
        {
          "output_type": "execute_result",
          "data": {
            "text/plain": [
              "set"
            ]
          },
          "metadata": {},
          "execution_count": 4
        }
      ]
    },
    {
      "cell_type": "markdown",
      "source": [
        "Cara kedua untuk membuat set adalah dengan menggunakan function `set ()`."
      ],
      "metadata": {
        "id": "h9g9wBWOjxhv"
      }
    },
    {
      "cell_type": "code",
      "source": [
        "nama = 'febry'\n",
        "nama = set (nama)\n",
        "print (nama)\n",
        "type (nama)"
      ],
      "metadata": {
        "colab": {
          "base_uri": "https://localhost:8080/"
        },
        "id": "tko__5k8jj-m",
        "outputId": "77d73302-372e-4c4a-c1c9-2a1c76080e36"
      },
      "execution_count": null,
      "outputs": [
        {
          "output_type": "stream",
          "name": "stdout",
          "text": [
            "{'b', 'r', 'e', 'y', 'f'}\n"
          ]
        },
        {
          "output_type": "execute_result",
          "data": {
            "text/plain": [
              "set"
            ]
          },
          "metadata": {},
          "execution_count": 5
        }
      ]
    },
    {
      "cell_type": "code",
      "source": [
        "karakter = [6, 5, 2, 18, 25]\n",
        "karakter = set(karakter)\n",
        "print(karakter)\n",
        "type(karakter)"
      ],
      "metadata": {
        "colab": {
          "base_uri": "https://localhost:8080/"
        },
        "id": "e60l14rBkMA7",
        "outputId": "56fd2d74-8a23-409a-955c-20869654c69b"
      },
      "execution_count": null,
      "outputs": [
        {
          "output_type": "stream",
          "name": "stdout",
          "text": [
            "{2, 5, 6, 18, 25}\n"
          ]
        },
        {
          "output_type": "execute_result",
          "data": {
            "text/plain": [
              "set"
            ]
          },
          "metadata": {},
          "execution_count": 6
        }
      ]
    },
    {
      "cell_type": "markdown",
      "source": [
        "Set akan mengabaikan nilai-nilai yang sama (bernilai sama).\n",
        "\n",
        "\n"
      ],
      "metadata": {
        "id": "Mw3VXFqQkgma"
      }
    },
    {
      "cell_type": "code",
      "source": [
        "label = [1,1,1,1,1,0,0,0,3,3,3,3,2,2,2,0]\n",
        "label = set(label)\n",
        "print(label)"
      ],
      "metadata": {
        "colab": {
          "base_uri": "https://localhost:8080/"
        },
        "id": "mzgG-9LAkd5v",
        "outputId": "a8002f90-4506-4275-d7d0-2881f4daa0ae"
      },
      "execution_count": null,
      "outputs": [
        {
          "output_type": "stream",
          "name": "stdout",
          "text": [
            "{0, 1, 2, 3}\n"
          ]
        }
      ]
    },
    {
      "cell_type": "code",
      "source": [
        "nama = 'Yusup Hidayat Winata'\n",
        "nama = set(nama)\n",
        "print(nama)"
      ],
      "metadata": {
        "colab": {
          "base_uri": "https://localhost:8080/"
        },
        "id": "Pxqe78Umk0rV",
        "outputId": "1dc29035-661d-429e-b676-92338acb1b4e"
      },
      "execution_count": null,
      "outputs": [
        {
          "output_type": "stream",
          "name": "stdout",
          "text": [
            "{'u', ' ', 'W', 'd', 'p', 'a', 'y', 'n', 'i', 's', 'H', 't', 'Y'}\n"
          ]
        }
      ]
    },
    {
      "cell_type": "markdown",
      "source": [
        "##Set Indexing dan Slicing\n",
        "\n",
        "Cobalah lakukan indexing dan slicing pada sebuah set kemudian analisis hasilnya.\n"
      ],
      "metadata": {
        "id": "9rBFintClBOJ"
      }
    },
    {
      "cell_type": "code",
      "source": [
        "iris = {'virginica', 'versicolor', 'setosa'}\n",
        "print(iris[0])\n",
        "iris[0:1]\n"
      ],
      "metadata": {
        "colab": {
          "base_uri": "https://localhost:8080/",
          "height": 176
        },
        "id": "lpWRHXArk80B",
        "outputId": "99cfefe5-3e95-493c-ab30-ea6f8ab68171"
      },
      "execution_count": null,
      "outputs": [
        {
          "output_type": "error",
          "ename": "TypeError",
          "evalue": "'set' object is not subscriptable",
          "traceback": [
            "\u001b[0;31m---------------------------------------------------------------------------\u001b[0m",
            "\u001b[0;31mTypeError\u001b[0m                                 Traceback (most recent call last)",
            "\u001b[0;32m<ipython-input-10-26f43791ffe8>\u001b[0m in \u001b[0;36m<cell line: 2>\u001b[0;34m()\u001b[0m\n\u001b[1;32m      1\u001b[0m \u001b[0miris\u001b[0m \u001b[0;34m=\u001b[0m \u001b[0;34m{\u001b[0m\u001b[0;34m'virginica'\u001b[0m\u001b[0;34m,\u001b[0m \u001b[0;34m'versicolor'\u001b[0m\u001b[0;34m,\u001b[0m \u001b[0;34m'setosa'\u001b[0m\u001b[0;34m}\u001b[0m\u001b[0;34m\u001b[0m\u001b[0;34m\u001b[0m\u001b[0m\n\u001b[0;32m----> 2\u001b[0;31m \u001b[0mprint\u001b[0m\u001b[0;34m(\u001b[0m\u001b[0miris\u001b[0m\u001b[0;34m[\u001b[0m\u001b[0;36m0\u001b[0m\u001b[0;34m]\u001b[0m\u001b[0;34m)\u001b[0m\u001b[0;34m\u001b[0m\u001b[0;34m\u001b[0m\u001b[0m\n\u001b[0m\u001b[1;32m      3\u001b[0m \u001b[0miris\u001b[0m\u001b[0;34m[\u001b[0m\u001b[0;36m0\u001b[0m\u001b[0;34m:\u001b[0m\u001b[0;36m1\u001b[0m\u001b[0;34m]\u001b[0m\u001b[0;34m\u001b[0m\u001b[0;34m\u001b[0m\u001b[0m\n",
            "\u001b[0;31mTypeError\u001b[0m: 'set' object is not subscriptable"
          ]
        }
      ]
    },
    {
      "cell_type": "markdown",
      "source": [
        "##Manipulasi Set\n",
        "\n",
        "\n",
        "*   Elemen set dapat ditambahkan menggunakan `add()` function.\n",
        "*   Kita dapat menghapus elemen set dengan menggunakan `remove()` function.\n",
        "\n"
      ],
      "metadata": {
        "id": "rekcRp5Cl5hC"
      }
    },
    {
      "cell_type": "code",
      "source": [
        "iris = {'virginica', 'versicolor', 'setosa'}\n",
        "print(iris, '\\n')\n",
        "\n",
        "iris.add('ayame')\n",
        "iris.add('sweet')\n",
        "iris.add('confusa')\n",
        "iris.add('setosa')#tidak dianggap, karena double\n",
        "print(iris, '\\n')\n",
        "\n",
        "iris.remove('virginica')\n",
        "iris.remove('versicolor')\n",
        "iris.remove('setosa')\n",
        "print(iris, '\\n')"
      ],
      "metadata": {
        "colab": {
          "base_uri": "https://localhost:8080/"
        },
        "id": "59_5tZO3lxZ2",
        "outputId": "9e4112b4-4b85-4933-cfe8-f1194e33dc44"
      },
      "execution_count": null,
      "outputs": [
        {
          "output_type": "stream",
          "name": "stdout",
          "text": [
            "{'setosa', 'versicolor', 'virginica'} \n",
            "\n",
            "{'setosa', 'sweet', 'ayame', 'confusa', 'versicolor', 'virginica'} \n",
            "\n",
            "{'sweet', 'ayame', 'confusa'} \n",
            "\n"
          ]
        }
      ]
    },
    {
      "cell_type": "code",
      "source": [
        "iris.clear()\n",
        "print(iris)"
      ],
      "metadata": {
        "colab": {
          "base_uri": "https://localhost:8080/"
        },
        "id": "vIjkp7kvnX3V",
        "outputId": "fbff9f80-c5de-4be7-f602-c69045e40bc2"
      },
      "execution_count": null,
      "outputs": [
        {
          "output_type": "stream",
          "name": "stdout",
          "text": [
            "set()\n"
          ]
        }
      ]
    },
    {
      "cell_type": "markdown",
      "source": [
        "## Implementasi Set\n",
        "\n",
        "Salah satu implementasi set adalah melakukan operasi himpunan matematika. Contoh:\n",
        "\n",
        "![venn (2).png](data:image/png;base64,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)\n",
        "\n",
        "Sumber gambar [di sini](https://sumber.belajar.kemdikbud.go.id/repos/FileUpload/Diagram%20Venn%20&%20Guna%20-BPSMG/materi1.html).\n",
        "\n",
        "\n",
        "![sethimpunan.PNG](data:image/png;base64,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)"
      ],
      "metadata": {
        "id": "iuaU0BYBgVzR"
      }
    },
    {
      "cell_type": "code",
      "source": [
        "A = {1,2,3,5}\n",
        "B = {3,5,6,7}\n",
        "\n",
        "#A irisan B\n",
        "irisan = A.intersection(B)\n",
        "print(irisan)\n",
        "\n",
        "#A irisan B\n",
        "gabungan = A.union(B)\n",
        "print(gabungan)"
      ],
      "metadata": {
        "id": "L_AOmzzjSv9Q",
        "colab": {
          "base_uri": "https://localhost:8080/"
        },
        "outputId": "49f33f37-c30b-407f-8170-12a356cfcce7"
      },
      "execution_count": 1,
      "outputs": [
        {
          "output_type": "stream",
          "name": "stdout",
          "text": [
            "{3, 5}\n",
            "{1, 2, 3, 5, 6, 7}\n"
          ]
        }
      ]
    },
    {
      "cell_type": "markdown",
      "source": [
        "# Latihan"
      ],
      "metadata": {
        "id": "u9HtNIDxmhkC"
      }
    },
    {
      "cell_type": "markdown",
      "source": [
        "![latihanjm111.PNG](data:image/png;base64,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)\n",
        "\n",
        "1. Simpan data pada tabel di atas dalam sebuah dictionary! Lalu cetak dictionary yang sudah kamu buat!"
      ],
      "metadata": {
        "id": "nq-GeYo3JIAI"
      }
    },
    {
      "cell_type": "code",
      "source": [
        "NIK = {1990022,2001077,2002019,2002081,2005099,2006003,2006104,2008160}\n",
        "Nama = {'Herman','Badar','Clara','Rista','Riani','Afif','Riven','Endah'}\n",
        "Jenis_Kelamin = {'L','L','P','P','P','L','L','P'}\n",
        "Alamat = {'Tanggerang', 'Bekasi','Depok','Bogor','Bekasi','Karawang','Tanggerang','Jakarta'}\n",
        "Divisi = {'Machinery','Machinery','QC','QC','Compressor','Compresor','Machinery'}\n",
        "Jabatan = {'Manager','Staff','Staff','Staff','Operator','Operator','Operator','Operator'}\n",
        "Gaji_Pokok = {10000000,7500000,7000000,6500000,6000000,5500000,5500000,5000000}\n",
        "\n",
        "print(NIK)\n",
        "print(Nama)\n",
        "print(Jenis_Kelamin)\n",
        "print(Alamat)\n",
        "print(Divisi)\n",
        "print(Jabatan)\n",
        "print(Gaji_Pokok)\n"
      ],
      "metadata": {
        "colab": {
          "base_uri": "https://localhost:8080/"
        },
        "id": "t6wWs54JmfMm",
        "outputId": "d54e6307-0e42-41e9-e880-b9b32386a9d0"
      },
      "execution_count": 4,
      "outputs": [
        {
          "output_type": "stream",
          "name": "stdout",
          "text": [
            "{2008160, 2002081, 2002019, 1990022, 2005099, 2006003, 2001077, 2006104}\n",
            "{'Badar', 'Herman', 'Rista', 'Afif', 'Riven', 'Endah', 'Riani', 'Clara'}\n",
            "{'P', 'L'}\n",
            "{'Bekasi', 'Jakarta', 'Karawang', 'Tanggerang', 'Depok', 'Bogor'}\n",
            "{'Compressor', 'Compresor', 'QC', 'Machinery'}\n",
            "{'Operator', 'Staff', 'Manager'}\n",
            "{10000000, 6500000, 6000000, 7500000, 7000000, 5500000, 5000000}\n"
          ]
        }
      ]
    },
    {
      "cell_type": "code",
      "source": [],
      "metadata": {
        "id": "ZMDU7AY_psPS"
      },
      "execution_count": null,
      "outputs": []
    }
  ]
}